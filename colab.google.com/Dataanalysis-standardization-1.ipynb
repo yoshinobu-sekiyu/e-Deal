{
 "cells": [
  {
   "cell_type": "code",
   "execution_count": 91,
   "metadata": {},
   "outputs": [],
   "source": [
    "%run ../pythonfile/imports\n",
    "pyautogui.hotkey(\"Shift\", \"Enter\")"
   ]
  },
  {
   "cell_type": "code",
   "execution_count": 92,
   "metadata": {},
   "outputs": [],
   "source": [
    "from pyforest import *\n",
    "import fire\n",
    "import pythran\n",
    "import pyautogui\n",
    "import cython\n",
    "from typing import List\n",
    "pyautogui.hotkey(\"Shift\", \"Enter\")"
   ]
  },
  {
   "cell_type": "code",
   "execution_count": 93,
   "metadata": {},
   "outputs": [
    {
     "data": {
      "application/javascript": [
       "\n",
       "        if (window._pyforest_update_imports_cell) { window._pyforest_update_imports_cell('import numpy as np\\nfrom pathlib import Path\\nimport pandas as pd'); }\n",
       "    "
      ],
      "text/plain": [
       "<IPython.core.display.Javascript object>"
      ]
     },
     "metadata": {},
     "output_type": "display_data"
    },
    {
     "data": {
      "application/javascript": [
       "\n",
       "        if (window._pyforest_update_imports_cell) { window._pyforest_update_imports_cell('import numpy as np\\nfrom pathlib import Path\\nimport pandas as pd'); }\n",
       "    "
      ],
      "text/plain": [
       "<IPython.core.display.Javascript object>"
      ]
     },
     "metadata": {},
     "output_type": "display_data"
    }
   ],
   "source": [
    "p = Path(\"../datasets/Excel2013_sample\")\n",
    "paths:List = list(p.glob(\"**/*.xlsx\"))\n",
    "xl1 = pd.read_excel(paths[0])\n",
    "pyautogui.hotkey(\"Shift\", \"Enter\")"
   ]
  },
  {
   "cell_type": "code",
   "execution_count": 94,
   "metadata": {},
   "outputs": [
    {
     "data": {
      "text/html": [
       "<div>\n",
       "<style scoped>\n",
       "    .dataframe tbody tr th:only-of-type {\n",
       "        vertical-align: middle;\n",
       "    }\n",
       "\n",
       "    .dataframe tbody tr th {\n",
       "        vertical-align: top;\n",
       "    }\n",
       "\n",
       "    .dataframe thead th {\n",
       "        text-align: right;\n",
       "    }\n",
       "</style>\n",
       "<table border=\"1\" class=\"dataframe\">\n",
       "  <thead>\n",
       "    <tr style=\"text-align: right;\">\n",
       "      <th></th>\n",
       "      <th>Unnamed: 0</th>\n",
       "      <th>Unnamed: 1</th>\n",
       "      <th>Unnamed: 2</th>\n",
       "      <th>Unnamed: 3</th>\n",
       "      <th>Unnamed: 4</th>\n",
       "      <th>2013-01-25 00:00:00</th>\n",
       "    </tr>\n",
       "  </thead>\n",
       "  <tbody>\n",
       "    <tr>\n",
       "      <th>0</th>\n",
       "      <td>第4四半期東地区売上</td>\n",
       "      <td>NaN</td>\n",
       "      <td>NaN</td>\n",
       "      <td>NaN</td>\n",
       "      <td>NaN</td>\n",
       "      <td>NaN</td>\n",
       "    </tr>\n",
       "    <tr>\n",
       "      <th>1</th>\n",
       "      <td>NaN</td>\n",
       "      <td>NaN</td>\n",
       "      <td>NaN</td>\n",
       "      <td>NaN</td>\n",
       "      <td>NaN</td>\n",
       "      <td>(単位：千円)</td>\n",
       "    </tr>\n",
       "    <tr>\n",
       "      <th>2</th>\n",
       "      <td>NaN</td>\n",
       "      <td>札幌</td>\n",
       "      <td>仙台</td>\n",
       "      <td>東京</td>\n",
       "      <td>神奈川</td>\n",
       "      <td>合計</td>\n",
       "    </tr>\n",
       "    <tr>\n",
       "      <th>3</th>\n",
       "      <td>10月</td>\n",
       "      <td>1420</td>\n",
       "      <td>2210</td>\n",
       "      <td>3220</td>\n",
       "      <td>2650</td>\n",
       "      <td>9500</td>\n",
       "    </tr>\n",
       "    <tr>\n",
       "      <th>4</th>\n",
       "      <td>11月</td>\n",
       "      <td>1540</td>\n",
       "      <td>2180</td>\n",
       "      <td>3120</td>\n",
       "      <td>2460</td>\n",
       "      <td>9300</td>\n",
       "    </tr>\n",
       "    <tr>\n",
       "      <th>5</th>\n",
       "      <td>12月</td>\n",
       "      <td>1490</td>\n",
       "      <td>1910</td>\n",
       "      <td>2890</td>\n",
       "      <td>2450</td>\n",
       "      <td>8740</td>\n",
       "    </tr>\n",
       "    <tr>\n",
       "      <th>6</th>\n",
       "      <td>売上実績</td>\n",
       "      <td>4450</td>\n",
       "      <td>6300</td>\n",
       "      <td>9230</td>\n",
       "      <td>7560</td>\n",
       "      <td>27540</td>\n",
       "    </tr>\n",
       "    <tr>\n",
       "      <th>7</th>\n",
       "      <td>月平均</td>\n",
       "      <td>1483.33</td>\n",
       "      <td>2100</td>\n",
       "      <td>3076.67</td>\n",
       "      <td>2520</td>\n",
       "      <td>9180</td>\n",
       "    </tr>\n",
       "    <tr>\n",
       "      <th>8</th>\n",
       "      <td>売上目標</td>\n",
       "      <td>4500</td>\n",
       "      <td>6200</td>\n",
       "      <td>9200</td>\n",
       "      <td>7500</td>\n",
       "      <td>27400</td>\n",
       "    </tr>\n",
       "    <tr>\n",
       "      <th>9</th>\n",
       "      <td>差額</td>\n",
       "      <td>-50</td>\n",
       "      <td>100</td>\n",
       "      <td>30</td>\n",
       "      <td>60</td>\n",
       "      <td>140</td>\n",
       "    </tr>\n",
       "    <tr>\n",
       "      <th>10</th>\n",
       "      <td>達成率</td>\n",
       "      <td>0.988889</td>\n",
       "      <td>1.01613</td>\n",
       "      <td>1.00326</td>\n",
       "      <td>1.008</td>\n",
       "      <td>1.00511</td>\n",
       "    </tr>\n",
       "  </tbody>\n",
       "</table>\n",
       "</div>"
      ],
      "text/plain": [
       "    Unnamed: 0 Unnamed: 1 Unnamed: 2 Unnamed: 3 Unnamed: 4 2013-01-25 00:00:00\n",
       "0   第4四半期東地区売上        NaN        NaN        NaN        NaN                 NaN\n",
       "1          NaN        NaN        NaN        NaN        NaN             (単位：千円)\n",
       "2          NaN         札幌         仙台         東京        神奈川                  合計\n",
       "3          10月       1420       2210       3220       2650                9500\n",
       "4          11月       1540       2180       3120       2460                9300\n",
       "5          12月       1490       1910       2890       2450                8740\n",
       "6         売上実績       4450       6300       9230       7560               27540\n",
       "7          月平均    1483.33       2100    3076.67       2520                9180\n",
       "8         売上目標       4500       6200       9200       7500               27400\n",
       "9           差額        -50        100         30         60                 140\n",
       "10         達成率   0.988889    1.01613    1.00326      1.008             1.00511"
      ]
     },
     "execution_count": 94,
     "metadata": {},
     "output_type": "execute_result"
    }
   ],
   "source": [
    "xl1"
   ]
  },
  {
   "cell_type": "markdown",
   "metadata": {},
   "source": [
    "### 行列・ベクトルの操作"
   ]
  },
  {
   "cell_type": "markdown",
   "metadata": {},
   "source": [
    "#### - transpose：転置\n",
    "\n",
    "##### [転置行列の性質](https://mathtrain.jp/transpose)\n",
    "\n",
    "・（転置行列のトレース，行列式）任意の正方行列 A に対して，\n",
    "\n",
    "1． $\\operatorname { tr } A ^ { \\top } = \\operatorname { tr } A$\n",
    "\n",
    "2． $\\operatorname { det } A ^ { \\top } = \\operatorname { det } A$\n",
    "\n",
    "・（転置行列の積）積 AB が定義できるサイズのとき\n",
    "\n",
    "3．$( A B ) ^ { \\top } = B ^ { \\top } A ^ { \\top }$\n",
    "\n",
    "・（転置行列の逆行列）A が正則なとき，\n",
    "\n",
    "4．$\\left( A ^ { \\top } \\right) ^ { - 1 } = \\left( A ^ { - 1 } \\right) ^ { \\top }$"
   ]
  },
  {
   "cell_type": "code",
   "execution_count": 48,
   "metadata": {},
   "outputs": [
    {
     "data": {
      "text/plain": [
       "(11,)"
      ]
     },
     "execution_count": 48,
     "metadata": {},
     "output_type": "execute_result"
    }
   ],
   "source": [
    "arr1 = xl1[\"Unnamed: 1\"]\n",
    "arr1.shape"
   ]
  },
  {
   "cell_type": "markdown",
   "metadata": {},
   "source": [
    "#### - インデックスによる要素アクセス（Ingteger array indexing）\n",
    "\n",
    "インデックスを示す配列を与えてやることで、配列の一部を抽出することができます。\n",
    "\n",
    "参考：(Advanced Indexing) http://docs.scipy.org/doc/numpy-1.10.0/reference/arrays.indexing.html"
   ]
  },
  {
   "cell_type": "code",
   "execution_count": 49,
   "metadata": {},
   "outputs": [
    {
     "data": {
      "text/plain": [
       "0          0\n",
       "7    1483.33\n",
       "0          0\n",
       "1          0\n",
       "Name: Unnamed: 1, dtype: object"
      ]
     },
     "execution_count": 49,
     "metadata": {},
     "output_type": "execute_result"
    }
   ],
   "source": [
    "arr1[[0, 7, 0, 1]]"
   ]
  },
  {
   "cell_type": "code",
   "execution_count": 50,
   "metadata": {},
   "outputs": [
    {
     "data": {
      "text/plain": [
       "0           0\n",
       "1           0\n",
       "2           0\n",
       "3        2840\n",
       "4        3080\n",
       "5        2980\n",
       "6        8900\n",
       "7     2966.67\n",
       "8        9000\n",
       "9        -100\n",
       "10    1.97778\n",
       "Name: Unnamed: 1, dtype: object"
      ]
     },
     "execution_count": 50,
     "metadata": {},
     "output_type": "execute_result"
    }
   ],
   "source": [
    "arr1 * 2"
   ]
  },
  {
   "cell_type": "markdown",
   "metadata": {},
   "source": [
    "#### - 集約演算 (sum, mean, max, minなど)\n",
    "\n",
    "集約演算では、何も指定しなければ対象全体に対して演算を考えます。\n",
    "\n",
    "引数として `axis` を指定すれば、その軸に沿って演算を行うことができます。\n",
    "\n",
    "例えば、`x.shape=(2,3,4)` について考えると、\n",
    "\n",
    "- `axis=0`：`x[0,:,:]`と`x[1,:,:]`の(3,4)x2について要素ごとに演算\n",
    "\n",
    "- `axis=1`：`x[:,0,:]`と`x[:,1,:]`と`x[:,2,:]`の(2,4)x3について要素ごとに演算\n",
    "\n",
    "- `axis=2`：`x[:,:,0]`と`x[:,:,1]`と`x[:,:,2]`と`x[:,:,3]`の(2,3)x4について要素ごとに演算"
   ]
  },
  {
   "cell_type": "code",
   "execution_count": 82,
   "metadata": {},
   "outputs": [
    {
     "name": "stdout",
     "output_type": "stream",
     "text": [
      "0            0\n",
      "1            0\n",
      "2            0\n",
      "3         1420\n",
      "4         1540\n",
      "5         1490\n",
      "6         4450\n",
      "7      1483.33\n",
      "8         4500\n",
      "9          -50\n",
      "10    0.988889\n",
      "Name: Unnamed: 1, dtype: object \n",
      " 14833\n"
     ]
    }
   ],
   "source": [
    "@cython.cfunc\n",
    "def TypeInt(array):\n",
    "    sums:int = 0\n",
    "    counter:int = 0\n",
    "    for i in array:\n",
    "        try:\n",
    "            sums += int(i)\n",
    "        except:\n",
    "            array[counter] = 0\n",
    "            pass\n",
    "        counter += 1\n",
    "    return array, sums\n",
    "\n",
    "\n",
    "converted1 ,sum1 = TypeInt(arr1)\n",
    "print(converted1,\"\\n\", sum1)"
   ]
  },
  {
   "cell_type": "code",
   "execution_count": 78,
   "metadata": {},
   "outputs": [
    {
     "data": {
      "text/plain": [
       "(1348.5747474747475, 4500, -50)"
      ]
     },
     "execution_count": 78,
     "metadata": {},
     "output_type": "execute_result"
    }
   ],
   "source": [
    "arr1.mean(), arr1.max(), arr1.min()"
   ]
  },
  {
   "cell_type": "code",
   "execution_count": 36,
   "metadata": {},
   "outputs": [
    {
     "data": {
      "application/javascript": [
       "\n",
       "        if (window._pyforest_update_imports_cell) { window._pyforest_update_imports_cell('import numpy as np\\nfrom pathlib import Path\\nimport pandas as pd'); }\n",
       "    "
      ],
      "text/plain": [
       "<IPython.core.display.Javascript object>"
      ]
     },
     "metadata": {},
     "output_type": "display_data"
    },
    {
     "data": {
      "text/plain": [
       "6990.234527945326"
      ]
     },
     "execution_count": 36,
     "metadata": {},
     "output_type": "execute_result"
    }
   ],
   "source": [
    "# Squared norm\n",
    "np.linalg.norm(arr1, ord=2)"
   ]
  },
  {
   "cell_type": "code",
   "execution_count": 47,
   "metadata": {},
   "outputs": [
    {
     "data": {
      "text/plain": [
       "0         NaN\n",
       "1     (単位：千円)\n",
       "2          合計\n",
       "3        9500\n",
       "4        9300\n",
       "5        8740\n",
       "6       27540\n",
       "7        9180\n",
       "8       27400\n",
       "9         140\n",
       "10    1.00511\n",
       "Name: 2013-01-25 00:00:00, dtype: object"
      ]
     },
     "execution_count": 47,
     "metadata": {},
     "output_type": "execute_result"
    }
   ],
   "source": [
    "arr2 = xl1[xl1.columns[-1]]\n",
    "arr2"
   ]
  },
  {
   "cell_type": "code",
   "execution_count": 83,
   "metadata": {},
   "outputs": [
    {
     "name": "stdout",
     "output_type": "stream",
     "text": [
      "0           0\n",
      "1           0\n",
      "2           0\n",
      "3        9500\n",
      "4        9300\n",
      "5        8740\n",
      "6       27540\n",
      "7        9180\n",
      "8       27400\n",
      "9         140\n",
      "10    1.00511\n",
      "Name: 2013-01-25 00:00:00, dtype: object \n",
      " 91801\n"
     ]
    }
   ],
   "source": [
    "converted2, sum2 = TypeInt(arr2)\n",
    "\n",
    "print(converted2,\"\\n\", sum2)"
   ]
  },
  {
   "cell_type": "code",
   "execution_count": 84,
   "metadata": {},
   "outputs": [
    {
     "data": {
      "application/javascript": [
       "\n",
       "        if (window._pyforest_update_imports_cell) { window._pyforest_update_imports_cell('import numpy as np\\nfrom pathlib import Path\\nimport pandas as pd'); }\n",
       "    "
      ],
      "text/plain": [
       "<IPython.core.display.Javascript object>"
      ]
     },
     "metadata": {},
     "output_type": "display_data"
    },
    {
     "data": {
      "text/plain": [
       "array([0, 0, 0, 1420, 1540, 1490, 4450, 1483.3333333333333, 4500, -50,\n",
       "       0.9888888888888889, 0, 0, 0, 9500, 9300, 8740, 27540, 9180, 27400,\n",
       "       140, 1.005109489051095], dtype=object)"
      ]
     },
     "execution_count": 84,
     "metadata": {},
     "output_type": "execute_result"
    }
   ],
   "source": [
    "# Concatenating arrays\n",
    "mat = np.hstack((converted1, converted2))\n",
    "mat"
   ]
  },
  {
   "cell_type": "code",
   "execution_count": 68,
   "metadata": {},
   "outputs": [
    {
     "data": {
      "text/plain": [
       "array([[0, 0, 0, 1420, 1540, 1490, 4450, 1483.3333333333333, 4500, -50,\n",
       "        0.9888888888888889],\n",
       "       [0, 0, 0, 9500, 9300, 8740, 27540, 9180, 27400, 140,\n",
       "        1.005109489051095]], dtype=object)"
      ]
     },
     "execution_count": 68,
     "metadata": {},
     "output_type": "execute_result"
    }
   ],
   "source": [
    "mat2 = mat.reshape(2, 11)\n",
    "mat2"
   ]
  },
  {
   "cell_type": "markdown",
   "metadata": {},
   "source": [
    "#### - 行列積・テンソル積（matmul (dot), tensordot, einsum）\n",
    "- matmul  \n",
    "  行列積や行列とベクトルの積にはmatmulを使用するのが最も簡単です。  \n",
    "  $$C = AB \\Leftrightarrow c_{ik} = \\sum_{j} a_{ij}b_{jk}$$\n",
    "  3階以上のテンソルの積にも使用可能ですが、テンソルは末尾の（2階）行列のリストとして解釈され、\n",
    "  \n",
    "  その各々について行列積を取るという実装になっています。\n",
    "<br />\n",
    "<br />\n",
    "- dot  \n",
    "  matmulと同様の機能を提供する関数としてdotもよく使用されます。  \n",
    "\n",
    "  行列やベクトルしか関係しない計算の場合、matmulとdotに差はありません。\n",
    "  \n",
    "  matmulとdotの差は3階以上のテンソルが絡む計算において現れることになりますが、ここでは省略します。（理由は後述）\n",
    "<br />\n",
    "<br />\n",
    "- tensordot  \n",
    "  テンソル積には積和を取る軸を指定できるtensordotを使用します（`C = np.tensordot(A, B, axes = ?)`）\n",
    "  \n",
    "  例えばA,Bがそれぞれ3階のテンソルの時は\n",
    "  \n",
    "  `axes=0`：$c_{ijklmn} = a_{ijk}b_{lmn}$\n",
    "  \n",
    "  `axes=1`：$c_{ijlm} = \\sum_{k} a_{ijk}b_{klm}$\n",
    "  \n",
    "  `axes=2 (default)`：$c_{il} = \\sum_{j,k} a_{ijk}b_{jkl} \\left(\\neq \\sum_{j,k} a_{ijk}b_{kjl}\\right)$\n",
    "  \n",
    "  ※ 他にもより直接的に軸を指定する方法もありますがここでは省略します\n",
    "<br />\n",
    "<br />\n",
    "- einsum  \n",
    "  テンソル積一般を表現でき、表現力の意味では最も強力です。（byアインシュタインの縮約規則）\n",
    "  \n",
    "  このeinsumがあればtraceやtransposeはもちろん、これまでに扱ったmatmulやtensordotも実現可能できてしまいます。（※要使い分け）\n",
    "  \n",
    "  重要なのは、einsumでは2テンソル間の演算だけでなく3つ以上のテンソル間の演算も一度に実現可能であることでしょう。\n",
    "  \n",
    "  なお、積和の式が与えられた時のeinsumの表現は一般に次のようにして得ることができます（例：$c_{ik} = \\sum_{j} a_{ij}\\times b_{jk}$）\n",
    "  1. 変数名を消す（例：$ik = \\sum_{j} ij \\times jk$）\n",
    "  2. 積（$\\times$）をカンマで置き換える（例：$ik = \\sum_{j} ij, jk$）\n",
    "  3. シグマを消す（例：$ik = ij, jk$）\n",
    "  4. 左辺右辺を反転させ、等号を->にする（例：$ij, jk -> ik$）\n",
    "  \n",
    "  （例）\n",
    "  \n",
    "  `np.einsum('ij,jk->ik', A, B)`：行列積$\\sum_{j} a_{ij}b_{jk}$\n",
    "  \n",
    "  `np.einsum('i,i->', v, u)`：ベクトルの内積$\\sum_{i} v_{i}u_{i}$\n",
    "\n",
    "参考：\n",
    "- https://docs.scipy.org/doc/numpy/reference/generated/numpy.matmul.html\n",
    "- https://docs.scipy.org/doc/numpy/reference/generated/numpy.tensordot.html\n",
    "- https://docs.scipy.org/doc/numpy/reference/generated/numpy.einsum.html"
   ]
  },
  {
   "cell_type": "code",
   "execution_count": 85,
   "metadata": {},
   "outputs": [
    {
     "data": {
      "application/javascript": [
       "\n",
       "        if (window._pyforest_update_imports_cell) { window._pyforest_update_imports_cell('import numpy as np\\nfrom pathlib import Path\\nimport pandas as pd'); }\n",
       "    "
      ],
      "text/plain": [
       "<IPython.core.display.Javascript object>"
      ]
     },
     "metadata": {},
     "output_type": "display_data"
    },
    {
     "data": {
      "text/plain": [
       "array([48863378.75567901, 300297600.9939416], dtype=object)"
      ]
     },
     "execution_count": 85,
     "metadata": {},
     "output_type": "execute_result"
    }
   ],
   "source": [
    "# matmul\n",
    "np.matmul(mat2, converted1)"
   ]
  },
  {
   "cell_type": "code",
   "execution_count": 86,
   "metadata": {},
   "outputs": [
    {
     "data": {
      "application/javascript": [
       "\n",
       "        if (window._pyforest_update_imports_cell) { window._pyforest_update_imports_cell('import numpy as np\\nfrom pathlib import Path\\nimport pandas as pd'); }\n",
       "    "
      ],
      "text/plain": [
       "<IPython.core.display.Javascript object>"
      ]
     },
     "metadata": {},
     "output_type": "display_data"
    },
    {
     "data": {
      "text/plain": [
       "array([48863378.75567901, 300297600.9939416], dtype=object)"
      ]
     },
     "execution_count": 86,
     "metadata": {},
     "output_type": "execute_result"
    }
   ],
   "source": [
    "# dot\n",
    "np.dot(mat2, converted1)"
   ]
  },
  {
   "cell_type": "code",
   "execution_count": 76,
   "metadata": {},
   "outputs": [
    {
     "data": {
      "application/javascript": [
       "\n",
       "        if (window._pyforest_update_imports_cell) { window._pyforest_update_imports_cell('import numpy as np\\nfrom pathlib import Path\\nimport pandas as pd'); }\n",
       "    "
      ],
      "text/plain": [
       "<IPython.core.display.Javascript object>"
      ]
     },
     "metadata": {},
     "output_type": "display_data"
    },
    {
     "data": {
      "application/javascript": [
       "\n",
       "        if (window._pyforest_update_imports_cell) { window._pyforest_update_imports_cell('import numpy as np\\nfrom pathlib import Path\\nimport pandas as pd'); }\n",
       "    "
      ],
      "text/plain": [
       "<IPython.core.display.Javascript object>"
      ]
     },
     "metadata": {},
     "output_type": "display_data"
    },
    {
     "data": {
      "application/javascript": [
       "\n",
       "        if (window._pyforest_update_imports_cell) { window._pyforest_update_imports_cell('import numpy as np\\nfrom pathlib import Path\\nimport pandas as pd'); }\n",
       "    "
      ],
      "text/plain": [
       "<IPython.core.display.Javascript object>"
      ]
     },
     "metadata": {},
     "output_type": "display_data"
    },
    {
     "name": "stdout",
     "output_type": "stream",
     "text": [
      "(2, 4)\n"
     ]
    },
    {
     "data": {
      "application/javascript": [
       "\n",
       "        if (window._pyforest_update_imports_cell) { window._pyforest_update_imports_cell('import numpy as np\\nfrom pathlib import Path\\nimport pandas as pd'); }\n",
       "    "
      ],
      "text/plain": [
       "<IPython.core.display.Javascript object>"
      ]
     },
     "metadata": {},
     "output_type": "display_data"
    },
    {
     "name": "stdout",
     "output_type": "stream",
     "text": [
      "(2, 3, 3, 4)\n"
     ]
    },
    {
     "data": {
      "application/javascript": [
       "\n",
       "        if (window._pyforest_update_imports_cell) { window._pyforest_update_imports_cell('import numpy as np\\nfrom pathlib import Path\\nimport pandas as pd'); }\n",
       "    "
      ],
      "text/plain": [
       "<IPython.core.display.Javascript object>"
      ]
     },
     "metadata": {},
     "output_type": "display_data"
    },
    {
     "name": "stdout",
     "output_type": "stream",
     "text": [
      "(2, 3, 3, 3, 3, 4)\n"
     ]
    }
   ],
   "source": [
    "# tensordot\n",
    "A = np.arange(18).reshape(2,3,3)\n",
    "B = np.arange(36).reshape(3,3,4)\n",
    "\n",
    "print(np.tensordot(A, B).shape)\n",
    "print(np.tensordot(A, B, axes=1).shape)\n",
    "print(np.tensordot(A, B, axes=0).shape)"
   ]
  },
  {
   "cell_type": "code",
   "execution_count": 75,
   "metadata": {},
   "outputs": [
    {
     "data": {
      "application/javascript": [
       "\n",
       "        if (window._pyforest_update_imports_cell) { window._pyforest_update_imports_cell('import numpy as np\\nfrom pathlib import Path\\nimport pandas as pd'); }\n",
       "    "
      ],
      "text/plain": [
       "<IPython.core.display.Javascript object>"
      ]
     },
     "metadata": {},
     "output_type": "display_data"
    },
    {
     "data": {
      "application/javascript": [
       "\n",
       "        if (window._pyforest_update_imports_cell) { window._pyforest_update_imports_cell('import numpy as np\\nfrom pathlib import Path\\nimport pandas as pd'); }\n",
       "    "
      ],
      "text/plain": [
       "<IPython.core.display.Javascript object>"
      ]
     },
     "metadata": {},
     "output_type": "display_data"
    },
    {
     "data": {
      "application/javascript": [
       "\n",
       "        if (window._pyforest_update_imports_cell) { window._pyforest_update_imports_cell('import numpy as np\\nfrom pathlib import Path\\nimport pandas as pd'); }\n",
       "    "
      ],
      "text/plain": [
       "<IPython.core.display.Javascript object>"
      ]
     },
     "metadata": {},
     "output_type": "display_data"
    },
    {
     "data": {
      "application/javascript": [
       "\n",
       "        if (window._pyforest_update_imports_cell) { window._pyforest_update_imports_cell('import numpy as np\\nfrom pathlib import Path\\nimport pandas as pd'); }\n",
       "    "
      ],
      "text/plain": [
       "<IPython.core.display.Javascript object>"
      ]
     },
     "metadata": {},
     "output_type": "display_data"
    },
    {
     "name": "stdout",
     "output_type": "stream",
     "text": [
      "60\n"
     ]
    },
    {
     "data": {
      "application/javascript": [
       "\n",
       "        if (window._pyforest_update_imports_cell) { window._pyforest_update_imports_cell('import numpy as np\\nfrom pathlib import Path\\nimport pandas as pd'); }\n",
       "    "
      ],
      "text/plain": [
       "<IPython.core.display.Javascript object>"
      ]
     },
     "metadata": {},
     "output_type": "display_data"
    },
    {
     "name": "stdout",
     "output_type": "stream",
     "text": [
      "60\n",
      "\n"
     ]
    },
    {
     "data": {
      "application/javascript": [
       "\n",
       "        if (window._pyforest_update_imports_cell) { window._pyforest_update_imports_cell('import numpy as np\\nfrom pathlib import Path\\nimport pandas as pd'); }\n",
       "    "
      ],
      "text/plain": [
       "<IPython.core.display.Javascript object>"
      ]
     },
     "metadata": {},
     "output_type": "display_data"
    },
    {
     "name": "stdout",
     "output_type": "stream",
     "text": [
      "[[ 0  5 10 15 20]\n",
      " [ 1  6 11 16 21]\n",
      " [ 2  7 12 17 22]\n",
      " [ 3  8 13 18 23]\n",
      " [ 4  9 14 19 24]]\n",
      "[[ 0  5 10 15 20]\n",
      " [ 1  6 11 16 21]\n",
      " [ 2  7 12 17 22]\n",
      " [ 3  8 13 18 23]\n",
      " [ 4  9 14 19 24]]\n",
      "\n"
     ]
    },
    {
     "data": {
      "application/javascript": [
       "\n",
       "        if (window._pyforest_update_imports_cell) { window._pyforest_update_imports_cell('import numpy as np\\nfrom pathlib import Path\\nimport pandas as pd'); }\n",
       "    "
      ],
      "text/plain": [
       "<IPython.core.display.Javascript object>"
      ]
     },
     "metadata": {},
     "output_type": "display_data"
    },
    {
     "name": "stdout",
     "output_type": "stream",
     "text": [
      "40\n"
     ]
    },
    {
     "data": {
      "application/javascript": [
       "\n",
       "        if (window._pyforest_update_imports_cell) { window._pyforest_update_imports_cell('import numpy as np\\nfrom pathlib import Path\\nimport pandas as pd'); }\n",
       "    "
      ],
      "text/plain": [
       "<IPython.core.display.Javascript object>"
      ]
     },
     "metadata": {},
     "output_type": "display_data"
    },
    {
     "name": "stdout",
     "output_type": "stream",
     "text": [
      "40\n",
      "\n"
     ]
    },
    {
     "data": {
      "application/javascript": [
       "\n",
       "        if (window._pyforest_update_imports_cell) { window._pyforest_update_imports_cell('import numpy as np\\nfrom pathlib import Path\\nimport pandas as pd'); }\n",
       "    "
      ],
      "text/plain": [
       "<IPython.core.display.Javascript object>"
      ]
     },
     "metadata": {},
     "output_type": "display_data"
    },
    {
     "name": "stdout",
     "output_type": "stream",
     "text": [
      "[ 0  6 12 18 24]\n"
     ]
    },
    {
     "data": {
      "application/javascript": [
       "\n",
       "        if (window._pyforest_update_imports_cell) { window._pyforest_update_imports_cell('import numpy as np\\nfrom pathlib import Path\\nimport pandas as pd'); }\n",
       "    "
      ],
      "text/plain": [
       "<IPython.core.display.Javascript object>"
      ]
     },
     "metadata": {},
     "output_type": "display_data"
    },
    {
     "name": "stdout",
     "output_type": "stream",
     "text": [
      "[ 0  6 12 18 24]\n",
      "\n"
     ]
    },
    {
     "data": {
      "application/javascript": [
       "\n",
       "        if (window._pyforest_update_imports_cell) { window._pyforest_update_imports_cell('import numpy as np\\nfrom pathlib import Path\\nimport pandas as pd'); }\n",
       "    "
      ],
      "text/plain": [
       "<IPython.core.display.Javascript object>"
      ]
     },
     "metadata": {},
     "output_type": "display_data"
    },
    {
     "name": "stdout",
     "output_type": "stream",
     "text": [
      "[50 55 60 65 70]\n"
     ]
    },
    {
     "data": {
      "application/javascript": [
       "\n",
       "        if (window._pyforest_update_imports_cell) { window._pyforest_update_imports_cell('import numpy as np\\nfrom pathlib import Path\\nimport pandas as pd'); }\n",
       "    "
      ],
      "text/plain": [
       "<IPython.core.display.Javascript object>"
      ]
     },
     "metadata": {},
     "output_type": "display_data"
    },
    {
     "name": "stdout",
     "output_type": "stream",
     "text": [
      "[50 55 60 65 70]\n",
      "\n"
     ]
    },
    {
     "data": {
      "application/javascript": [
       "\n",
       "        if (window._pyforest_update_imports_cell) { window._pyforest_update_imports_cell('import numpy as np\\nfrom pathlib import Path\\nimport pandas as pd'); }\n",
       "    "
      ],
      "text/plain": [
       "<IPython.core.display.Javascript object>"
      ]
     },
     "metadata": {},
     "output_type": "display_data"
    },
    {
     "name": "stdout",
     "output_type": "stream",
     "text": [
      "[ 30  80 130 180 230]\n"
     ]
    },
    {
     "data": {
      "application/javascript": [
       "\n",
       "        if (window._pyforest_update_imports_cell) { window._pyforest_update_imports_cell('import numpy as np\\nfrom pathlib import Path\\nimport pandas as pd'); }\n",
       "    "
      ],
      "text/plain": [
       "<IPython.core.display.Javascript object>"
      ]
     },
     "metadata": {},
     "output_type": "display_data"
    },
    {
     "name": "stdout",
     "output_type": "stream",
     "text": [
      "[ 30  80 130 180 230]\n",
      "\n"
     ]
    },
    {
     "data": {
      "application/javascript": [
       "\n",
       "        if (window._pyforest_update_imports_cell) { window._pyforest_update_imports_cell('import numpy as np\\nfrom pathlib import Path\\nimport pandas as pd'); }\n",
       "    "
      ],
      "text/plain": [
       "<IPython.core.display.Javascript object>"
      ]
     },
     "metadata": {},
     "output_type": "display_data"
    },
    {
     "name": "stdout",
     "output_type": "stream",
     "text": [
      "[[ 0  0  0  0  0]\n",
      " [ 1  2  3  4  5]\n",
      " [ 2  4  6  8 10]\n",
      " [ 3  6  9 12 15]\n",
      " [ 4  8 12 16 20]]\n"
     ]
    },
    {
     "data": {
      "application/javascript": [
       "\n",
       "        if (window._pyforest_update_imports_cell) { window._pyforest_update_imports_cell('import numpy as np\\nfrom pathlib import Path\\nimport pandas as pd'); }\n",
       "    "
      ],
      "text/plain": [
       "<IPython.core.display.Javascript object>"
      ]
     },
     "metadata": {},
     "output_type": "display_data"
    },
    {
     "name": "stdout",
     "output_type": "stream",
     "text": [
      "[[ 0  0  0  0  0]\n",
      " [ 1  2  3  4  5]\n",
      " [ 2  4  6  8 10]\n",
      " [ 3  6  9 12 15]\n",
      " [ 4  8 12 16 20]]\n",
      "\n"
     ]
    },
    {
     "data": {
      "application/javascript": [
       "\n",
       "        if (window._pyforest_update_imports_cell) { window._pyforest_update_imports_cell('import numpy as np\\nfrom pathlib import Path\\nimport pandas as pd'); }\n",
       "    "
      ],
      "text/plain": [
       "<IPython.core.display.Javascript object>"
      ]
     },
     "metadata": {},
     "output_type": "display_data"
    },
    {
     "data": {
      "application/javascript": [
       "\n",
       "        if (window._pyforest_update_imports_cell) { window._pyforest_update_imports_cell('import numpy as np\\nfrom pathlib import Path\\nimport pandas as pd'); }\n",
       "    "
      ],
      "text/plain": [
       "<IPython.core.display.Javascript object>"
      ]
     },
     "metadata": {},
     "output_type": "display_data"
    },
    {
     "data": {
      "application/javascript": [
       "\n",
       "        if (window._pyforest_update_imports_cell) { window._pyforest_update_imports_cell('import numpy as np\\nfrom pathlib import Path\\nimport pandas as pd'); }\n",
       "    "
      ],
      "text/plain": [
       "<IPython.core.display.Javascript object>"
      ]
     },
     "metadata": {},
     "output_type": "display_data"
    },
    {
     "name": "stdout",
     "output_type": "stream",
     "text": [
      "[[10 28 46 64]\n",
      " [13 40 67 94]]\n"
     ]
    },
    {
     "data": {
      "application/javascript": [
       "\n",
       "        if (window._pyforest_update_imports_cell) { window._pyforest_update_imports_cell('import numpy as np\\nfrom pathlib import Path\\nimport pandas as pd'); }\n",
       "    "
      ],
      "text/plain": [
       "<IPython.core.display.Javascript object>"
      ]
     },
     "metadata": {},
     "output_type": "display_data"
    },
    {
     "name": "stdout",
     "output_type": "stream",
     "text": [
      "[[10 28 46 64]\n",
      " [13 40 67 94]]\n",
      "\n"
     ]
    },
    {
     "data": {
      "application/javascript": [
       "\n",
       "        if (window._pyforest_update_imports_cell) { window._pyforest_update_imports_cell('import numpy as np\\nfrom pathlib import Path\\nimport pandas as pd'); }\n",
       "    "
      ],
      "text/plain": [
       "<IPython.core.display.Javascript object>"
      ]
     },
     "metadata": {},
     "output_type": "display_data"
    },
    {
     "data": {
      "application/javascript": [
       "\n",
       "        if (window._pyforest_update_imports_cell) { window._pyforest_update_imports_cell('import numpy as np\\nfrom pathlib import Path\\nimport pandas as pd'); }\n",
       "    "
      ],
      "text/plain": [
       "<IPython.core.display.Javascript object>"
      ]
     },
     "metadata": {},
     "output_type": "display_data"
    },
    {
     "data": {
      "application/javascript": [
       "\n",
       "        if (window._pyforest_update_imports_cell) { window._pyforest_update_imports_cell('import numpy as np\\nfrom pathlib import Path\\nimport pandas as pd'); }\n",
       "    "
      ],
      "text/plain": [
       "<IPython.core.display.Javascript object>"
      ]
     },
     "metadata": {},
     "output_type": "display_data"
    },
    {
     "name": "stdout",
     "output_type": "stream",
     "text": [
      "[[ 816  852  888  924]\n",
      " [2112 2229 2346 2463]]\n"
     ]
    },
    {
     "data": {
      "application/javascript": [
       "\n",
       "        if (window._pyforest_update_imports_cell) { window._pyforest_update_imports_cell('import numpy as np\\nfrom pathlib import Path\\nimport pandas as pd'); }\n",
       "    "
      ],
      "text/plain": [
       "<IPython.core.display.Javascript object>"
      ]
     },
     "metadata": {},
     "output_type": "display_data"
    },
    {
     "name": "stdout",
     "output_type": "stream",
     "text": [
      "[[ 816  852  888  924]\n",
      " [2112 2229 2346 2463]]\n"
     ]
    }
   ],
   "source": [
    "# einsum\n",
    "A = np.arange(25).reshape(5,5)\n",
    "b = np.arange(5)\n",
    "b2 = np.arange(5) + 1\n",
    "\n",
    "# トレース\n",
    "print(np.einsum('ii', A))   # C = \\sum_{i} a_{ii}\n",
    "print(np.trace(A))\n",
    "print()\n",
    "\n",
    "# 転置\n",
    "print(np.einsum('ji', A))   # c_{ij} = a_{ji}\n",
    "print(A.T)\n",
    "print()\n",
    "\n",
    "# 内積\n",
    "print(np.einsum('i,i', b, b2))  # C = \\sum_{i} b_{i}*b2_{i}\n",
    "print(np.inner(b, b2))\n",
    "print()\n",
    "\n",
    "# 対角成分\n",
    "print(np.einsum('ii->i', A))    # c_{i} = a_{ii}\n",
    "print(np.diag(A))\n",
    "print()\n",
    "\n",
    "# 軸指定和\n",
    "print(np.einsum('ij->j', A))    # c_{j} = \\sum_{i} a_{ij}\n",
    "print(np.sum(A, axis=0))\n",
    "print()\n",
    "\n",
    "# 行列ベクトル積\n",
    "print(np.einsum('ij,j->i', A, b))   # c_{i} = \\sum_{j} a_{ij}*b_{j}\n",
    "print(np.matmul(A, b))\n",
    "print()\n",
    "\n",
    "# outer product（いわゆる直積で、クロス積ではない）\n",
    "print(np.einsum('i,j->ij', b, b2))  # c_{ij} = b_{i}*b2_{j}\n",
    "print(np.outer(b, b2))\n",
    "print()\n",
    "\n",
    "# 行列積（matmul）\n",
    "A = np.arange(6).reshape((3,2))\n",
    "B = np.arange(12).reshape((4,3))\n",
    "print(np.einsum('ij,ki->jk', A, B))     # c_{jk} = \\sum_{i} a_{ij}*b_{ki}\n",
    "print(np.matmul(A.T, B.T))\n",
    "print()\n",
    "\n",
    "# テンソル積（tensordot）\n",
    "A = np.arange(18).reshape(2,3,3)\n",
    "B = np.arange(36).reshape(3,3,4)\n",
    "print(np.einsum('ijk,jkl->il', A, B))   # c_{il} = \\sum_{j,k} a_{ijk}*b_{jkl}\n",
    "print(np.tensordot(A, B))"
   ]
  },
  {
   "cell_type": "markdown",
   "metadata": {},
   "source": [
    "#### !!! 注意 !!!（einsumとnewaxisや他の関数の使い分け）\n",
    "einsumは先程の通り柔軟な表現力を持つ大変強力な関数ですから、\n",
    "\n",
    "「einsumさえあればnewaxisによるBroadcastingやmatmulなど他の関数は不要だ」\n",
    "\n",
    "と感じる人もいるかもしれません。ですが、\n",
    "\n",
    "- 既に行列やベクトルの演算に対してはnewaxisを用いる方法やmatmul等の特定の演算用の関数が普及している\n",
    "\n",
    "- 通常の行列やベクトルの演算にeinsumで対応するのは大げさで、コードも長くなりがち\n",
    "\n",
    "等の理由からeinsumの濫用は望ましくありません。ただやはり、\n",
    "\n",
    "- テンソルの演算に限れば、einsumとそれ以外の普及度の差が小さい\n",
    "\n",
    "- テンソルの演算では大概演算が複雑で、newaxisやmatmul等の関数を使用すると演算内容が分かりずらく、コードの健全性を損ねる\n",
    "\n",
    "というのも事実です。そこで本講座では\n",
    "\n",
    "- 演算結果が行列やベクトル＝newaxisやmatmul等の関数\n",
    "\n",
    "- 演算結果が(3階以上の)テンソル＝einsum\n",
    "\n",
    "という使い分けの基準に沿って進めていきます。\n",
    "\n",
    "(matmulとdotは3階以上のテンソルが出現する場合に違いが現れますが、こうした場合einsumを使用するべきでしょう)\n",
    "\n",
    "### Broadcasting\n",
    "\n",
    "#### - 概要\n",
    "\n",
    "次元（や次元の長さ）の違う行列やベクトル間で、計算が成立するように\"うまく\"次元（や次元の長さ）を拡張してくれる機能。\n",
    "\n",
    "例えば、`W.shape = (M,N)`, `x.shape = (1,N)`の場合、`W+x` は本来そのままでは計算できません。(`∵ W.shape ≠ x.shape`)\n",
    "\n",
    "numpyでは暗黙に`x`について (1,N) => (M, N) と `x` をM回複製する事で `x` を `W` の`shape`に合わせてくれます。\n",
    "\n",
    "※ 通常のN要素配列の`shape`は(N,)ですが、Broadcastingに際しては行ベクトル(1,N)として解釈されます（numpyのみ）\n",
    "\n",
    "参考：\n",
    "- https://docs.scipy.org/doc/numpy/user/basics.broadcasting.html\n",
    "- http://sucrose.hatenablog.com/entry/2014/12/15/000352"
   ]
  },
  {
   "cell_type": "code",
   "execution_count": 77,
   "metadata": {},
   "outputs": [
    {
     "data": {
      "application/javascript": [
       "\n",
       "        if (window._pyforest_update_imports_cell) { window._pyforest_update_imports_cell('import numpy as np\\nfrom pathlib import Path\\nimport pandas as pd'); }\n",
       "    "
      ],
      "text/plain": [
       "<IPython.core.display.Javascript object>"
      ]
     },
     "metadata": {},
     "output_type": "display_data"
    },
    {
     "data": {
      "application/javascript": [
       "\n",
       "        if (window._pyforest_update_imports_cell) { window._pyforest_update_imports_cell('import numpy as np\\nfrom pathlib import Path\\nimport pandas as pd'); }\n",
       "    "
      ],
      "text/plain": [
       "<IPython.core.display.Javascript object>"
      ]
     },
     "metadata": {},
     "output_type": "display_data"
    },
    {
     "data": {
      "application/javascript": [
       "\n",
       "        if (window._pyforest_update_imports_cell) { window._pyforest_update_imports_cell('import numpy as np\\nfrom pathlib import Path\\nimport pandas as pd'); }\n",
       "    "
      ],
      "text/plain": [
       "<IPython.core.display.Javascript object>"
      ]
     },
     "metadata": {},
     "output_type": "display_data"
    },
    {
     "name": "stdout",
     "output_type": "stream",
     "text": [
      "[[7. 8. 9.]\n",
      " [7. 8. 9.]]\n"
     ]
    },
    {
     "data": {
      "application/javascript": [
       "\n",
       "        if (window._pyforest_update_imports_cell) { window._pyforest_update_imports_cell('import numpy as np\\nfrom pathlib import Path\\nimport pandas as pd'); }\n",
       "    "
      ],
      "text/plain": [
       "<IPython.core.display.Javascript object>"
      ]
     },
     "metadata": {},
     "output_type": "display_data"
    },
    {
     "name": "stdout",
     "output_type": "stream",
     "text": [
      "[[7. 8. 9.]\n",
      " [7. 8. 9.]]\n",
      "\n",
      "[[ 7 16 27]\n",
      " [28 40 54]]\n",
      "\n"
     ]
    },
    {
     "data": {
      "application/javascript": [
       "\n",
       "        if (window._pyforest_update_imports_cell) { window._pyforest_update_imports_cell('import numpy as np\\nfrom pathlib import Path\\nimport pandas as pd'); }\n",
       "    "
      ],
      "text/plain": [
       "<IPython.core.display.Javascript object>"
      ]
     },
     "metadata": {},
     "output_type": "display_data"
    },
    {
     "name": "stdout",
     "output_type": "stream",
     "text": [
      "[[7. 8. 9.]\n",
      " [7. 8. 9.]]\n"
     ]
    },
    {
     "data": {
      "application/javascript": [
       "\n",
       "        if (window._pyforest_update_imports_cell) { window._pyforest_update_imports_cell('import numpy as np\\nfrom pathlib import Path\\nimport pandas as pd'); }\n",
       "    "
      ],
      "text/plain": [
       "<IPython.core.display.Javascript object>"
      ]
     },
     "metadata": {},
     "output_type": "display_data"
    },
    {
     "name": "stdout",
     "output_type": "stream",
     "text": [
      "[[7. 8. 9.]\n",
      " [7. 8. 9.]]\n",
      "\n",
      "[[ 8 10 12]\n",
      " [11 13 15]]\n"
     ]
    }
   ],
   "source": [
    "W = np.array([[1, 2, 3], [4, 5, 6]])\n",
    "x = np.array([7, 8, 9])\n",
    "\n",
    "print(np.ones((2,3))*x)\n",
    "print(x*np.ones((2,3)))\n",
    "print()\n",
    "\n",
    "print(W * x)\n",
    "print()\n",
    "\n",
    "print(np.zeros((2,3))+x)\n",
    "print(x+np.zeros((2,3)))\n",
    "print()\n",
    "\n",
    "print(W + x)"
   ]
  },
  {
   "cell_type": "markdown",
   "metadata": {},
   "source": [
    "#### - numpy.newaxis\n",
    "\n",
    "numpy.newaxisは配列や行列に対して新しい次元を追加できるオブジェクト。\n",
    "\n",
    "例えば、N次元配列 `x` を考えると `x.shape = (N,)` ですが、numpy.newaxisを用いることで、\n",
    "\n",
    "行ベクトル `x[numpy.newaxis, :].shape = (1,N)` としたり、\n",
    "\n",
    "列ベクトル `x[:, numpy.newaxis].shape = (N,1)` としたりすることが可能です。"
   ]
  },
  {
   "cell_type": "code",
   "execution_count": 79,
   "metadata": {},
   "outputs": [
    {
     "data": {
      "application/javascript": [
       "\n",
       "        if (window._pyforest_update_imports_cell) { window._pyforest_update_imports_cell('import numpy as np\\nfrom pathlib import Path\\nimport pandas as pd'); }\n",
       "    "
      ],
      "text/plain": [
       "<IPython.core.display.Javascript object>"
      ]
     },
     "metadata": {},
     "output_type": "display_data"
    },
    {
     "data": {
      "application/javascript": [
       "\n",
       "        if (window._pyforest_update_imports_cell) { window._pyforest_update_imports_cell('import numpy as np\\nfrom pathlib import Path\\nimport pandas as pd'); }\n",
       "    "
      ],
      "text/plain": [
       "<IPython.core.display.Javascript object>"
      ]
     },
     "metadata": {},
     "output_type": "display_data"
    },
    {
     "name": "stdout",
     "output_type": "stream",
     "text": [
      "(2, 3)\n",
      "(3, 2)\n",
      "\n",
      "(3,)\n",
      "(3,)\n",
      "\n"
     ]
    },
    {
     "data": {
      "application/javascript": [
       "\n",
       "        if (window._pyforest_update_imports_cell) { window._pyforest_update_imports_cell('import numpy as np\\nfrom pathlib import Path\\nimport pandas as pd'); }\n",
       "    "
      ],
      "text/plain": [
       "<IPython.core.display.Javascript object>"
      ]
     },
     "metadata": {},
     "output_type": "display_data"
    },
    {
     "name": "stdout",
     "output_type": "stream",
     "text": [
      "[[7 8 9]]\n"
     ]
    },
    {
     "data": {
      "application/javascript": [
       "\n",
       "        if (window._pyforest_update_imports_cell) { window._pyforest_update_imports_cell('import numpy as np\\nfrom pathlib import Path\\nimport pandas as pd'); }\n",
       "    "
      ],
      "text/plain": [
       "<IPython.core.display.Javascript object>"
      ]
     },
     "metadata": {},
     "output_type": "display_data"
    },
    {
     "name": "stdout",
     "output_type": "stream",
     "text": [
      "(1, 3)\n"
     ]
    },
    {
     "data": {
      "application/javascript": [
       "\n",
       "        if (window._pyforest_update_imports_cell) { window._pyforest_update_imports_cell('import numpy as np\\nfrom pathlib import Path\\nimport pandas as pd'); }\n",
       "    "
      ],
      "text/plain": [
       "<IPython.core.display.Javascript object>"
      ]
     },
     "metadata": {},
     "output_type": "display_data"
    },
    {
     "name": "stdout",
     "output_type": "stream",
     "text": [
      "(3, 1)\n",
      "\n"
     ]
    },
    {
     "data": {
      "application/javascript": [
       "\n",
       "        if (window._pyforest_update_imports_cell) { window._pyforest_update_imports_cell('import numpy as np\\nfrom pathlib import Path\\nimport pandas as pd'); }\n",
       "    "
      ],
      "text/plain": [
       "<IPython.core.display.Javascript object>"
      ]
     },
     "metadata": {},
     "output_type": "display_data"
    },
    {
     "name": "stdout",
     "output_type": "stream",
     "text": [
      "[[7]\n",
      " [8]\n",
      " [9]]\n"
     ]
    },
    {
     "data": {
      "application/javascript": [
       "\n",
       "        if (window._pyforest_update_imports_cell) { window._pyforest_update_imports_cell('import numpy as np\\nfrom pathlib import Path\\nimport pandas as pd'); }\n",
       "    "
      ],
      "text/plain": [
       "<IPython.core.display.Javascript object>"
      ]
     },
     "metadata": {},
     "output_type": "display_data"
    },
    {
     "name": "stdout",
     "output_type": "stream",
     "text": [
      "(3, 1)\n"
     ]
    },
    {
     "data": {
      "application/javascript": [
       "\n",
       "        if (window._pyforest_update_imports_cell) { window._pyforest_update_imports_cell('import numpy as np\\nfrom pathlib import Path\\nimport pandas as pd'); }\n",
       "    "
      ],
      "text/plain": [
       "<IPython.core.display.Javascript object>"
      ]
     },
     "metadata": {},
     "output_type": "display_data"
    },
    {
     "name": "stdout",
     "output_type": "stream",
     "text": [
      "(1, 3)\n",
      "\n"
     ]
    },
    {
     "data": {
      "application/javascript": [
       "\n",
       "        if (window._pyforest_update_imports_cell) { window._pyforest_update_imports_cell('import numpy as np\\nfrom pathlib import Path\\nimport pandas as pd'); }\n",
       "    "
      ],
      "text/plain": [
       "<IPython.core.display.Javascript object>"
      ]
     },
     "metadata": {},
     "output_type": "display_data"
    },
    {
     "name": "stdout",
     "output_type": "stream",
     "text": [
      "(1, 3)\n"
     ]
    }
   ],
   "source": [
    "W = np.array([[1, 2, 3], [4, 5, 6]])\n",
    "x = np.array([7, 8, 9])\n",
    "\n",
    "print(W.shape)\n",
    "print(W.T.shape)\n",
    "print()\n",
    "\n",
    "print(x.shape)\n",
    "print(x.T.shape)  # x と x.T の shape は同じ\n",
    "print()\n",
    "\n",
    "print(x[np.newaxis, :])  # two dimension\n",
    "print(x[np.newaxis, :].shape)\n",
    "print(x[np.newaxis, :].T.shape)\n",
    "print()\n",
    "\n",
    "print(x[:, np.newaxis])  # two dimension with different shape\n",
    "print(x[:, np.newaxis].shape)\n",
    "print(x[:, np.newaxis].T.shape)\n",
    "print()\n",
    "\n",
    "print(x[np.newaxis].shape)  # x[np.newaxis,:]と同じ"
   ]
  },
  {
   "cell_type": "code",
   "execution_count": null,
   "metadata": {},
   "outputs": [],
   "source": [
    "# numpy.newaxisを使ったbroadcasting\n",
    "x = np.array([7, 8, 9])\n",
    "\n",
    "print(np.ones((3,3))*x)                 # x:(3,)->(1,3)->(3,3)\n",
    "print(np.ones((3,3))*x[np.newaxis, :])  # x:(1,3)->(3,3)\n",
    "print(np.ones((3,3))*x[:, np.newaxis])  # x:(3,1)->(3,3)\n",
    "print()\n",
    "\n",
    "A = np.arange(9).reshape(3,3)\n",
    "print(A)\n",
    "print(A*x)\n",
    "print(A*x[np.newaxis, :])\n",
    "print(A*x[:, np.newaxis])"
   ]
  },
  {
   "cell_type": "markdown",
   "metadata": {},
   "source": [
    "※ 先述の通り、Broadcastingに際してN要素の配列は<u>numpyでは</u>(1,N)として解釈されます。\n",
    "\n",
    "　 しかし、本来N要素の配列は(N,1)と(1,N)のどちらかは区別がつくものではなく、<u>実際次週以降に扱うTensorFlowでは明示的にする必要があります。</u>\n",
    "\n",
    "#### - Broadcastingの一般論\n",
    "\n",
    "ここまで2次元までの単純な例を取り上げました。そろそろ慣れてきたところでBroadcastingの一般的なルールを次に示しましょう。\n",
    "\n",
    "1. 各入力配列の次元数を最大の次元数に揃える。具体的には、足りない次元数だけ大きさ1の次元を\"頭に\"追加することで行う。\n",
    "    \n",
    "    （例）(2,3) + (3,) ⇒ (2,3) + (1,3)\n",
    "    \n",
    "    　　　(2,3,4,5) + (4,5) ⇒ (2,3,4,5) + (1,1,4,5)\n",
    "<br />\n",
    "<br />\n",
    "2. 出力配列の各次元の大きさを入力配列の次元の大きさの最大値により決める。\n",
    "    \n",
    "    （例）(3,1) + (3,) ⇒ (<u>3</u>,1) + (1,<u>3</u>)  ∴出力次元は(3,3)\n",
    "    \n",
    "    　　　(2,3,1,5) + (4,5) ⇒ (<u>2</u>,<u>3</u>,1,<u>5</u>) + (1,1,<u>4</u>,<u>5</u>)  ∴出力次元は(2,3,4,5)\n",
    "<br />\n",
    "<br />\n",
    "3. 全ての入力配列について、各次元の大きさが1であるか、対応する出力配列の次元の大きさに一致すればBroadcasting可能。\n",
    "    \n",
    "    （例）(3,1) + (3,) ⇒ (<u>3</u>,1) + (1,<u>3</u>)  ∴出力次元は(3,3)\n",
    "    \n",
    "    　　　　(3,1)は0次元目は3で出力配列に一致、1次元目は1なので問題ない。(3,)=(1,3)も同様に問題ないのでBroadcasting可能。\n",
    "    \n",
    "    　　　(2,3,1,3) + (4,5) ⇒ (<u>2</u>,<u>3</u>,1,3) + (1,1,<u>4</u>,<u>5</u>)  ∴出力次元は(2,3,4,5)\n",
    "       \n",
    "    　　　　(2,3,1,3)は3次元目が3(≠1)であるが出力配列の3次元目は5なのでBroadcasting不可能。\n",
    "<br />\n",
    "<br />\n",
    "4. 各入力配列について、大きさが1である次元に関して複製を行い、出力次元に合わせる。\n",
    "\n",
    "参考：\n",
    "- http://docs.scipy.org/doc/numpy/reference/ufuncs.html#broadcasting"
   ]
  },
  {
   "cell_type": "code",
   "execution_count": 80,
   "metadata": {},
   "outputs": [
    {
     "data": {
      "application/javascript": [
       "\n",
       "        if (window._pyforest_update_imports_cell) { window._pyforest_update_imports_cell('import numpy as np\\nfrom pathlib import Path\\nimport pandas as pd'); }\n",
       "    "
      ],
      "text/plain": [
       "<IPython.core.display.Javascript object>"
      ]
     },
     "metadata": {},
     "output_type": "display_data"
    },
    {
     "data": {
      "application/javascript": [
       "\n",
       "        if (window._pyforest_update_imports_cell) { window._pyforest_update_imports_cell('import numpy as np\\nfrom pathlib import Path\\nimport pandas as pd'); }\n",
       "    "
      ],
      "text/plain": [
       "<IPython.core.display.Javascript object>"
      ]
     },
     "metadata": {},
     "output_type": "display_data"
    },
    {
     "data": {
      "application/javascript": [
       "\n",
       "        if (window._pyforest_update_imports_cell) { window._pyforest_update_imports_cell('import numpy as np\\nfrom pathlib import Path\\nimport pandas as pd'); }\n",
       "    "
      ],
      "text/plain": [
       "<IPython.core.display.Javascript object>"
      ]
     },
     "metadata": {},
     "output_type": "display_data"
    },
    {
     "name": "stdout",
     "output_type": "stream",
     "text": [
      "[[7. 8. 9.]\n",
      " [7. 8. 9.]]\n"
     ]
    },
    {
     "data": {
      "application/javascript": [
       "\n",
       "        if (window._pyforest_update_imports_cell) { window._pyforest_update_imports_cell('import numpy as np\\nfrom pathlib import Path\\nimport pandas as pd'); }\n",
       "    "
      ],
      "text/plain": [
       "<IPython.core.display.Javascript object>"
      ]
     },
     "metadata": {},
     "output_type": "display_data"
    },
    {
     "data": {
      "application/javascript": [
       "\n",
       "        if (window._pyforest_update_imports_cell) { window._pyforest_update_imports_cell('import numpy as np\\nfrom pathlib import Path\\nimport pandas as pd'); }\n",
       "    "
      ],
      "text/plain": [
       "<IPython.core.display.Javascript object>"
      ]
     },
     "metadata": {},
     "output_type": "display_data"
    },
    {
     "name": "stdout",
     "output_type": "stream",
     "text": [
      "[[7. 8. 9.]\n",
      " [7. 8. 9.]]\n"
     ]
    },
    {
     "data": {
      "application/javascript": [
       "\n",
       "        if (window._pyforest_update_imports_cell) { window._pyforest_update_imports_cell('import numpy as np\\nfrom pathlib import Path\\nimport pandas as pd'); }\n",
       "    "
      ],
      "text/plain": [
       "<IPython.core.display.Javascript object>"
      ]
     },
     "metadata": {},
     "output_type": "display_data"
    },
    {
     "data": {
      "application/javascript": [
       "\n",
       "        if (window._pyforest_update_imports_cell) { window._pyforest_update_imports_cell('import numpy as np\\nfrom pathlib import Path\\nimport pandas as pd'); }\n",
       "    "
      ],
      "text/plain": [
       "<IPython.core.display.Javascript object>"
      ]
     },
     "metadata": {},
     "output_type": "display_data"
    },
    {
     "name": "stdout",
     "output_type": "stream",
     "text": [
      "[[7. 7.]\n",
      " [8. 8.]\n",
      " [9. 9.]]\n",
      "\n"
     ]
    },
    {
     "data": {
      "application/javascript": [
       "\n",
       "        if (window._pyforest_update_imports_cell) { window._pyforest_update_imports_cell('import numpy as np\\nfrom pathlib import Path\\nimport pandas as pd'); }\n",
       "    "
      ],
      "text/plain": [
       "<IPython.core.display.Javascript object>"
      ]
     },
     "metadata": {},
     "output_type": "display_data"
    },
    {
     "name": "stdout",
     "output_type": "stream",
     "text": [
      "[[7. 8. 9.]\n",
      " [7. 8. 9.]\n",
      " [7. 8. 9.]]\n"
     ]
    },
    {
     "data": {
      "application/javascript": [
       "\n",
       "        if (window._pyforest_update_imports_cell) { window._pyforest_update_imports_cell('import numpy as np\\nfrom pathlib import Path\\nimport pandas as pd'); }\n",
       "    "
      ],
      "text/plain": [
       "<IPython.core.display.Javascript object>"
      ]
     },
     "metadata": {},
     "output_type": "display_data"
    },
    {
     "data": {
      "application/javascript": [
       "\n",
       "        if (window._pyforest_update_imports_cell) { window._pyforest_update_imports_cell('import numpy as np\\nfrom pathlib import Path\\nimport pandas as pd'); }\n",
       "    "
      ],
      "text/plain": [
       "<IPython.core.display.Javascript object>"
      ]
     },
     "metadata": {},
     "output_type": "display_data"
    },
    {
     "name": "stdout",
     "output_type": "stream",
     "text": [
      "[[7. 7. 7.]\n",
      " [8. 8. 8.]\n",
      " [9. 9. 9.]]\n"
     ]
    },
    {
     "data": {
      "application/javascript": [
       "\n",
       "        if (window._pyforest_update_imports_cell) { window._pyforest_update_imports_cell('import numpy as np\\nfrom pathlib import Path\\nimport pandas as pd'); }\n",
       "    "
      ],
      "text/plain": [
       "<IPython.core.display.Javascript object>"
      ]
     },
     "metadata": {},
     "output_type": "display_data"
    },
    {
     "name": "stdout",
     "output_type": "stream",
     "text": [
      "[[49 56 63]\n",
      " [56 64 72]\n",
      " [63 72 81]]\n",
      "\n"
     ]
    },
    {
     "data": {
      "application/javascript": [
       "\n",
       "        if (window._pyforest_update_imports_cell) { window._pyforest_update_imports_cell('import numpy as np\\nfrom pathlib import Path\\nimport pandas as pd'); }\n",
       "    "
      ],
      "text/plain": [
       "<IPython.core.display.Javascript object>"
      ]
     },
     "metadata": {},
     "output_type": "display_data"
    },
    {
     "name": "stdout",
     "output_type": "stream",
     "text": [
      "[[ 8 11]\n",
      " [10 13]\n",
      " [12 15]]\n"
     ]
    }
   ],
   "source": [
    "W = np.array([[1, 2, 3], [4, 5, 6]])\n",
    "x = np.array([7, 8, 9])\n",
    "\n",
    "print(np.ones((2,3))*x)                 # x:(3,)->(1,3)->(2,3)\n",
    "print(np.ones((2,3))*x[np.newaxis, :])  # x:(1,3)->(2,3)\n",
    "#print(np.ones((2,3))*x[:, np.newaxis]) # x:(3,1)->(2,3) unable\n",
    "#print(np.ones((3,2))*x)                # x:(3,)->(1,3)->(3,2) unable\n",
    "#print(np.ones((3,2))*x[np.newaxis, :]) # x:(1,3)->(3,2) unable\n",
    "print(np.ones((3,2))*x[:, np.newaxis])  # x:(3,1)->(3,2)\n",
    "print()\n",
    "\n",
    "print(np.ones((3,3)) * x)\n",
    "print(x[:, np.newaxis] * np.ones((3,3)))\n",
    "print(x[:, np.newaxis] * x)\n",
    "print()\n",
    "\n",
    "print(W.T + x[np.newaxis, :].T)"
   ]
  },
  {
   "cell_type": "markdown",
   "metadata": {},
   "source": [
    "# Reading real dataset"
   ]
  },
  {
   "cell_type": "code",
   "execution_count": 31,
   "metadata": {},
   "outputs": [
    {
     "data": {
      "application/javascript": [
       "\n",
       "        if (window._pyforest_update_imports_cell) { window._pyforest_update_imports_cell('import pandas as pd\\nfrom pathlib import Path'); }\n",
       "    "
      ],
      "text/plain": [
       "<IPython.core.display.Javascript object>"
      ]
     },
     "metadata": {},
     "output_type": "display_data"
    },
    {
     "data": {
      "application/javascript": [
       "\n",
       "        if (window._pyforest_update_imports_cell) { window._pyforest_update_imports_cell('import pandas as pd\\nfrom pathlib import Path'); }\n",
       "    "
      ],
      "text/plain": [
       "<IPython.core.display.Javascript object>"
      ]
     },
     "metadata": {},
     "output_type": "display_data"
    },
    {
     "data": {
      "text/plain": [
       "RangeIndex(start=0, stop=41, step=1)"
      ]
     },
     "execution_count": 31,
     "metadata": {},
     "output_type": "execute_result"
    }
   ],
   "source": [
    "p = Path(\"../datasets/HONSHA-CHOUBO\")\n",
    "paths = list(p.glob(\"**/*.xls\"))\n",
    "xls1 = pd.read_excel(paths[0])\n",
    "xls1.index"
   ]
  },
  {
   "cell_type": "code",
   "execution_count": 32,
   "metadata": {},
   "outputs": [
    {
     "data": {
      "text/plain": [
       "Index([ 'Unnamed: 0',          '備前',            10,          2011,\n",
       "                '計画',  'Unnamed: 5',          '実績',  'Unnamed: 7',\n",
       "               '計画差',         '前年差', 'Unnamed: 10', 'Unnamed: 11',\n",
       "       'Unnamed: 12', 'Unnamed: 13', 'Unnamed: 14', 'Unnamed: 15',\n",
       "       'Unnamed: 16', 'Unnamed: 17'],\n",
       "      dtype='object')"
      ]
     },
     "execution_count": 32,
     "metadata": {},
     "output_type": "execute_result"
    }
   ],
   "source": [
    "xls1.columns"
   ]
  },
  {
   "cell_type": "code",
   "execution_count": 36,
   "metadata": {},
   "outputs": [
    {
     "data": {
      "text/plain": [
       "(41, 18)"
      ]
     },
     "execution_count": 36,
     "metadata": {},
     "output_type": "execute_result"
    }
   ],
   "source": [
    "xls1.shape"
   ]
  },
  {
   "cell_type": "code",
   "execution_count": 43,
   "metadata": {},
   "outputs": [
    {
     "data": {
      "text/plain": [
       "0          数量\n",
       "1     3831.85\n",
       "2     24634.3\n",
       "3     28466.1\n",
       "4     14581.6\n",
       "5         516\n",
       "6           0\n",
       "7           0\n",
       "8        47.9\n",
       "9           0\n",
       "10          7\n",
       "11       54.9\n",
       "12          0\n",
       "13          7\n",
       "14          3\n",
       "15          0\n",
       "16          1\n",
       "17          0\n",
       "18          7\n",
       "19          0\n",
       "20          0\n",
       "21          3\n",
       "22          0\n",
       "23      27181\n",
       "24     104981\n",
       "25         36\n",
       "26          0\n",
       "27          0\n",
       "28        NaN\n",
       "29        NaN\n",
       "30       1267\n",
       "31         63\n",
       "32          1\n",
       "33     303000\n",
       "34        381\n",
       "35        NaN\n",
       "36        NaN\n",
       "37        NaN\n",
       "38        NaN\n",
       "39        NaN\n",
       "40        NaN\n",
       "Name: 実績, dtype: object"
      ]
     },
     "execution_count": 43,
     "metadata": {},
     "output_type": "execute_result"
    }
   ],
   "source": [
    "xls1.実績"
   ]
  },
  {
   "cell_type": "code",
   "execution_count": 58,
   "metadata": {},
   "outputs": [
    {
     "data": {
      "text/plain": [
       "['column1',\n",
       " '備前',\n",
       " '10',\n",
       " '2011',\n",
       " '計画',\n",
       " 'column4',\n",
       " '実績',\n",
       " 'column6',\n",
       " '計画差',\n",
       " '前年差',\n",
       " 'column9',\n",
       " 'column10',\n",
       " 'column11',\n",
       " 'column12',\n",
       " 'column13',\n",
       " 'column14',\n",
       " 'column15',\n",
       " 'column16']"
      ]
     },
     "execution_count": 58,
     "metadata": {},
     "output_type": "execute_result"
    }
   ],
   "source": [
    "count = 1\n",
    "proccolumns = []\n",
    "for column in xls1.columns:\n",
    "    \n",
    "    try:\n",
    "        column:str = column\n",
    "        if column.startswith(\"Unnamed\"):\n",
    "            proccolumns.append(\"column\" + str(count))\n",
    "        else:\n",
    "            proccolumns.append(column)\n",
    "              \n",
    "        count+=1\n",
    "    except:\n",
    "        proccolumns.append(str(column))\n",
    "        continue\n",
    "proccolumns"
   ]
  },
  {
   "cell_type": "code",
   "execution_count": 59,
   "metadata": {},
   "outputs": [
    {
     "data": {
      "text/html": [
       "<div>\n",
       "<style scoped>\n",
       "    .dataframe tbody tr th:only-of-type {\n",
       "        vertical-align: middle;\n",
       "    }\n",
       "\n",
       "    .dataframe tbody tr th {\n",
       "        vertical-align: top;\n",
       "    }\n",
       "\n",
       "    .dataframe thead th {\n",
       "        text-align: right;\n",
       "    }\n",
       "</style>\n",
       "<table border=\"1\" class=\"dataframe\">\n",
       "  <thead>\n",
       "    <tr style=\"text-align: right;\">\n",
       "      <th></th>\n",
       "      <th>column1</th>\n",
       "      <th>備前</th>\n",
       "      <th>10</th>\n",
       "      <th>2011</th>\n",
       "      <th>計画</th>\n",
       "      <th>column4</th>\n",
       "      <th>実績</th>\n",
       "      <th>column6</th>\n",
       "      <th>計画差</th>\n",
       "      <th>前年差</th>\n",
       "      <th>column9</th>\n",
       "      <th>column10</th>\n",
       "      <th>column11</th>\n",
       "      <th>column12</th>\n",
       "      <th>column13</th>\n",
       "      <th>column14</th>\n",
       "      <th>column15</th>\n",
       "      <th>column16</th>\n",
       "    </tr>\n",
       "  </thead>\n",
       "  <tbody>\n",
       "    <tr>\n",
       "      <th>0</th>\n",
       "      <td>NaN</td>\n",
       "      <td>品名</td>\n",
       "      <td>利益＠</td>\n",
       "      <td>前年実績</td>\n",
       "      <td>数量</td>\n",
       "      <td>利益金額</td>\n",
       "      <td>数量</td>\n",
       "      <td>利益金額</td>\n",
       "      <td>NaN</td>\n",
       "      <td>NaN</td>\n",
       "      <td>NaN</td>\n",
       "      <td>NaN</td>\n",
       "      <td>NaN</td>\n",
       "      <td>NaN</td>\n",
       "      <td>NaN</td>\n",
       "      <td>NaN</td>\n",
       "      <td>NaN</td>\n",
       "      <td>NaN</td>\n",
       "    </tr>\n",
       "    <tr>\n",
       "      <th>1</th>\n",
       "      <td>燃料油</td>\n",
       "      <td>スーパーゼアス</td>\n",
       "      <td>11</td>\n",
       "      <td>4309.08</td>\n",
       "      <td>4500</td>\n",
       "      <td>49500</td>\n",
       "      <td>3831.85</td>\n",
       "      <td>42150.3</td>\n",
       "      <td>-668.150000</td>\n",
       "      <td>-477.230000</td>\n",
       "      <td>NaN</td>\n",
       "      <td>2011</td>\n",
       "      <td>現金</td>\n",
       "      <td>プリカ</td>\n",
       "      <td>現金＋プリカ</td>\n",
       "      <td>クレジット</td>\n",
       "      <td>掛け</td>\n",
       "      <td>累計</td>\n",
       "    </tr>\n",
       "    <tr>\n",
       "      <th>2</th>\n",
       "      <td>NaN</td>\n",
       "      <td>ゼアス</td>\n",
       "      <td>11</td>\n",
       "      <td>24379.4</td>\n",
       "      <td>25000</td>\n",
       "      <td>275000</td>\n",
       "      <td>24634.3</td>\n",
       "      <td>270977</td>\n",
       "      <td>-365.700000</td>\n",
       "      <td>254.870000</td>\n",
       "      <td>NaN</td>\n",
       "      <td>揮計</td>\n",
       "      <td>3004.67</td>\n",
       "      <td>1479.68</td>\n",
       "      <td>4484.35</td>\n",
       "      <td>11784.5</td>\n",
       "      <td>12419.7</td>\n",
       "      <td>28688.5</td>\n",
       "    </tr>\n",
       "    <tr>\n",
       "      <th>3</th>\n",
       "      <td>NaN</td>\n",
       "      <td>揮発油計</td>\n",
       "      <td>11</td>\n",
       "      <td>28688.5</td>\n",
       "      <td>29500</td>\n",
       "      <td>324500</td>\n",
       "      <td>28466.1</td>\n",
       "      <td>313128</td>\n",
       "      <td>-1033.850000</td>\n",
       "      <td>-222.360000</td>\n",
       "      <td>NaN</td>\n",
       "      <td>軽油</td>\n",
       "      <td>223.99</td>\n",
       "      <td>58.45</td>\n",
       "      <td>282.44</td>\n",
       "      <td>1988.87</td>\n",
       "      <td>11123.9</td>\n",
       "      <td>13395.2</td>\n",
       "    </tr>\n",
       "    <tr>\n",
       "      <th>4</th>\n",
       "      <td>NaN</td>\n",
       "      <td>軽　油</td>\n",
       "      <td>11</td>\n",
       "      <td>13395.2</td>\n",
       "      <td>14000</td>\n",
       "      <td>154000</td>\n",
       "      <td>14581.6</td>\n",
       "      <td>160398</td>\n",
       "      <td>581.630000</td>\n",
       "      <td>1186.440000</td>\n",
       "      <td>NaN</td>\n",
       "      <td>灯油</td>\n",
       "      <td>200</td>\n",
       "      <td>126</td>\n",
       "      <td>326</td>\n",
       "      <td>507</td>\n",
       "      <td>0</td>\n",
       "      <td>833</td>\n",
       "    </tr>\n",
       "    <tr>\n",
       "      <th>5</th>\n",
       "      <td>NaN</td>\n",
       "      <td>灯　油</td>\n",
       "      <td>10</td>\n",
       "      <td>833</td>\n",
       "      <td>1000</td>\n",
       "      <td>10000</td>\n",
       "      <td>516</td>\n",
       "      <td>5160</td>\n",
       "      <td>-484.000000</td>\n",
       "      <td>-317.000000</td>\n",
       "      <td>NaN</td>\n",
       "      <td>NaN</td>\n",
       "      <td>NaN</td>\n",
       "      <td>NaN</td>\n",
       "      <td>NaN</td>\n",
       "      <td>NaN</td>\n",
       "      <td>NaN</td>\n",
       "      <td>NaN</td>\n",
       "    </tr>\n",
       "    <tr>\n",
       "      <th>6</th>\n",
       "      <td>NaN</td>\n",
       "      <td>産業用灯油</td>\n",
       "      <td>3</td>\n",
       "      <td>0</td>\n",
       "      <td>0</td>\n",
       "      <td>0</td>\n",
       "      <td>0</td>\n",
       "      <td>0</td>\n",
       "      <td>0.000000</td>\n",
       "      <td>0.000000</td>\n",
       "      <td>NaN</td>\n",
       "      <td>2012</td>\n",
       "      <td>現金</td>\n",
       "      <td>プリカ</td>\n",
       "      <td>現金＋プリカ</td>\n",
       "      <td>クレジット</td>\n",
       "      <td>掛け</td>\n",
       "      <td>累計</td>\n",
       "    </tr>\n",
       "    <tr>\n",
       "      <th>7</th>\n",
       "      <td>NaN</td>\n",
       "      <td>重油</td>\n",
       "      <td>12.3</td>\n",
       "      <td>0</td>\n",
       "      <td>0</td>\n",
       "      <td>0</td>\n",
       "      <td>0</td>\n",
       "      <td>0</td>\n",
       "      <td>0.000000</td>\n",
       "      <td>0.000000</td>\n",
       "      <td>NaN</td>\n",
       "      <td>揮計</td>\n",
       "      <td>3005.35</td>\n",
       "      <td>1882.55</td>\n",
       "      <td>4887.9</td>\n",
       "      <td>12040.5</td>\n",
       "      <td>11537.7</td>\n",
       "      <td>28466.1</td>\n",
       "    </tr>\n",
       "    <tr>\n",
       "      <th>8</th>\n",
       "      <td>ゼプロ</td>\n",
       "      <td>ゼプロ</td>\n",
       "      <td>450</td>\n",
       "      <td>94.5</td>\n",
       "      <td>82</td>\n",
       "      <td>36900</td>\n",
       "      <td>47.9</td>\n",
       "      <td>21555</td>\n",
       "      <td>-34.100000</td>\n",
       "      <td>-46.600000</td>\n",
       "      <td>NaN</td>\n",
       "      <td>軽油</td>\n",
       "      <td>165.25</td>\n",
       "      <td>20</td>\n",
       "      <td>185.25</td>\n",
       "      <td>2527.9</td>\n",
       "      <td>11868.5</td>\n",
       "      <td>14581.6</td>\n",
       "    </tr>\n",
       "    <tr>\n",
       "      <th>9</th>\n",
       "      <td>NaN</td>\n",
       "      <td>ＡＴＦ数量</td>\n",
       "      <td>600</td>\n",
       "      <td>0</td>\n",
       "      <td>18</td>\n",
       "      <td>10800</td>\n",
       "      <td>0</td>\n",
       "      <td>0</td>\n",
       "      <td>-18.000000</td>\n",
       "      <td>0.000000</td>\n",
       "      <td>NaN</td>\n",
       "      <td>灯油</td>\n",
       "      <td>114</td>\n",
       "      <td>210</td>\n",
       "      <td>324</td>\n",
       "      <td>96</td>\n",
       "      <td>96</td>\n",
       "      <td>516</td>\n",
       "    </tr>\n",
       "    <tr>\n",
       "      <th>10</th>\n",
       "      <td>NaN</td>\n",
       "      <td>フラッシング数量</td>\n",
       "      <td>200</td>\n",
       "      <td>2</td>\n",
       "      <td>20</td>\n",
       "      <td>4000</td>\n",
       "      <td>7</td>\n",
       "      <td>1400</td>\n",
       "      <td>-13.000000</td>\n",
       "      <td>5.000000</td>\n",
       "      <td>NaN</td>\n",
       "      <td>NaN</td>\n",
       "      <td>NaN</td>\n",
       "      <td>NaN</td>\n",
       "      <td>NaN</td>\n",
       "      <td>NaN</td>\n",
       "      <td>NaN</td>\n",
       "      <td>NaN</td>\n",
       "    </tr>\n",
       "    <tr>\n",
       "      <th>11</th>\n",
       "      <td>NaN</td>\n",
       "      <td>ゼプロ計</td>\n",
       "      <td>430.833</td>\n",
       "      <td>113.3</td>\n",
       "      <td>120</td>\n",
       "      <td>51700</td>\n",
       "      <td>54.9</td>\n",
       "      <td>22955</td>\n",
       "      <td>-65.100000</td>\n",
       "      <td>-58.400000</td>\n",
       "      <td>NaN</td>\n",
       "      <td>差</td>\n",
       "      <td>現金</td>\n",
       "      <td>プリカ</td>\n",
       "      <td>現金＋プリカ</td>\n",
       "      <td>クレジット</td>\n",
       "      <td>掛け</td>\n",
       "      <td>累計</td>\n",
       "    </tr>\n",
       "    <tr>\n",
       "      <th>12</th>\n",
       "      <td>NaN</td>\n",
       "      <td>その他Ｌ/Ｏ</td>\n",
       "      <td>100</td>\n",
       "      <td>0</td>\n",
       "      <td>0</td>\n",
       "      <td>0</td>\n",
       "      <td>0</td>\n",
       "      <td>0</td>\n",
       "      <td>0.000000</td>\n",
       "      <td>0.000000</td>\n",
       "      <td>NaN</td>\n",
       "      <td>揮計</td>\n",
       "      <td>0.68</td>\n",
       "      <td>402.87</td>\n",
       "      <td>403.55</td>\n",
       "      <td>256.05</td>\n",
       "      <td>-881.96</td>\n",
       "      <td>-222.36</td>\n",
       "    </tr>\n",
       "    <tr>\n",
       "      <th>13</th>\n",
       "      <td>ＴＢＡ</td>\n",
       "      <td>オイルエレメント</td>\n",
       "      <td>500</td>\n",
       "      <td>11</td>\n",
       "      <td>12</td>\n",
       "      <td>6000</td>\n",
       "      <td>7</td>\n",
       "      <td>3500</td>\n",
       "      <td>-5.000000</td>\n",
       "      <td>-4.000000</td>\n",
       "      <td>NaN</td>\n",
       "      <td>軽油</td>\n",
       "      <td>-58.74</td>\n",
       "      <td>-38.45</td>\n",
       "      <td>-97.19</td>\n",
       "      <td>539.03</td>\n",
       "      <td>744.6</td>\n",
       "      <td>1186.44</td>\n",
       "    </tr>\n",
       "    <tr>\n",
       "      <th>14</th>\n",
       "      <td>NaN</td>\n",
       "      <td>バッテリー</td>\n",
       "      <td>3500</td>\n",
       "      <td>1</td>\n",
       "      <td>2</td>\n",
       "      <td>7000</td>\n",
       "      <td>3</td>\n",
       "      <td>10500</td>\n",
       "      <td>1.000000</td>\n",
       "      <td>2.000000</td>\n",
       "      <td>NaN</td>\n",
       "      <td>灯油</td>\n",
       "      <td>-86</td>\n",
       "      <td>84</td>\n",
       "      <td>-2</td>\n",
       "      <td>-411</td>\n",
       "      <td>96</td>\n",
       "      <td>-317</td>\n",
       "    </tr>\n",
       "    <tr>\n",
       "      <th>15</th>\n",
       "      <td>NaN</td>\n",
       "      <td>タイヤ</td>\n",
       "      <td>1500</td>\n",
       "      <td>8</td>\n",
       "      <td>16</td>\n",
       "      <td>24000</td>\n",
       "      <td>0</td>\n",
       "      <td>0</td>\n",
       "      <td>-16.000000</td>\n",
       "      <td>-8.000000</td>\n",
       "      <td>NaN</td>\n",
       "      <td>NaN</td>\n",
       "      <td>NaN</td>\n",
       "      <td>NaN</td>\n",
       "      <td>NaN</td>\n",
       "      <td>NaN</td>\n",
       "      <td>NaN</td>\n",
       "      <td>NaN</td>\n",
       "    </tr>\n",
       "    <tr>\n",
       "      <th>16</th>\n",
       "      <td>NaN</td>\n",
       "      <td>ワイパー</td>\n",
       "      <td>600</td>\n",
       "      <td>2</td>\n",
       "      <td>0</td>\n",
       "      <td>0</td>\n",
       "      <td>1</td>\n",
       "      <td>600</td>\n",
       "      <td>1.000000</td>\n",
       "      <td>-1.000000</td>\n",
       "      <td>NaN</td>\n",
       "      <td>NaN</td>\n",
       "      <td>NaN</td>\n",
       "      <td>NaN</td>\n",
       "      <td>NaN</td>\n",
       "      <td>NaN</td>\n",
       "      <td>NaN</td>\n",
       "      <td>NaN</td>\n",
       "    </tr>\n",
       "    <tr>\n",
       "      <th>17</th>\n",
       "      <td>NaN</td>\n",
       "      <td>エアコン関連</td>\n",
       "      <td>1000</td>\n",
       "      <td>0</td>\n",
       "      <td>0</td>\n",
       "      <td>0</td>\n",
       "      <td>0</td>\n",
       "      <td>0</td>\n",
       "      <td>0.000000</td>\n",
       "      <td>0.000000</td>\n",
       "      <td>NaN</td>\n",
       "      <td>NaN</td>\n",
       "      <td>NaN</td>\n",
       "      <td>NaN</td>\n",
       "      <td>NaN</td>\n",
       "      <td>NaN</td>\n",
       "      <td>NaN</td>\n",
       "      <td>NaN</td>\n",
       "    </tr>\n",
       "    <tr>\n",
       "      <th>18</th>\n",
       "      <td>NaN</td>\n",
       "      <td>ラジエータ関連</td>\n",
       "      <td>350</td>\n",
       "      <td>9</td>\n",
       "      <td>10</td>\n",
       "      <td>3500</td>\n",
       "      <td>7</td>\n",
       "      <td>2450</td>\n",
       "      <td>-3.000000</td>\n",
       "      <td>-2.000000</td>\n",
       "      <td>NaN</td>\n",
       "      <td>NaN</td>\n",
       "      <td>NaN</td>\n",
       "      <td>NaN</td>\n",
       "      <td>NaN</td>\n",
       "      <td>NaN</td>\n",
       "      <td>NaN</td>\n",
       "      <td>NaN</td>\n",
       "    </tr>\n",
       "    <tr>\n",
       "      <th>19</th>\n",
       "      <td>NaN</td>\n",
       "      <td>清浄剤</td>\n",
       "      <td>400</td>\n",
       "      <td>0</td>\n",
       "      <td>0</td>\n",
       "      <td>0</td>\n",
       "      <td>0</td>\n",
       "      <td>0</td>\n",
       "      <td>0.000000</td>\n",
       "      <td>0.000000</td>\n",
       "      <td>NaN</td>\n",
       "      <td>NaN</td>\n",
       "      <td>NaN</td>\n",
       "      <td>NaN</td>\n",
       "      <td>NaN</td>\n",
       "      <td>NaN</td>\n",
       "      <td>NaN</td>\n",
       "      <td>NaN</td>\n",
       "    </tr>\n",
       "    <tr>\n",
       "      <th>20</th>\n",
       "      <td>NaN</td>\n",
       "      <td>水抜剤</td>\n",
       "      <td>400</td>\n",
       "      <td>0</td>\n",
       "      <td>0</td>\n",
       "      <td>0</td>\n",
       "      <td>0</td>\n",
       "      <td>0</td>\n",
       "      <td>0.000000</td>\n",
       "      <td>0.000000</td>\n",
       "      <td>NaN</td>\n",
       "      <td>NaN</td>\n",
       "      <td>NaN</td>\n",
       "      <td>NaN</td>\n",
       "      <td>NaN</td>\n",
       "      <td>NaN</td>\n",
       "      <td>NaN</td>\n",
       "      <td>NaN</td>\n",
       "    </tr>\n",
       "    <tr>\n",
       "      <th>21</th>\n",
       "      <td>NaN</td>\n",
       "      <td>メタルプロテクター</td>\n",
       "      <td>800</td>\n",
       "      <td>2</td>\n",
       "      <td>5</td>\n",
       "      <td>4000</td>\n",
       "      <td>3</td>\n",
       "      <td>2400</td>\n",
       "      <td>-2.000000</td>\n",
       "      <td>1.000000</td>\n",
       "      <td>NaN</td>\n",
       "      <td>NaN</td>\n",
       "      <td>NaN</td>\n",
       "      <td>NaN</td>\n",
       "      <td>NaN</td>\n",
       "      <td>NaN</td>\n",
       "      <td>NaN</td>\n",
       "      <td>NaN</td>\n",
       "    </tr>\n",
       "    <tr>\n",
       "      <th>22</th>\n",
       "      <td>NaN</td>\n",
       "      <td>ギフト</td>\n",
       "      <td>500</td>\n",
       "      <td>0</td>\n",
       "      <td>0</td>\n",
       "      <td>0</td>\n",
       "      <td>0</td>\n",
       "      <td>0</td>\n",
       "      <td>0.000000</td>\n",
       "      <td>0.000000</td>\n",
       "      <td>NaN</td>\n",
       "      <td>NaN</td>\n",
       "      <td>NaN</td>\n",
       "      <td>NaN</td>\n",
       "      <td>NaN</td>\n",
       "      <td>NaN</td>\n",
       "      <td>NaN</td>\n",
       "      <td>NaN</td>\n",
       "    </tr>\n",
       "    <tr>\n",
       "      <th>23</th>\n",
       "      <td>NaN</td>\n",
       "      <td>その他</td>\n",
       "      <td>0.25</td>\n",
       "      <td>134451</td>\n",
       "      <td>22000</td>\n",
       "      <td>5500</td>\n",
       "      <td>27181</td>\n",
       "      <td>6795.25</td>\n",
       "      <td>5181.000000</td>\n",
       "      <td>NaN</td>\n",
       "      <td>NaN</td>\n",
       "      <td>NaN</td>\n",
       "      <td>NaN</td>\n",
       "      <td>NaN</td>\n",
       "      <td>NaN</td>\n",
       "      <td>NaN</td>\n",
       "      <td>NaN</td>\n",
       "      <td>NaN</td>\n",
       "    </tr>\n",
       "    <tr>\n",
       "      <th>24</th>\n",
       "      <td>NaN</td>\n",
       "      <td>ＴＢＡ計</td>\n",
       "      <td>0.25</td>\n",
       "      <td>242251</td>\n",
       "      <td>200000</td>\n",
       "      <td>50000</td>\n",
       "      <td>104981</td>\n",
       "      <td>26245.2</td>\n",
       "      <td>-95019.000000</td>\n",
       "      <td>-137270.000000</td>\n",
       "      <td>NaN</td>\n",
       "      <td>NaN</td>\n",
       "      <td>NaN</td>\n",
       "      <td>NaN</td>\n",
       "      <td>NaN</td>\n",
       "      <td>NaN</td>\n",
       "      <td>NaN</td>\n",
       "      <td>NaN</td>\n",
       "    </tr>\n",
       "    <tr>\n",
       "      <th>25</th>\n",
       "      <td>役収</td>\n",
       "      <td>洗車</td>\n",
       "      <td>2262.42</td>\n",
       "      <td>86116</td>\n",
       "      <td>60</td>\n",
       "      <td>110000</td>\n",
       "      <td>36</td>\n",
       "      <td>81447</td>\n",
       "      <td>-28553.000000</td>\n",
       "      <td>-4669.000000</td>\n",
       "      <td>NaN</td>\n",
       "      <td>NaN</td>\n",
       "      <td>NaN</td>\n",
       "      <td>NaN</td>\n",
       "      <td>NaN</td>\n",
       "      <td>NaN</td>\n",
       "      <td>NaN</td>\n",
       "      <td>NaN</td>\n",
       "    </tr>\n",
       "    <tr>\n",
       "      <th>26</th>\n",
       "      <td>NaN</td>\n",
       "      <td>車検</td>\n",
       "      <td>NaN</td>\n",
       "      <td>0</td>\n",
       "      <td>0</td>\n",
       "      <td>0</td>\n",
       "      <td>0</td>\n",
       "      <td>0</td>\n",
       "      <td>0.000000</td>\n",
       "      <td>0.000000</td>\n",
       "      <td>NaN</td>\n",
       "      <td>NaN</td>\n",
       "      <td>NaN</td>\n",
       "      <td>NaN</td>\n",
       "      <td>NaN</td>\n",
       "      <td>NaN</td>\n",
       "      <td>NaN</td>\n",
       "      <td>NaN</td>\n",
       "    </tr>\n",
       "    <tr>\n",
       "      <th>27</th>\n",
       "      <td>NaN</td>\n",
       "      <td>車販</td>\n",
       "      <td>NaN</td>\n",
       "      <td>0</td>\n",
       "      <td>0</td>\n",
       "      <td>0</td>\n",
       "      <td>0</td>\n",
       "      <td>0</td>\n",
       "      <td>0.000000</td>\n",
       "      <td>0.000000</td>\n",
       "      <td>NaN</td>\n",
       "      <td>NaN</td>\n",
       "      <td>NaN</td>\n",
       "      <td>NaN</td>\n",
       "      <td>NaN</td>\n",
       "      <td>NaN</td>\n",
       "      <td>NaN</td>\n",
       "      <td>NaN</td>\n",
       "    </tr>\n",
       "    <tr>\n",
       "      <th>28</th>\n",
       "      <td>NaN</td>\n",
       "      <td>その他役収</td>\n",
       "      <td>NaN</td>\n",
       "      <td>71186</td>\n",
       "      <td>NaN</td>\n",
       "      <td>50000</td>\n",
       "      <td>NaN</td>\n",
       "      <td>10405</td>\n",
       "      <td>-39595.000000</td>\n",
       "      <td>-60781.000000</td>\n",
       "      <td>NaN</td>\n",
       "      <td>NaN</td>\n",
       "      <td>NaN</td>\n",
       "      <td>NaN</td>\n",
       "      <td>NaN</td>\n",
       "      <td>NaN</td>\n",
       "      <td>NaN</td>\n",
       "      <td>NaN</td>\n",
       "    </tr>\n",
       "    <tr>\n",
       "      <th>29</th>\n",
       "      <td>NaN</td>\n",
       "      <td>役務収入計</td>\n",
       "      <td>NaN</td>\n",
       "      <td>157302</td>\n",
       "      <td>NaN</td>\n",
       "      <td>160000</td>\n",
       "      <td>NaN</td>\n",
       "      <td>91852</td>\n",
       "      <td>-68148.000000</td>\n",
       "      <td>-65450.000000</td>\n",
       "      <td>NaN</td>\n",
       "      <td>NaN</td>\n",
       "      <td>NaN</td>\n",
       "      <td>NaN</td>\n",
       "      <td>NaN</td>\n",
       "      <td>NaN</td>\n",
       "      <td>NaN</td>\n",
       "      <td>NaN</td>\n",
       "    </tr>\n",
       "    <tr>\n",
       "      <th>30</th>\n",
       "      <td>その他</td>\n",
       "      <td>来店台数</td>\n",
       "      <td>NaN</td>\n",
       "      <td>1223</td>\n",
       "      <td>1300</td>\n",
       "      <td>NaN</td>\n",
       "      <td>1267</td>\n",
       "      <td>NaN</td>\n",
       "      <td>-33.000000</td>\n",
       "      <td>44.000000</td>\n",
       "      <td>NaN</td>\n",
       "      <td>NaN</td>\n",
       "      <td>NaN</td>\n",
       "      <td>NaN</td>\n",
       "      <td>NaN</td>\n",
       "      <td>NaN</td>\n",
       "      <td>NaN</td>\n",
       "      <td>NaN</td>\n",
       "    </tr>\n",
       "    <tr>\n",
       "      <th>31</th>\n",
       "      <td>NaN</td>\n",
       "      <td>フリー件数</td>\n",
       "      <td>NaN</td>\n",
       "      <td>67</td>\n",
       "      <td>60</td>\n",
       "      <td>NaN</td>\n",
       "      <td>63</td>\n",
       "      <td>NaN</td>\n",
       "      <td>3.000000</td>\n",
       "      <td>-4.000000</td>\n",
       "      <td>NaN</td>\n",
       "      <td>NaN</td>\n",
       "      <td>NaN</td>\n",
       "      <td>NaN</td>\n",
       "      <td>NaN</td>\n",
       "      <td>NaN</td>\n",
       "      <td>NaN</td>\n",
       "      <td>NaN</td>\n",
       "    </tr>\n",
       "    <tr>\n",
       "      <th>32</th>\n",
       "      <td>NaN</td>\n",
       "      <td>まいどカード</td>\n",
       "      <td>NaN</td>\n",
       "      <td>2</td>\n",
       "      <td>5</td>\n",
       "      <td>NaN</td>\n",
       "      <td>1</td>\n",
       "      <td>NaN</td>\n",
       "      <td>-4.000000</td>\n",
       "      <td>-1.000000</td>\n",
       "      <td>NaN</td>\n",
       "      <td>NaN</td>\n",
       "      <td>NaN</td>\n",
       "      <td>NaN</td>\n",
       "      <td>NaN</td>\n",
       "      <td>NaN</td>\n",
       "      <td>NaN</td>\n",
       "      <td>NaN</td>\n",
       "    </tr>\n",
       "    <tr>\n",
       "      <th>33</th>\n",
       "      <td>NaN</td>\n",
       "      <td>電子プリカ</td>\n",
       "      <td>NaN</td>\n",
       "      <td>214000</td>\n",
       "      <td>220000</td>\n",
       "      <td>NaN</td>\n",
       "      <td>303000</td>\n",
       "      <td>NaN</td>\n",
       "      <td>83000.000000</td>\n",
       "      <td>89000.000000</td>\n",
       "      <td>NaN</td>\n",
       "      <td>NaN</td>\n",
       "      <td>NaN</td>\n",
       "      <td>NaN</td>\n",
       "      <td>NaN</td>\n",
       "      <td>NaN</td>\n",
       "      <td>NaN</td>\n",
       "      <td>NaN</td>\n",
       "    </tr>\n",
       "    <tr>\n",
       "      <th>34</th>\n",
       "      <td>NaN</td>\n",
       "      <td>労働時間</td>\n",
       "      <td>NaN</td>\n",
       "      <td>407.5</td>\n",
       "      <td>410</td>\n",
       "      <td>NaN</td>\n",
       "      <td>381</td>\n",
       "      <td>NaN</td>\n",
       "      <td>-29.000000</td>\n",
       "      <td>-26.500000</td>\n",
       "      <td>NaN</td>\n",
       "      <td>NaN</td>\n",
       "      <td>NaN</td>\n",
       "      <td>NaN</td>\n",
       "      <td>NaN</td>\n",
       "      <td>NaN</td>\n",
       "      <td>NaN</td>\n",
       "      <td>NaN</td>\n",
       "    </tr>\n",
       "    <tr>\n",
       "      <th>35</th>\n",
       "      <td>NaN</td>\n",
       "      <td>総売上利益</td>\n",
       "      <td>NaN</td>\n",
       "      <td>739600</td>\n",
       "      <td>NaN</td>\n",
       "      <td>750200</td>\n",
       "      <td>NaN</td>\n",
       "      <td>619738</td>\n",
       "      <td>-130462.170000</td>\n",
       "      <td>-119862.620000</td>\n",
       "      <td>NaN</td>\n",
       "      <td>NaN</td>\n",
       "      <td>NaN</td>\n",
       "      <td>NaN</td>\n",
       "      <td>NaN</td>\n",
       "      <td>NaN</td>\n",
       "      <td>NaN</td>\n",
       "      <td>NaN</td>\n",
       "    </tr>\n",
       "    <tr>\n",
       "      <th>36</th>\n",
       "      <td>経費</td>\n",
       "      <td>人件費</td>\n",
       "      <td>NaN</td>\n",
       "      <td>564458</td>\n",
       "      <td>NaN</td>\n",
       "      <td>500000</td>\n",
       "      <td>NaN</td>\n",
       "      <td>550588</td>\n",
       "      <td>50588.000000</td>\n",
       "      <td>-13870.000000</td>\n",
       "      <td>NaN</td>\n",
       "      <td>NaN</td>\n",
       "      <td>NaN</td>\n",
       "      <td>NaN</td>\n",
       "      <td>NaN</td>\n",
       "      <td>NaN</td>\n",
       "      <td>NaN</td>\n",
       "      <td>NaN</td>\n",
       "    </tr>\n",
       "    <tr>\n",
       "      <th>37</th>\n",
       "      <td>NaN</td>\n",
       "      <td>その他経費</td>\n",
       "      <td>NaN</td>\n",
       "      <td>350000</td>\n",
       "      <td>NaN</td>\n",
       "      <td>350000</td>\n",
       "      <td>NaN</td>\n",
       "      <td>350000</td>\n",
       "      <td>0.000000</td>\n",
       "      <td>0.000000</td>\n",
       "      <td>NaN</td>\n",
       "      <td>NaN</td>\n",
       "      <td>NaN</td>\n",
       "      <td>NaN</td>\n",
       "      <td>NaN</td>\n",
       "      <td>NaN</td>\n",
       "      <td>NaN</td>\n",
       "      <td>NaN</td>\n",
       "    </tr>\n",
       "    <tr>\n",
       "      <th>38</th>\n",
       "      <td>NaN</td>\n",
       "      <td>総経費</td>\n",
       "      <td>NaN</td>\n",
       "      <td>914458</td>\n",
       "      <td>NaN</td>\n",
       "      <td>850000</td>\n",
       "      <td>NaN</td>\n",
       "      <td>900588</td>\n",
       "      <td>50588.000000</td>\n",
       "      <td>-13870.000000</td>\n",
       "      <td>NaN</td>\n",
       "      <td>NaN</td>\n",
       "      <td>NaN</td>\n",
       "      <td>NaN</td>\n",
       "      <td>NaN</td>\n",
       "      <td>NaN</td>\n",
       "      <td>NaN</td>\n",
       "      <td>NaN</td>\n",
       "    </tr>\n",
       "    <tr>\n",
       "      <th>39</th>\n",
       "      <td>指数</td>\n",
       "      <td>Ｆ指数</td>\n",
       "      <td>NaN</td>\n",
       "      <td>0.475411</td>\n",
       "      <td>NaN</td>\n",
       "      <td>0.5234</td>\n",
       "      <td>NaN</td>\n",
       "      <td>0.256185</td>\n",
       "      <td>0.267215</td>\n",
       "      <td>-0.219227</td>\n",
       "      <td>NaN</td>\n",
       "      <td>NaN</td>\n",
       "      <td>NaN</td>\n",
       "      <td>NaN</td>\n",
       "      <td>NaN</td>\n",
       "      <td>NaN</td>\n",
       "      <td>NaN</td>\n",
       "      <td>NaN</td>\n",
       "    </tr>\n",
       "    <tr>\n",
       "      <th>40</th>\n",
       "      <td>NaN</td>\n",
       "      <td>サクセス指数</td>\n",
       "      <td>NaN</td>\n",
       "      <td>15.155</td>\n",
       "      <td>NaN</td>\n",
       "      <td>13.2943</td>\n",
       "      <td>NaN</td>\n",
       "      <td>17.5241</td>\n",
       "      <td>4.229897</td>\n",
       "      <td>2.369155</td>\n",
       "      <td>NaN</td>\n",
       "      <td>NaN</td>\n",
       "      <td>NaN</td>\n",
       "      <td>NaN</td>\n",
       "      <td>NaN</td>\n",
       "      <td>NaN</td>\n",
       "      <td>NaN</td>\n",
       "      <td>NaN</td>\n",
       "    </tr>\n",
       "  </tbody>\n",
       "</table>\n",
       "</div>"
      ],
      "text/plain": [
       "   column1         備前       10      2011      計画  column4       実績   column6  \\\n",
       "0      NaN         品名      利益＠      前年実績      数量     利益金額       数量      利益金額   \n",
       "1      燃料油    スーパーゼアス       11   4309.08    4500    49500  3831.85   42150.3   \n",
       "2      NaN        ゼアス       11   24379.4   25000   275000  24634.3    270977   \n",
       "3      NaN       揮発油計       11   28688.5   29500   324500  28466.1    313128   \n",
       "4      NaN        軽　油       11   13395.2   14000   154000  14581.6    160398   \n",
       "5      NaN        灯　油       10       833    1000    10000      516      5160   \n",
       "6      NaN      産業用灯油        3         0       0        0        0         0   \n",
       "7      NaN         重油     12.3         0       0        0        0         0   \n",
       "8      ゼプロ        ゼプロ      450      94.5      82    36900     47.9     21555   \n",
       "9      NaN      ＡＴＦ数量      600         0      18    10800        0         0   \n",
       "10     NaN   フラッシング数量      200         2      20     4000        7      1400   \n",
       "11     NaN       ゼプロ計  430.833     113.3     120    51700     54.9     22955   \n",
       "12     NaN     その他Ｌ/Ｏ      100         0       0        0        0         0   \n",
       "13     ＴＢＡ   オイルエレメント      500        11      12     6000        7      3500   \n",
       "14     NaN      バッテリー     3500         1       2     7000        3     10500   \n",
       "15     NaN        タイヤ     1500         8      16    24000        0         0   \n",
       "16     NaN       ワイパー      600         2       0        0        1       600   \n",
       "17     NaN     エアコン関連     1000         0       0        0        0         0   \n",
       "18     NaN    ラジエータ関連      350         9      10     3500        7      2450   \n",
       "19     NaN        清浄剤      400         0       0        0        0         0   \n",
       "20     NaN        水抜剤      400         0       0        0        0         0   \n",
       "21     NaN  メタルプロテクター      800         2       5     4000        3      2400   \n",
       "22     NaN        ギフト      500         0       0        0        0         0   \n",
       "23     NaN        その他     0.25    134451   22000     5500    27181   6795.25   \n",
       "24     NaN       ＴＢＡ計     0.25    242251  200000    50000   104981   26245.2   \n",
       "25      役収         洗車  2262.42     86116      60   110000       36     81447   \n",
       "26     NaN         車検      NaN         0       0        0        0         0   \n",
       "27     NaN         車販      NaN         0       0        0        0         0   \n",
       "28     NaN      その他役収      NaN     71186     NaN    50000      NaN     10405   \n",
       "29     NaN      役務収入計      NaN    157302     NaN   160000      NaN     91852   \n",
       "30     その他       来店台数      NaN      1223    1300      NaN     1267       NaN   \n",
       "31     NaN      フリー件数      NaN        67      60      NaN       63       NaN   \n",
       "32     NaN     まいどカード      NaN         2       5      NaN        1       NaN   \n",
       "33     NaN      電子プリカ      NaN    214000  220000      NaN   303000       NaN   \n",
       "34     NaN       労働時間      NaN     407.5     410      NaN      381       NaN   \n",
       "35     NaN      総売上利益      NaN    739600     NaN   750200      NaN    619738   \n",
       "36      経費        人件費      NaN    564458     NaN   500000      NaN    550588   \n",
       "37     NaN      その他経費      NaN    350000     NaN   350000      NaN    350000   \n",
       "38     NaN        総経費      NaN    914458     NaN   850000      NaN    900588   \n",
       "39      指数        Ｆ指数      NaN  0.475411     NaN   0.5234      NaN  0.256185   \n",
       "40     NaN     サクセス指数      NaN    15.155     NaN  13.2943      NaN   17.5241   \n",
       "\n",
       "              計画差            前年差  column9 column10 column11 column12 column13  \\\n",
       "0             NaN            NaN      NaN      NaN      NaN      NaN      NaN   \n",
       "1     -668.150000    -477.230000      NaN     2011       現金      プリカ   現金＋プリカ   \n",
       "2     -365.700000     254.870000      NaN       揮計  3004.67  1479.68  4484.35   \n",
       "3    -1033.850000    -222.360000      NaN       軽油   223.99    58.45   282.44   \n",
       "4      581.630000    1186.440000      NaN       灯油      200      126      326   \n",
       "5     -484.000000    -317.000000      NaN      NaN      NaN      NaN      NaN   \n",
       "6        0.000000       0.000000      NaN     2012       現金      プリカ   現金＋プリカ   \n",
       "7        0.000000       0.000000      NaN       揮計  3005.35  1882.55   4887.9   \n",
       "8      -34.100000     -46.600000      NaN       軽油   165.25       20   185.25   \n",
       "9      -18.000000       0.000000      NaN       灯油      114      210      324   \n",
       "10     -13.000000       5.000000      NaN      NaN      NaN      NaN      NaN   \n",
       "11     -65.100000     -58.400000      NaN        差       現金      プリカ   現金＋プリカ   \n",
       "12       0.000000       0.000000      NaN       揮計     0.68   402.87   403.55   \n",
       "13      -5.000000      -4.000000      NaN       軽油   -58.74   -38.45   -97.19   \n",
       "14       1.000000       2.000000      NaN       灯油      -86       84       -2   \n",
       "15     -16.000000      -8.000000      NaN      NaN      NaN      NaN      NaN   \n",
       "16       1.000000      -1.000000      NaN      NaN      NaN      NaN      NaN   \n",
       "17       0.000000       0.000000      NaN      NaN      NaN      NaN      NaN   \n",
       "18      -3.000000      -2.000000      NaN      NaN      NaN      NaN      NaN   \n",
       "19       0.000000       0.000000      NaN      NaN      NaN      NaN      NaN   \n",
       "20       0.000000       0.000000      NaN      NaN      NaN      NaN      NaN   \n",
       "21      -2.000000       1.000000      NaN      NaN      NaN      NaN      NaN   \n",
       "22       0.000000       0.000000      NaN      NaN      NaN      NaN      NaN   \n",
       "23    5181.000000            NaN      NaN      NaN      NaN      NaN      NaN   \n",
       "24  -95019.000000 -137270.000000      NaN      NaN      NaN      NaN      NaN   \n",
       "25  -28553.000000   -4669.000000      NaN      NaN      NaN      NaN      NaN   \n",
       "26       0.000000       0.000000      NaN      NaN      NaN      NaN      NaN   \n",
       "27       0.000000       0.000000      NaN      NaN      NaN      NaN      NaN   \n",
       "28  -39595.000000  -60781.000000      NaN      NaN      NaN      NaN      NaN   \n",
       "29  -68148.000000  -65450.000000      NaN      NaN      NaN      NaN      NaN   \n",
       "30     -33.000000      44.000000      NaN      NaN      NaN      NaN      NaN   \n",
       "31       3.000000      -4.000000      NaN      NaN      NaN      NaN      NaN   \n",
       "32      -4.000000      -1.000000      NaN      NaN      NaN      NaN      NaN   \n",
       "33   83000.000000   89000.000000      NaN      NaN      NaN      NaN      NaN   \n",
       "34     -29.000000     -26.500000      NaN      NaN      NaN      NaN      NaN   \n",
       "35 -130462.170000 -119862.620000      NaN      NaN      NaN      NaN      NaN   \n",
       "36   50588.000000  -13870.000000      NaN      NaN      NaN      NaN      NaN   \n",
       "37       0.000000       0.000000      NaN      NaN      NaN      NaN      NaN   \n",
       "38   50588.000000  -13870.000000      NaN      NaN      NaN      NaN      NaN   \n",
       "39       0.267215      -0.219227      NaN      NaN      NaN      NaN      NaN   \n",
       "40       4.229897       2.369155      NaN      NaN      NaN      NaN      NaN   \n",
       "\n",
       "   column14 column15 column16  \n",
       "0       NaN      NaN      NaN  \n",
       "1     クレジット       掛け       累計  \n",
       "2   11784.5  12419.7  28688.5  \n",
       "3   1988.87  11123.9  13395.2  \n",
       "4       507        0      833  \n",
       "5       NaN      NaN      NaN  \n",
       "6     クレジット       掛け       累計  \n",
       "7   12040.5  11537.7  28466.1  \n",
       "8    2527.9  11868.5  14581.6  \n",
       "9        96       96      516  \n",
       "10      NaN      NaN      NaN  \n",
       "11    クレジット       掛け       累計  \n",
       "12   256.05  -881.96  -222.36  \n",
       "13   539.03    744.6  1186.44  \n",
       "14     -411       96     -317  \n",
       "15      NaN      NaN      NaN  \n",
       "16      NaN      NaN      NaN  \n",
       "17      NaN      NaN      NaN  \n",
       "18      NaN      NaN      NaN  \n",
       "19      NaN      NaN      NaN  \n",
       "20      NaN      NaN      NaN  \n",
       "21      NaN      NaN      NaN  \n",
       "22      NaN      NaN      NaN  \n",
       "23      NaN      NaN      NaN  \n",
       "24      NaN      NaN      NaN  \n",
       "25      NaN      NaN      NaN  \n",
       "26      NaN      NaN      NaN  \n",
       "27      NaN      NaN      NaN  \n",
       "28      NaN      NaN      NaN  \n",
       "29      NaN      NaN      NaN  \n",
       "30      NaN      NaN      NaN  \n",
       "31      NaN      NaN      NaN  \n",
       "32      NaN      NaN      NaN  \n",
       "33      NaN      NaN      NaN  \n",
       "34      NaN      NaN      NaN  \n",
       "35      NaN      NaN      NaN  \n",
       "36      NaN      NaN      NaN  \n",
       "37      NaN      NaN      NaN  \n",
       "38      NaN      NaN      NaN  \n",
       "39      NaN      NaN      NaN  \n",
       "40      NaN      NaN      NaN  "
      ]
     },
     "execution_count": 59,
     "metadata": {},
     "output_type": "execute_result"
    }
   ],
   "source": [
    "xls1.columns = proccolumns\n",
    "xls1"
   ]
  },
  {
   "cell_type": "markdown",
   "metadata": {},
   "source": [
    "# Scaling up analysis using database"
   ]
  },
  {
   "cell_type": "code",
   "execution_count": 1,
   "metadata": {},
   "outputs": [
    {
     "data": {
      "text/plain": [
       "[]"
      ]
     },
     "execution_count": 1,
     "metadata": {},
     "output_type": "execute_result"
    }
   ],
   "source": [
    "import pyodbc \n",
    "[x for x in pyodbc.drivers() if x.startswith('Microsoft Access Driver')]"
   ]
  },
  {
   "cell_type": "code",
   "execution_count": null,
   "metadata": {},
   "outputs": [],
   "source": [
    "con_str = 'Driver={{Microsoft Access Driver (*.mdb, *.accdb)}};Dbq={0};'.format(r\"../datasets/mdb2000/Manage.mdb\")\n",
    "conn = pyodbc.connect(con_str)\n",
    "cur = conn.cursor()\n",
    "sql_create_table = ('select * from 実積;')\n",
    "cur.execute(sql_create_table)\n",
    "for row in cur.fetchall():\n",
    "    print(row)"
   ]
  },
  {
   "cell_type": "markdown",
   "metadata": {},
   "source": [
    "# Copyrights\n",
    "\n",
    "All rights reserved for 吉延石油株式会社 and the publishers of scraped resources.\n",
    "\n",
    "参考:\n",
    "\n",
    "* https://weblab.t.u-tokyo.ac.jp/deep-learning基礎講座演習コンテンツ-公開ページ/"
   ]
  }
 ],
 "metadata": {
  "kernelspec": {
   "display_name": "Python 3",
   "language": "python",
   "name": "python3"
  },
  "language_info": {
   "codemirror_mode": {
    "name": "ipython",
    "version": 3
   },
   "file_extension": ".py",
   "mimetype": "text/x-python",
   "name": "python",
   "nbconvert_exporter": "python",
   "pygments_lexer": "ipython3",
   "version": "3.7.7"
  }
 },
 "nbformat": 4,
 "nbformat_minor": 4
}
