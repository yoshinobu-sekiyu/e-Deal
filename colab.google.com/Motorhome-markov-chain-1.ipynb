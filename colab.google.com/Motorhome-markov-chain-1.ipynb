{
 "cells": [
  {
   "cell_type": "markdown",
   "metadata": {
    "colab_type": "text",
    "id": "dBodXRWVqqK9"
   },
   "source": [
    "# 1. DIY\n",
    "\n",
    "\n",
    "<input type=\"date\" name=\"created_date\" value=\"2020-07-23\">\n",
    "\n",
    "<annotation msg=\"This version of notebook is now released as <img src='https://img.icons8.com/ios/50/000000/alpha.png'\" />"
   ]
  },
  {
   "cell_type": "markdown",
   "metadata": {
    "colab_type": "text",
    "id": "mrPWNoZTa6i8"
   },
   "source": [
    "<p> <a href=\"https://www.youtube.com/watch?v=s6JIeIeHmEI\">こちら</a>の動画の内容と合致しているものとして、次のうち適切なものは次のイ、ロ、ハの記述のうちどれか。</p>\n",
    "\n",
    "<label><input type=\"checkbox\" name=\"Wood-made-camper-shell\">\n",
    "イ. 木材でキャンパーシェルを建築する場合、軽量だが断熱性を持たせるための加工が必要である。\n",
    "</label>\n",
    "\n",
    "<label><input type=\"checkbox\" name=\"Electric-circuits\">\n",
    "ロ.建築物内の電線はむき出しにした方がメンテナンスが容易であるため便利でいい。\n",
    "</label>\n",
    "\n",
    "<label><input type=\"checkbox\" name=\"Nail-gun\">\n",
    "ハ. 薄い木板を用いて建築をする場合、ネイラー（ネイルガン）を用いるのが良い。\n",
    "</label>\n",
    "\n",
    "<answer text=\"正解 : ハ\" explanation=\"動画中6:16時点においてテロップで表示されている。薄い木板を用いての建築時にはネイルガンを用いるのが簡便で良い。イ、ロに関しては正しいともとれるが、動画の内容と合致しているもの、という条件に適さないので不正解。\" >\n",
    "\n"
   ]
  },
  {
   "cell_type": "markdown",
   "metadata": {
    "colab_type": "text",
    "id": "1QHrymIcdk6k"
   },
   "source": [
    "\n",
    "<p> <a href=\"https://www.youtube.com/watch?v=4pjj075h01Y&t=255s\">こちら</a>の動画の内容と合致しているものとして、次のうち適切なものは次のイ、ロ、ハの記述のうちどれか。</p>\n",
    "\n",
    "<label><input type=\"checkbox\" name=\"Camping-car-registration\">\n",
    "イ.車体をキャンピングカー登録するためには乗車定員の半数が就寝できるスペースを確保する必要がある。\n",
    "</label>\n",
    "\n",
    "<label><input type=\"checkbox\" name=\"Popup-roof\">\n",
    "ロ.軽キャンピングカーであってもポップアップルーフを用いたバンクを活用すれば収納に困ることはない。\n",
    "</label>\n",
    "\n",
    "<label><input type=\"checkbox\" name=\"Camping-car-registration\">\n",
    "ハ. 乗車定員が４人である軽キャブコンにおいて、１人分の就寝スペースが確保できれば問題はない。\n",
    "</label>\n",
    "\n",
    "<answer text=\"正解 : イ、ロ\" explanation=\"イは動画中4:30時点においてテロップで表示されている。ロは本動画の主題である。ハは、誤り。乗車定員の半数以上が就寝できるスペースを確保する必要がある。\" >\n",
    "\n",
    "\n",
    "\n"
   ]
  },
  {
   "cell_type": "markdown",
   "metadata": {
    "colab_type": "text",
    "id": "5YyGqTvHfl22"
   },
   "source": [
    "\n",
    "<p> <a href=\"https://www.youtube.com/watch?v=MA7s_FLBUwQ&t=837s\">こちら</a>の動画の背景知識として合致しているものとして、次のうち適切なものは次のイ、ロ、ハの記述のうちどれか。</p>\n",
    "\n",
    "<label><input type=\"checkbox\" name=\"Inverter\">\n",
    "イ.ソーラーの充電器の出力はインバーターを用いることなく直接ソケットモジュールにつないで使用するのがいい。\n",
    "</label>\n",
    "\n",
    "<label><input type=\"checkbox\" name=\"Drain-duct\">\n",
    "ロ.排水用のドレンホースは、排水管工事の際にはシンクなどの位置が正確にはわからないため、位置調整のために蛇腹構造にしている。\n",
    "</label>\n",
    "\n",
    "<label><input type=\"checkbox\" name=\"Side-awning\">\n",
    "ハ. サイドオーニングにはロック機能が存在しないため、走行時には十分に注意する必要がある。\n",
    "</label>\n",
    "\n",
    "<answer text=\"正解 : ロ\" explanation=\"イは誤り。21:30時点においてインバータを使用している旨について説明がある。ロは正しい。3:30時点において言及されている。下記URLにおいてなぜ排水管は蛇腹構造にする習慣があるか、ということが記載されている。ハは誤り。9:06時点においてロックをしている。\" url1=\"http://xn--u9j6fla4fj3i8cud0drer684ekceeq8e.com/2016/12/%E6%8E%92%E6%B0%B4%E7%AE%A1%E6%8E%A5%E7%B6%9A%E3%81%AE%E6%B3%A8%E6%84%8F%E7%82%B9/\" >\n"
   ]
  },
  {
   "cell_type": "markdown",
   "metadata": {
    "colab_type": "text",
    "id": "yzQBV7uknMcO"
   },
   "source": [
    "## Copyright\n",
    "\n",
    "All rights reserved for 吉延石油株式会社 and the publisher of scraped resources.\n",
    "\n"
   ]
  }
 ],
 "metadata": {
  "colab": {
   "collapsed_sections": [],
   "name": "Motorhome-markov-chain-1.ipynb",
   "provenance": []
  },
  "kernelspec": {
   "display_name": "Python 3",
   "language": "python",
   "name": "python3"
  },
  "language_info": {
   "codemirror_mode": {
    "name": "ipython",
    "version": 3
   },
   "file_extension": ".py",
   "mimetype": "text/x-python",
   "name": "python",
   "nbconvert_exporter": "python",
   "pygments_lexer": "ipython3",
   "version": "3.7.1"
  }
 },
 "nbformat": 4,
 "nbformat_minor": 4
}
