{
  "nbformat": 4,
  "nbformat_minor": 0,
  "metadata": {
    "colab": {
      "name": "Nova-realistic-development-5.ipynb",
      "provenance": [],
      "collapsed_sections": []
    },
    "kernelspec": {
      "name": "python3",
      "display_name": "Python 3"
    }
  },
  "cells": [
    {
      "cell_type": "markdown",
      "metadata": {
        "id": "wIgHCiorZMOn",
        "colab_type": "text"
      },
      "source": [
        "# 5. LPガス用調整器\n",
        "\n",
        "<input type=\"date\" name=\"created-date\" value=\"2020-07-24\" />"
      ]
    },
    {
      "cell_type": "markdown",
      "metadata": {
        "id": "Y66JwsJUZZC5",
        "colab_type": "text"
      },
      "source": [
        "<p>次のイ、ロ、ハの記述のうち、供給設備（特定供給設備を除く。）の技術上の基準について正しいものはどれか。</p>\n",
        "\n",
        "<label><input type=\"checkbox\" name=\"Determined-pressure\">\n",
        "イ. 生活の用に供する液化石油ガスに係る調整器(二段式減圧用一次側のものを除く。)とガスメーターの間の供給管は、燃焼器の入り口における液化石油ガスの圧力を3.5kPaに保持するものでなければならない。\n",
        "</input></label>\n",
        "\n",
        "<label><input type=\"checkbox\" name=\"Pipe-location\">\n",
        "ロ. 供給設備の供給管は、地崩れ、山崩れ、地盤の不同沈下などの恐れのある場所または建物の基礎面下に設置してはならない。\n",
        "</input></label>\n",
        "\n",
        "<label><input type=\"checkbox\" name=\"Red-description\">\n",
        "ハ. バルク供給にかかる供給設備のバルク貯槽には、バルク貯槽またはそのバルク貯槽の周囲の見やすい場所に、液化石油ガスまたはLPガス及び火気厳禁と朱書しなければならない。\n",
        "</input></label>\n",
        "\n",
        "<answer text=\"正解 : ロ、ハ\" explanation1=\"イは誤り。右記url1の7:50においても説明がなされている通り、燃焼器入口圧力は2.0kPa以上3.3kPa以下となるように調整する必要がある。閉塞圧力の上限である3.5kPa未満であることを確認することが要点である。動画中9:00以降においては調整器の出口付近に圧力測定装置が設置できない場合、すなわち調整圧力の測定が困難な場合の方法が説明されている。閉塞圧力の測定時には燃焼機器の停止後に1分間静置することがポイントである。\" url1=\"https://m.youtube.com/watch?v=TG2f9e_mIgo\" explanation2=\"埋設管管理台帳の記載時においてロに記載の通りの内容の確認を実施する必要がある。\" url2=\"https://eg-energy.jp/relays/download/?file=/files/libs/853/201710051306106340.pdf\" explanation3=\"バルク貯槽の設置時には、「LPガス」及び「火気厳禁」の記載をする必要がある。\" url3=\"http://www.fujikoh-grp.co.jp/bulk/bulk1.pdf\" />"
      ]
    },
    {
      "cell_type": "markdown",
      "metadata": {
        "id": "0-1NP62Pjmb9",
        "colab_type": "text"
      },
      "source": [
        "<p>一般消費者等のLPガス設備に用いる調整器に関する次の記述のうち正しいものはどれか。</p>\n",
        "\n",
        "<label><input type=\"checkbox\" name=\"\">\n",
        "イ. 単段式調整器に表示されている容量(Q)は、１時間あたりに減圧することができる液化石油ガスの量[kg]を[kg/h]の単位で表している。\n",
        "</input></label>\n",
        "\n",
        "<label><input type=\"checkbox\" name=\"\">\n",
        "ロ. 自動切替式一体型調整器の表示部(シグナル)が「赤色」を表示していない時は、使用側からの供給に加えて予備側からも供給されていることを示している。\n",
        "</input></label>\n",
        "\n",
        "<label><input type=\"checkbox\" name=\"\">\n",
        "ハ. 自動切替式一体型調整器の安全装置の吹始め圧力は5.6~8.4kPaである。\n",
        "</input></label>\n",
        "\n",
        "<label><input type=\"checkbox\" name=\"\">\n",
        "二. 二段式一次用調整器は、入口圧力の上限値が1.56MPaに設計されているので、二段式一次用調整器を単独で単段式調整器の代わりとして使用することができる。\n",
        "</input></label>\n",
        "\n",
        "<answer text=\"正解 : イ、ハ\" explanation=\"ロに関しては、表示部が赤色を表示していない時は、使用側のみの供給であることを示している。\" source=\"平成21年度 第2回 講習検定\" />"
      ]
    },
    {
      "cell_type": "markdown",
      "metadata": {
        "id": "jr0oyIFloRn5",
        "colab_type": "text"
      },
      "source": [
        "# Copyrights\n",
        "\n",
        "All rights reserved for 吉延石油株式会社 and the publishers of scraped resources."
      ]
    }
  ]
}