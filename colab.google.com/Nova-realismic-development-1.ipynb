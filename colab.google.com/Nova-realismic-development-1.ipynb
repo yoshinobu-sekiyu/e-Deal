{
 "cells": [
  {
   "cell_type": "markdown",
   "metadata": {
    "colab_type": "text",
    "id": "0DM7qCP7ZzPQ"
   },
   "source": [
    "# 1. 法の目的、高圧ガスの定義等\n",
    "\n",
    "<input type=\"date\" name=\"created_date\" value=\"2020-07-13\">\n",
    "\n",
    "<annotation msg=\"This version of notebook is now released as <img src='https://img.icons8.com/ios/50/000000/alpha.png'\" />\n",
    "\n",
    "<domain type=\"geometric\" name=\"thermodynamics\"/>\n",
    "\n"
   ]
  },
  {
   "cell_type": "markdown",
   "metadata": {
    "colab_type": "text",
    "id": "l69ZEfiEdAAa"
   },
   "source": [
    "<p> 次のイ、ロ、ハの記述のうち、正しいものはどれか。</p>\n",
    "\n",
    "<label><input type=\"checkbox\" name=\"jigyoukaishi_todokede\">\n",
    "イ. 高圧ガスの販売の事業を営もうとする者は、事業の開始後、遅滞なく、その旨を都道府県知事に届け出なければならない。\n",
    "</label>\n",
    "\n",
    "<label><input type=\"checkbox\" name=\"hanbaigyousha_shuuchi_gimu\">\n",
    "ロ. 販売業者が販売する高圧ガスを購入して消費する者に災害の発生の防止について周知させなければならない場合、その対象となる高圧ガス及びその用途の一つに、熱切断用の液化石油ガスがある。\n",
    "</label>\n",
    "\n",
    "<label><input type=\"checkbox\" name=\"hanbaigyousha_shuuchi_gimu\">\n",
    "ハ. 販売業者が販売する高圧ガスを購入して消費する者に災害の発生の防止について周知させなければならない場合、その周知内容の一つに、消費設備の操作、管理及び点検に関し注意すべき基本的な事項がある。\n",
    "</label>\n",
    "\n",
    "<answer text=\"正解 : ロ、ハ\" explanation1=\"高圧ガスの製造許可対象の設備を使用して、新たに高圧ガスの製造をしようとする者や高圧ガス製造許可事業所を他社から譲り受ける者は、事業所ごとに都道府県知事（権限移譲している場合は市町村長。以下同じ。）の許可を受けなければなりません（法第5条第1項）。この許可を受けた者を「第一種製造者」といいます。第二種製造者は、事業所ごとに、製造開始の日の20日前までに都道府県知事に届け出なければなりません（法第5条第2項）。\" first-line-choice=\"https://www.khk.or.jp/administration/high_pressure_gas/procedure01.html\" explanation2=\"高圧ガスを販売する場合には、購入する者に対し、災害の発生の防止に関し必要な事項を周知させなければなりません。液化石油ガス保安規則第40条により、液化石油ガスの販売時に周知義務が定められています。\" second-line-choice=\"https://www.kankyo.metro.tokyo.lg.jp/safety/gas/about/knowledge.html\" explanation3=\"周知義務の定められている事項は次の通りです。1. 使用する消費設備のその販売する液化石油ガスに対する適応性に関する基本的な事項,2. 消費設備の操作、管理及び点検に関し注意すべき基本的な事項,3. 消費設備を使用する場所の環境に関する基本的な事項,4. 消費設備の変更に関し注意すべき基本的な事項,5. ガス漏れを感知した場合その他液化石油ガスによる災害が発生し、又は発生するおそれがある場合に消費者がとるべき緊急の措置及び販売業者等に対する連絡に関する基本的な事項,6. 前各号に掲げるもののほか、液化石油ガスによる災害の発生の防止に関し必要な事項\" third-line-choice=\"https://www.khk.or.jp/Portals/0/khk/info/journal/2018/201812-08.pdf\"/>"
   ]
  },
  {
   "cell_type": "markdown",
   "metadata": {
    "colab_type": "text",
    "id": "jQz3gss1aaR3"
   },
   "source": [
    "<p> 次のイ、ロ、ハの記述のうち、正しいものはどれか。 </p>\n",
    "\n",
    "<label><input type=\"checkbox\" name=\"Test-when-import\">\n",
    "イ. 容器に充填された高圧ガスである液化石油ガスの輸入検査において、その検査対象は輸入をした液化石油ガス及びその容器である。\n",
    "</input></label>\n",
    "\n",
    "<label><input type=\"checkbox\" name=\"Notification\">\n",
    "ロ. 特定高圧ガス消費者は、第一種製造者であっても事業所ごとに、消費開始の日の20日前までに、特定高圧ガスの消費について、都道府県知事に届け出なければならない。\n",
    "</input></label>\n",
    "\n",
    "<label><input type=\"checkbox\" name=\"Type1-storage\">\n",
    "ハ. 販売業者が高圧ガスの販売のため、質量1万キログラムの液化石油ガスを貯蔵するときは、第二種貯蔵所において貯蔵することができる。\n",
    "</input></label>\n",
    "\n",
    "<answer text=\"正解 : イ、ロ\" explanation1=\"高圧法第22条（輸入検査）には、<高圧ガスを輸入した者は、輸入をした高圧ガス及びその容器につき、都道府県知事が行う検査を受け...>と規定されている。\" first-line-choice=\"\" explanation2=\"高圧法第24条の2(消費)には、<...政令で定める種類の高圧ガスを消費する者は、事業所ごとに、消費開始の日の20日前までに...>と規定されており、第一種製造者を除く旨の規定はない。\" second-line-choice=\"\" explanation3=\"\" third-line-choice=\"高圧法第16条(貯蔵所)第1項に<容積300m^3以上の高圧ガスを貯蔵するときは、あらかじめ都道府県知事の許可を受けて設置する貯蔵所(以下、「第一種貯蔵所」という)においてしなければならない。...>と規定されている。同条第三項に液化ガス10kgをもって容積1m^3とみなすとされていることから、1000m^3に相当する第二種ガスは、第一種貯蔵所に貯蔵する必要がある。ちなみに、ヘリウム、ネオン、アルゴン、クリプトン、キセノン、ラドン、窒素、二酸化炭素、フルオロカーボン又は空気が第一種ガスに該当し、それら以外は第二種ガスである。\" />\n"
   ]
  },
  {
   "cell_type": "markdown",
   "metadata": {
    "colab_type": "text",
    "id": "Sw7Qk4lmaw0J"
   },
   "source": [
    "<p>次のイ、ロ、ハの記述のうち、正しいものはどれか。</p>\n",
    "\n",
    "<label><input type=\"checkbox\" name=\"Sylinder-incident-and-remedy\">\n",
    "イ. 充填容器等が火災を受けたとき、その充填されている高圧ガスを容器とともに損害を他に及ぼす恐れのない水中に沈めることは、その容器の所有者又は占有者がとるべき応急の措置の一つである。\n",
    "</input></label>\n",
    "\n",
    "<label><input type=\"checkbox\" name=\"Theft-of-sylinder\">\n",
    "ロ. 販売業者は、その所有する容器を盗まれたとき、その旨を都道府県知事又は警察官に届け出なければならない。\n",
    "</input></label>\n",
    "\n",
    "<label><input type=\"checkbox\" name=\"Determined-accountbook\">\n",
    "ハ. 液化石油ガスを販売する複数の販売所を有する販売業者は、主たる販売所に液化石油ガスの販売に関する所定の帳簿を備えれば、その他の販売所にはその帳簿を備えなくてもいい。\n",
    "</input></label>\n",
    "\n",
    "<answer text=\"正解 : イ、ロ\" explanation1=\"\" url1=\"\" explanation2=\"\" url2=\"\" explanation3=\"\" url3=\"\" />"
   ]
  },
  {
   "cell_type": "markdown",
   "metadata": {
    "colab_type": "text",
    "id": "RkSaOla-l5Y5"
   },
   "source": [
    "<p>次のイ、ロ、ハの記述のうち、正しいものはどれか。</p>\n",
    "\n",
    "<label><input type=\"checkbox\" name=\"Proactive-sylinder-incident-response\">\n",
    "イ. 高圧ガスを充填した容器が危険な事態となっていることを発見した者は、その旨を都道府県知事又は警察官、消防吏員若しくは消防団員もしくは海上保安官に届け出る必要はないが、直ちに、応急の措置を講じなければならない。\n",
    "</input></label>\n",
    "\n",
    "<label><input type=\"checkbox\" name=\"Incodent-response\">\n",
    "ロ. 販売業者は、その所有し、又は占有する高圧ガスについて災害が発生したときは、遅滞なく、その旨を都道府県知事又は警察官に届け出なければならない。\n",
    "</input></label>\n",
    "\n",
    "<label><input type=\"checkbox\" name=\"Determined-area\">\n",
    "ハ. 販売業者がその販売所内において指定した場所では、その販売業者の従業者を除き、何人も火気を取り扱ってはならない。\n",
    "</input></label>\n",
    "\n",
    "<answer text=\"正解 : ロ\" explanation1=\"\" url1=\"\" explanation2=\"\" url2=\"\" explanation3=\"\" url3=\"\" />"
   ]
  },
  {
   "cell_type": "markdown",
   "metadata": {
    "colab_type": "text",
    "id": "sOS44d1ig7a1"
   },
   "source": [
    "\n",
    "<p>次のイ、ロ、ハの記述のうち、正しいものはどれか。</p>\n",
    "\n",
    "<label><input type=\"checkbox\" name=\"High-pressured-gas-hoan\">\n",
    "イ. 高圧ガス保安法は、高圧ガスによる災害を防止して公共の安全を確保するという目的のために、高圧ガスの製造、貯蔵、販売、移動その他の取り扱い及び消費の規制をすることのみを定めている。\n",
    "</input></label>\n",
    "\n",
    "<label><input type=\"checkbox\" name=\"Def-high-pressured-gas\">\n",
    "ロ. 常温の温度35度において圧力が1メガパスカルとなる圧縮ガス(圧縮アセチレンガスを除く。)であって、現在の圧力が0.9MPaのものは高圧ガスではない。\n",
    "</input></label>\n",
    "\n",
    "<label><input type=\"checkbox\" name=\"Def-high-pressured-gas\">\n",
    "ハ. 常用の温度において圧力が0.15MPaの液化ガスであっても、圧力が0.2MPaとなる場合の温度が25度であるものは、高圧ガスである。\n",
    "</input></label>\n",
    "\n",
    "<answer text=\"正解 : ハ\" explanation1=\"\" url1=\"\" explanation2=\"\" url2=\"\" explanation3=\"\" url3=\"\" />"
   ]
  },
  {
   "cell_type": "markdown",
   "metadata": {
    "colab_type": "text",
    "id": "q8RUdgT4l1Pw"
   },
   "source": [
    "<p>次のイ、ロ、ハの記述のうち、液化石油ガスの販売業者について液化石油ガス保安規則上正しいものはどれか。</p>\n",
    "\n",
    "<label><input type=\"checkbox\" name=\"Shuuchi_gimu\">\n",
    "イ. 販売業者が販売する液化石油ガスを購入して消費するものに対し、所定の方法により、その液化石油ガスによる災害の発生の防止に関し必要な所定の事項を周知させなければならない場合、販売業者は、「消費設備の変更に関し注意すべき基本的な事項」を周知させる必要はない。\n",
    "</input></label>\n",
    "\n",
    "<label><input type=\"checkbox\" name=\"Daicho\">\n",
    "ロ. 販売業者は、液化石油ガスの引渡先の保安状況を明記した台帳を備えなければならない。\n",
    "</input></label>\n",
    "\n",
    "<label><input type=\"checkbox\" name=\"Def-high-pressured-gas\">\n",
    "ハ. 販売業者は、選任していた販売主任者を解任し、新たに販売主任者を選任したときは、解任した販売主任者及び新たに選任した販売主任者の両者について、その旨を遅滞なく、都道府県知事に届け出なければならない。\n",
    "</input></label>\n",
    "\n",
    "<answer text=\"正解 : ロ、ハ\" explanation1=\"\" url1=\"\" explanation2=\"\" url2=\"\" explanation3=\"\" url3=\"\" />"
   ]
  },
  {
   "cell_type": "markdown",
   "metadata": {
    "colab_type": "text",
    "id": "jBek7jEjmh0H"
   },
   "source": [
    "<p>次のイ、ロ、ハの記述のうち、正しいものはどれか。</p>\n",
    "\n",
    "<label><input type=\"checkbox\" name=\"Notification-duty-when-in-disaster\">\n",
    "イ. 第一種貯蔵所の所有者又は占有者は、その所有し、又は占有する高圧ガスについて災害が発生したときは、遅滞なく、その旨を都道府県知事又は警察官に届け出なければならないが、第二種貯蔵所の所有者又は占有者にあっては、その必要はない。\n",
    "</input></label>\n",
    "\n",
    "<label><input type=\"checkbox\" name=\"Def-high-pressured-gas\">\n",
    "ロ. 圧力が0.2MPaとなる場合の温度が32度である液化ガスは、現在の圧力が0.1MPaであっても、高圧ガスである。\n",
    "</input></label>\n",
    "\n",
    "<label><input type=\"checkbox\" name=\"Accountbook-preservation-period\">\n",
    "ハ. 第二種貯蔵所の占有者は、その第二貯蔵所に異常があったので、その年月日及びそれに対してとった措置を帳簿に記載し、これを保存していたが、記載の日から2年経過してもその第二種貯蔵所に異常がなかったので、この時点でその帳簿を廃棄した。\n",
    "</input></label>\n",
    "\n",
    "<answer text=\"正解 : ロ\" explanation1=\"\" url1=\"\" explanation2=\"\" url2=\"\" explanation3=\"\" url3=\"\" />"
   ]
  },
  {
   "cell_type": "markdown",
   "metadata": {
    "colab_type": "text",
    "id": "NBbqDKlQrRAV"
   },
   "source": [
    "# 2. 数値計算演習\n",
    "\n",
    "<problem> FEniCS projectをもとに下記のプログラムを吟味せよ。</problem>\n",
    "<reference url1=\"https://cpb-us-w2.wpmucdn.com/sites.baylor.edu/dist/6/32/files/2015/01/pyHPC13-15yf3k3.pdf\" url2=\"https://fenicsproject.discourse.group/t/dolfinx-build-from-source-fails-at-ffcx-pip3-install/3118/8\" url3=\"https://fenicsproject.org/docs/dolfin/1.6.0/python/demo/documented/auto-adaptive-poisson/python/documentation.html\" />\n",
    "\n",
    "<message msg=\"Implement and build program in https://hub.docker.com/r/yoshinobusekiyu4docker/nova-dev-env\" />"
   ]
  },
  {
   "cell_type": "markdown",
   "metadata": {
    "colab_type": "text",
    "id": "nxKQZkEkzC2G"
   },
   "source": [
    "## 2-a. Tutorial in FEniCS"
   ]
  },
  {
   "cell_type": "code",
   "execution_count": null,
   "metadata": {
    "colab": {
     "base_uri": "https://localhost:8080/",
     "height": 1000
    },
    "colab_type": "code",
    "id": "ZstOES7XsEFr",
    "outputId": "acbc8963-71ed-4bf2-c189-59407ff6a223"
   },
   "outputs": [
    {
     "name": "stdout",
     "output_type": "stream",
     "text": [
      "E: Package 'python-software-properties' has no installation candidate\n",
      "Get:1 http://ppa.launchpad.net/fenics-packages/fenics/ubuntu bionic InRelease [15.4 kB]\n",
      "Hit:2 http://archive.ubuntu.com/ubuntu bionic InRelease\n",
      "Get:3 http://archive.ubuntu.com/ubuntu bionic-updates InRelease [88.7 kB]\n",
      "Hit:4 http://ppa.launchpad.net/graphics-drivers/ppa/ubuntu bionic InRelease\n",
      "Get:5 https://cloud.r-project.org/bin/linux/ubuntu bionic-cran35/ InRelease [3,626 B]\n",
      "Get:6 http://ppa.launchpad.net/marutter/c2d4u3.5/ubuntu bionic InRelease [15.4 kB]\n",
      "Get:7 http://archive.ubuntu.com/ubuntu bionic-backports InRelease [74.6 kB]\n",
      "Get:8 http://security.ubuntu.com/ubuntu bionic-security InRelease [88.7 kB]\n",
      "Ign:9 https://developer.download.nvidia.com/compute/cuda/repos/ubuntu1804/x86_64  InRelease\n",
      "Get:10 http://ppa.launchpad.net/fenics-packages/fenics/ubuntu bionic/main amd64 Packages [5,700 B]\n",
      "Ign:11 https://developer.download.nvidia.com/compute/machine-learning/repos/ubuntu1804/x86_64  InRelease\n",
      "Hit:12 https://developer.download.nvidia.com/compute/cuda/repos/ubuntu1804/x86_64  Release\n",
      "Hit:13 https://developer.download.nvidia.com/compute/machine-learning/repos/ubuntu1804/x86_64  Release\n",
      "Get:14 http://archive.ubuntu.com/ubuntu bionic-updates/multiverse amd64 Packages [27.1 kB]\n",
      "Get:15 http://archive.ubuntu.com/ubuntu bionic-updates/main amd64 Packages [1,334 kB]\n",
      "Get:16 http://archive.ubuntu.com/ubuntu bionic-updates/universe amd64 Packages [1,413 kB]\n",
      "Get:17 http://archive.ubuntu.com/ubuntu bionic-updates/restricted amd64 Packages [116 kB]\n",
      "Get:18 http://ppa.launchpad.net/marutter/c2d4u3.5/ubuntu bionic/main Sources [1,854 kB]\n",
      "Get:19 http://ppa.launchpad.net/marutter/c2d4u3.5/ubuntu bionic/main amd64 Packages [895 kB]\n",
      "Get:22 http://security.ubuntu.com/ubuntu bionic-security/universe amd64 Packages [880 kB]\n",
      "Get:23 http://security.ubuntu.com/ubuntu bionic-security/main amd64 Packages [1,033 kB]\n",
      "Fetched 7,844 kB in 3s (2,914 kB/s)\n",
      "Reading package lists... Done\n",
      "Reading package lists... Done\n",
      "Building dependency tree       \n",
      "Reading state information... Done\n",
      "The following package was automatically installed and is no longer required:\n",
      "  libnvidia-common-440\n",
      "Use 'apt autoremove' to remove it.\n",
      "The following additional packages will be installed:\n",
      "  dolfin-bin dolfin-doc libamd2 libarpack2-dev libblas-dev libblas3 libbtf1\n",
      "  libcamd2 libccolamd2 libcholmod3 libcolamd2 libcxsparse3 libdolfin-dev\n",
      "  libdolfin2019.1 libeigen3-dev libfftw3-bin libfftw3-dev libfftw3-long3\n",
      "  libfftw3-mpi-dev libfftw3-mpi3 libfftw3-quad3 libfftw3-single3 libgraphblas1\n",
      "  libhdf5-mpi-dev libhdf5-openmpi-dev libhypre-2.13.0 libhypre-dev libklu1\n",
      "  libldl2 libmetis5 libmshr-dev libmshr2019.1 libmumps-5.1.2 libmumps-dev\n",
      "  libparpack2 libparpack2-dev libpetsc3.7.7 libpetsc3.7.7-dev libproj-dev\n",
      "  libptscotch-6.0 libptscotch-dev librbio2 libscalapack-mpi-dev\n",
      "  libscalapack-openmpi-dev libscalapack-openmpi2.0 libscotch-6.0 libscotch-dev\n",
      "  libslepc3.7.4 libslepc3.7.4-dev libspooles-dev libspooles2.2 libspqr2\n",
      "  libsuitesparse-dev libsuitesparseconfig5 libsuperlu-dev libsuperlu-dist5\n",
      "  libtet1.5 libumfpack5 pybind11-dev python-ufl-doc python3-dijitso\n",
      "  python3-dolfin python3-ffc python3-fiat python3-mpi4py python3-mpmath\n",
      "  python3-mshr python3-petsc4py python3-pkg-resources python3-pkgconfig\n",
      "  python3-ply python3-pybind11 python3-six python3-slepc4py python3-sympy\n",
      "  python3-ufl\n",
      "Suggested packages:\n",
      "  liblapack-doc libeigen3-doc libmrpt-dev libfftw3-doc libhdf5-doc petsc-dev\n",
      "  libpetsc3.7.7-dbg petsc3.7.7-doc libluminate-dev proj-bin scalapack-doc\n",
      "  slepc3.7.4-doc spooles-doc libsuperlu-doc pybind11-doc python-dijitso-doc\n",
      "  python3-gmpy2 python3-matplotlib python-mpmath-doc python3-setuptools\n",
      "  python-ply-doc texlive-fonts-extra dvipng python-sympy-doc\n",
      "Recommended packages:\n",
      "  tcsh | csh | c-shell ksh | mksh | pdksh | zsh python-petsc4py-docs\n",
      "  python-slepc4py-docs python3-pil ipython3\n",
      "The following NEW packages will be installed:\n",
      "  dolfin-bin dolfin-doc fenics libamd2 libarpack2-dev libblas-dev libblas3\n",
      "  libbtf1 libcamd2 libccolamd2 libcholmod3 libcolamd2 libcxsparse3\n",
      "  libdolfin-dev libdolfin2019.1 libeigen3-dev libfftw3-bin libfftw3-dev\n",
      "  libfftw3-long3 libfftw3-mpi-dev libfftw3-mpi3 libfftw3-quad3\n",
      "  libfftw3-single3 libgraphblas1 libhdf5-mpi-dev libhdf5-openmpi-dev\n",
      "  libhypre-2.13.0 libhypre-dev libklu1 libldl2 libmetis5 libmshr-dev\n",
      "  libmshr2019.1 libmumps-5.1.2 libmumps-dev libparpack2 libparpack2-dev\n",
      "  libpetsc3.7.7 libpetsc3.7.7-dev libproj-dev libptscotch-6.0 libptscotch-dev\n",
      "  librbio2 libscalapack-mpi-dev libscalapack-openmpi-dev\n",
      "  libscalapack-openmpi2.0 libscotch-6.0 libscotch-dev libslepc3.7.4\n",
      "  libslepc3.7.4-dev libspooles-dev libspooles2.2 libspqr2 libsuitesparse-dev\n",
      "  libsuitesparseconfig5 libsuperlu-dev libsuperlu-dist5 libtet1.5 libumfpack5\n",
      "  pybind11-dev python-ufl-doc python3-dijitso python3-dolfin python3-ffc\n",
      "  python3-fiat python3-mpi4py python3-mpmath python3-mshr python3-petsc4py\n",
      "  python3-pkg-resources python3-pkgconfig python3-ply python3-pybind11\n",
      "  python3-six python3-slepc4py python3-sympy python3-ufl\n",
      "0 upgraded, 77 newly installed, 0 to remove and 38 not upgraded.\n",
      "Need to get 50.6 MB of archives.\n",
      "After this operation, 267 MB of additional disk space will be used.\n",
      "Get:1 http://archive.ubuntu.com/ubuntu bionic/main amd64 libsuitesparseconfig5 amd64 1:5.1.2-2 [9,044 B]\n",
      "Get:2 http://archive.ubuntu.com/ubuntu bionic/main amd64 libamd2 amd64 1:5.1.2-2 [19.5 kB]\n",
      "Get:3 http://archive.ubuntu.com/ubuntu bionic/main amd64 libblas3 amd64 3.7.1-4ubuntu1 [140 kB]\n",
      "Get:4 http://archive.ubuntu.com/ubuntu bionic/main amd64 libcamd2 amd64 1:5.1.2-2 [20.9 kB]\n",
      "Get:5 http://archive.ubuntu.com/ubuntu bionic/main amd64 libccolamd2 amd64 1:5.1.2-2 [21.7 kB]\n",
      "Get:6 http://archive.ubuntu.com/ubuntu bionic/main amd64 libcolamd2 amd64 1:5.1.2-2 [16.2 kB]\n",
      "Get:7 http://archive.ubuntu.com/ubuntu bionic/main amd64 libmetis5 amd64 5.1.0.dfsg-5 [169 kB]\n",
      "Get:8 http://archive.ubuntu.com/ubuntu bionic/main amd64 libcholmod3 amd64 1:5.1.2-2 [300 kB]\n",
      "Get:9 http://archive.ubuntu.com/ubuntu bionic/main amd64 libfftw3-long3 amd64 3.3.7-1 [308 kB]\n",
      "Get:10 http://archive.ubuntu.com/ubuntu bionic/main amd64 libfftw3-single3 amd64 3.3.7-1 [764 kB]\n",
      "Get:11 http://archive.ubuntu.com/ubuntu bionic/universe amd64 libfftw3-mpi3 amd64 3.3.7-1 [47.5 kB]\n",
      "Get:12 http://archive.ubuntu.com/ubuntu bionic/universe amd64 libscotch-6.0 amd64 6.0.4.dfsg1-8 [403 kB]\n",
      "Get:13 http://archive.ubuntu.com/ubuntu bionic/universe amd64 libptscotch-6.0 amd64 6.0.4.dfsg1-8 [654 kB]\n",
      "Get:14 http://archive.ubuntu.com/ubuntu bionic/universe amd64 libsuperlu-dist5 amd64 5.3.0+dfsg1-1 [213 kB]\n",
      "Get:15 http://archive.ubuntu.com/ubuntu bionic/universe amd64 libhypre-2.13.0 amd64 2.13.0-2 [1,718 kB]\n",
      "Get:16 http://archive.ubuntu.com/ubuntu bionic/main amd64 libbtf1 amd64 1:5.1.2-2 [10.6 kB]\n",
      "Get:17 http://archive.ubuntu.com/ubuntu bionic/main amd64 libklu1 amd64 1:5.1.2-2 [69.3 kB]\n",
      "Get:18 http://archive.ubuntu.com/ubuntu bionic/universe amd64 libscalapack-openmpi2.0 amd64 2.0.2-4 [1,473 kB]\n",
      "Get:19 http://archive.ubuntu.com/ubuntu bionic/universe amd64 libmumps-5.1.2 amd64 5.1.2-4 [1,103 kB]\n",
      "Get:20 http://archive.ubuntu.com/ubuntu bionic/main amd64 libumfpack5 amd64 1:5.1.2-2 [229 kB]\n",
      "Get:21 http://archive.ubuntu.com/ubuntu bionic/universe amd64 libpetsc3.7.7 amd64 3.7.7+dfsg1-2build5 [3,935 kB]\n",
      "Get:22 http://archive.ubuntu.com/ubuntu bionic/universe amd64 libparpack2 amd64 3.5.0+real-2 [84.5 kB]\n",
      "Get:23 http://archive.ubuntu.com/ubuntu bionic/universe amd64 libslepc3.7.4 amd64 3.7.4+dfsg1-2build8 [743 kB]\n",
      "Get:24 http://archive.ubuntu.com/ubuntu bionic/universe amd64 libeigen3-dev all 3.3.4-4 [810 kB]\n",
      "Get:25 http://archive.ubuntu.com/ubuntu bionic/universe amd64 libhdf5-openmpi-dev amd64 1.10.0-patch1+docs-4 [2,392 kB]\n",
      "Get:26 http://archive.ubuntu.com/ubuntu bionic/universe amd64 libhdf5-mpi-dev amd64 1.10.0-patch1+docs-4 [3,074 B]\n",
      "Get:27 http://archive.ubuntu.com/ubuntu bionic/main amd64 libcxsparse3 amd64 1:5.1.2-2 [63.9 kB]\n",
      "Get:28 http://archive.ubuntu.com/ubuntu bionic/main amd64 libgraphblas1 amd64 1:5.1.2-2 [384 kB]\n",
      "Get:29 http://archive.ubuntu.com/ubuntu bionic/main amd64 libldl2 amd64 1:5.1.2-2 [10.3 kB]\n",
      "Get:30 http://archive.ubuntu.com/ubuntu bionic/main amd64 librbio2 amd64 1:5.1.2-2 [24.0 kB]\n",
      "Get:31 http://archive.ubuntu.com/ubuntu bionic/main amd64 libspqr2 amd64 1:5.1.2-2 [64.2 kB]\n",
      "Get:32 http://archive.ubuntu.com/ubuntu bionic/main amd64 libblas-dev amd64 3.7.1-4ubuntu1 [143 kB]\n",
      "Get:33 http://archive.ubuntu.com/ubuntu bionic/main amd64 libsuitesparse-dev amd64 1:5.1.2-2 [1,235 kB]\n",
      "Get:34 http://ppa.launchpad.net/fenics-packages/fenics/ubuntu bionic/main amd64 libdolfin2019.1 amd64 2019.1.0-1~ppa1~bionic4 [1,704 kB]\n",
      "Get:35 http://archive.ubuntu.com/ubuntu bionic/universe amd64 libscotch-dev amd64 6.0.4.dfsg1-8 [1,791 kB]\n",
      "Get:36 http://archive.ubuntu.com/ubuntu bionic/universe amd64 python3-mpmath all 1.0.0-1 [400 kB]\n",
      "Get:37 http://archive.ubuntu.com/ubuntu bionic/universe amd64 python3-sympy all 1.1.1-5 [2,569 kB]\n",
      "Get:38 http://archive.ubuntu.com/ubuntu bionic/main amd64 python3-pkg-resources all 39.0.1-2 [98.8 kB]\n",
      "Get:39 http://archive.ubuntu.com/ubuntu bionic/universe amd64 python3-mpi4py amd64 2.0.0-3 [420 kB]\n",
      "Get:40 http://archive.ubuntu.com/ubuntu bionic/universe amd64 libspooles2.2 amd64 2.2-12build1 [458 kB]\n",
      "Get:41 http://archive.ubuntu.com/ubuntu bionic/universe amd64 libspooles-dev amd64 2.2-12build1 [587 kB]\n",
      "Get:42 http://archive.ubuntu.com/ubuntu bionic/universe amd64 libsuperlu-dev amd64 5.2.1+dfsg1-3 [16.3 kB]\n",
      "Get:43 http://archive.ubuntu.com/ubuntu bionic/universe amd64 libhypre-dev amd64 2.13.0-2 [134 kB]\n",
      "Get:44 http://archive.ubuntu.com/ubuntu bionic/universe amd64 libptscotch-dev amd64 6.0.4.dfsg1-8 [5,416 kB]\n",
      "Get:45 http://archive.ubuntu.com/ubuntu bionic/universe amd64 libscalapack-openmpi-dev amd64 2.0.2-4 [6,068 B]\n",
      "Get:46 http://archive.ubuntu.com/ubuntu bionic/universe amd64 libscalapack-mpi-dev amd64 2.0.2-4 [2,108 B]\n",
      "Get:47 http://archive.ubuntu.com/ubuntu bionic/universe amd64 libmumps-dev amd64 5.1.2-4 [984 kB]\n",
      "Get:48 http://archive.ubuntu.com/ubuntu bionic/main amd64 libfftw3-quad3 amd64 3.3.7-1 [552 kB]\n",
      "Get:49 http://archive.ubuntu.com/ubuntu bionic/main amd64 libfftw3-bin amd64 3.3.7-1 [32.7 kB]\n",
      "Get:50 http://archive.ubuntu.com/ubuntu bionic/main amd64 libfftw3-dev amd64 3.3.7-1 [2,108 kB]\n",
      "Get:51 http://archive.ubuntu.com/ubuntu bionic/universe amd64 libfftw3-mpi-dev amd64 3.3.7-1 [47.6 kB]\n",
      "Get:52 http://archive.ubuntu.com/ubuntu bionic/universe amd64 libpetsc3.7.7-dev amd64 3.7.7+dfsg1-2build5 [3,495 kB]\n",
      "Get:53 http://archive.ubuntu.com/ubuntu bionic/universe amd64 libarpack2-dev amd64 3.5.0+real-2 [97.3 kB]\n",
      "Get:54 http://archive.ubuntu.com/ubuntu bionic/universe amd64 libparpack2-dev amd64 3.5.0+real-2 [92.0 kB]\n",
      "Get:55 http://archive.ubuntu.com/ubuntu bionic/universe amd64 libslepc3.7.4-dev amd64 3.7.4+dfsg1-2build8 [1,701 kB]\n",
      "Get:56 http://archive.ubuntu.com/ubuntu bionic/main amd64 python3-ply all 3.11-1 [46.6 kB]\n",
      "Get:57 http://archive.ubuntu.com/ubuntu bionic/main amd64 python3-six all 1.11.0-2 [11.4 kB]\n",
      "Get:58 http://archive.ubuntu.com/ubuntu bionic/universe amd64 python3-petsc4py amd64 3.7.0-3build2 [719 kB]\n",
      "Get:59 http://archive.ubuntu.com/ubuntu bionic/universe amd64 python3-slepc4py amd64 3.7.0-3build1 [155 kB]\n",
      "Get:60 http://archive.ubuntu.com/ubuntu bionic/universe amd64 python3-pkgconfig all 1.3.1-1 [6,328 B]\n",
      "Get:61 http://archive.ubuntu.com/ubuntu bionic/universe amd64 libtet1.5 amd64 1.5.0-4 [235 kB]\n",
      "Get:62 http://archive.ubuntu.com/ubuntu bionic/universe amd64 libproj-dev amd64 4.9.3-2 [199 kB]\n",
      "Get:63 http://ppa.launchpad.net/fenics-packages/fenics/ubuntu bionic/main amd64 python3-fiat all 2019.1.0-1~ppa1~bionic1 [55.9 kB]\n",
      "Get:64 http://ppa.launchpad.net/fenics-packages/fenics/ubuntu bionic/main amd64 python3-ufl all 2019.1.0-1~ppa1~bionic1 [149 kB]\n",
      "Get:65 http://ppa.launchpad.net/fenics-packages/fenics/ubuntu bionic/main amd64 python3-dijitso all 2019.1.0-1~ppa1~bionic1 [24.3 kB]\n",
      "Get:66 http://ppa.launchpad.net/fenics-packages/fenics/ubuntu bionic/main amd64 python3-ffc all 2019.1.0.post0-1~ppa1~bionic1 [224 kB]\n",
      "Get:67 http://ppa.launchpad.net/fenics-packages/fenics/ubuntu bionic/main amd64 libdolfin-dev amd64 2019.1.0-1~ppa1~bionic4 [201 kB]\n",
      "Get:68 http://ppa.launchpad.net/fenics-packages/fenics/ubuntu bionic/main amd64 pybind11-dev all 2.2.3-1fenics1bionic1 [129 kB]\n",
      "Get:69 http://ppa.launchpad.net/fenics-packages/fenics/ubuntu bionic/main amd64 python3-pybind11 all 2.2.3-1fenics1bionic1 [21.5 kB]\n",
      "Get:70 http://ppa.launchpad.net/fenics-packages/fenics/ubuntu bionic/main amd64 python3-dolfin amd64 2019.1.0-1~ppa1~bionic4 [706 kB]\n",
      "Get:71 http://ppa.launchpad.net/fenics-packages/fenics/ubuntu bionic/main amd64 dolfin-bin all 2019.1.0-1~ppa1~bionic4 [22.2 kB]\n",
      "Get:72 http://ppa.launchpad.net/fenics-packages/fenics/ubuntu bionic/main amd64 dolfin-doc all 2019.1.0-1~ppa1~bionic4 [5,780 kB]\n",
      "Get:73 http://ppa.launchpad.net/fenics-packages/fenics/ubuntu bionic/main amd64 python-ufl-doc all 2019.1.0-1~ppa1~bionic1 [13.7 kB]\n",
      "Get:74 http://ppa.launchpad.net/fenics-packages/fenics/ubuntu bionic/main amd64 libmshr2019.1 amd64 2019.1.0+full1-1~ppa1~bionic1 [1,464 kB]\n",
      "Get:75 http://ppa.launchpad.net/fenics-packages/fenics/ubuntu bionic/main amd64 libmshr-dev amd64 2019.1.0+full1-1~ppa1~bionic1 [61.8 kB]\n",
      "Get:76 http://ppa.launchpad.net/fenics-packages/fenics/ubuntu bionic/main amd64 python3-mshr amd64 2019.1.0+full1-1~ppa1~bionic1 [89.9 kB]\n",
      "Get:77 http://ppa.launchpad.net/fenics-packages/fenics/ubuntu bionic/main amd64 fenics amd64 1:2019.1.0.1~ppa1~bionic1 [4,260 B]\n",
      "Fetched 50.6 MB in 3s (18.0 MB/s)\n",
      "Extracting templates from packages: 100%\n",
      "Selecting previously unselected package libsuitesparseconfig5:amd64.\n",
      "(Reading database ... 144487 files and directories currently installed.)\n",
      "Preparing to unpack .../00-libsuitesparseconfig5_1%3a5.1.2-2_amd64.deb ...\n",
      "Unpacking libsuitesparseconfig5:amd64 (1:5.1.2-2) ...\n",
      "Selecting previously unselected package libamd2:amd64.\n",
      "Preparing to unpack .../01-libamd2_1%3a5.1.2-2_amd64.deb ...\n",
      "Unpacking libamd2:amd64 (1:5.1.2-2) ...\n",
      "Selecting previously unselected package libblas3:amd64.\n",
      "Preparing to unpack .../02-libblas3_3.7.1-4ubuntu1_amd64.deb ...\n",
      "Unpacking libblas3:amd64 (3.7.1-4ubuntu1) ...\n",
      "Selecting previously unselected package libcamd2:amd64.\n",
      "Preparing to unpack .../03-libcamd2_1%3a5.1.2-2_amd64.deb ...\n",
      "Unpacking libcamd2:amd64 (1:5.1.2-2) ...\n",
      "Selecting previously unselected package libccolamd2:amd64.\n",
      "Preparing to unpack .../04-libccolamd2_1%3a5.1.2-2_amd64.deb ...\n",
      "Unpacking libccolamd2:amd64 (1:5.1.2-2) ...\n",
      "Selecting previously unselected package libcolamd2:amd64.\n",
      "Preparing to unpack .../05-libcolamd2_1%3a5.1.2-2_amd64.deb ...\n",
      "Unpacking libcolamd2:amd64 (1:5.1.2-2) ...\n",
      "Selecting previously unselected package libmetis5:amd64.\n",
      "Preparing to unpack .../06-libmetis5_5.1.0.dfsg-5_amd64.deb ...\n",
      "Unpacking libmetis5:amd64 (5.1.0.dfsg-5) ...\n",
      "Selecting previously unselected package libcholmod3:amd64.\n",
      "Preparing to unpack .../07-libcholmod3_1%3a5.1.2-2_amd64.deb ...\n",
      "Unpacking libcholmod3:amd64 (1:5.1.2-2) ...\n",
      "Selecting previously unselected package libfftw3-long3:amd64.\n",
      "Preparing to unpack .../08-libfftw3-long3_3.3.7-1_amd64.deb ...\n",
      "Unpacking libfftw3-long3:amd64 (3.3.7-1) ...\n",
      "Selecting previously unselected package libfftw3-single3:amd64.\n",
      "Preparing to unpack .../09-libfftw3-single3_3.3.7-1_amd64.deb ...\n",
      "Unpacking libfftw3-single3:amd64 (3.3.7-1) ...\n",
      "Selecting previously unselected package libfftw3-mpi3:amd64.\n",
      "Preparing to unpack .../10-libfftw3-mpi3_3.3.7-1_amd64.deb ...\n",
      "Unpacking libfftw3-mpi3:amd64 (3.3.7-1) ...\n",
      "Selecting previously unselected package libscotch-6.0.\n",
      "Preparing to unpack .../11-libscotch-6.0_6.0.4.dfsg1-8_amd64.deb ...\n",
      "Unpacking libscotch-6.0 (6.0.4.dfsg1-8) ...\n",
      "Selecting previously unselected package libptscotch-6.0.\n",
      "Preparing to unpack .../12-libptscotch-6.0_6.0.4.dfsg1-8_amd64.deb ...\n",
      "Unpacking libptscotch-6.0 (6.0.4.dfsg1-8) ...\n",
      "Selecting previously unselected package libsuperlu-dist5.\n",
      "Preparing to unpack .../13-libsuperlu-dist5_5.3.0+dfsg1-1_amd64.deb ...\n",
      "Unpacking libsuperlu-dist5 (5.3.0+dfsg1-1) ...\n",
      "Selecting previously unselected package libhypre-2.13.0:amd64.\n",
      "Preparing to unpack .../14-libhypre-2.13.0_2.13.0-2_amd64.deb ...\n",
      "Unpacking libhypre-2.13.0:amd64 (2.13.0-2) ...\n",
      "Selecting previously unselected package libbtf1:amd64.\n",
      "Preparing to unpack .../15-libbtf1_1%3a5.1.2-2_amd64.deb ...\n",
      "Unpacking libbtf1:amd64 (1:5.1.2-2) ...\n",
      "Selecting previously unselected package libklu1:amd64.\n",
      "Preparing to unpack .../16-libklu1_1%3a5.1.2-2_amd64.deb ...\n",
      "Unpacking libklu1:amd64 (1:5.1.2-2) ...\n",
      "Selecting previously unselected package libscalapack-openmpi2.0.\n",
      "Preparing to unpack .../17-libscalapack-openmpi2.0_2.0.2-4_amd64.deb ...\n",
      "Unpacking libscalapack-openmpi2.0 (2.0.2-4) ...\n",
      "Selecting previously unselected package libmumps-5.1.2:amd64.\n",
      "Preparing to unpack .../18-libmumps-5.1.2_5.1.2-4_amd64.deb ...\n",
      "Unpacking libmumps-5.1.2:amd64 (5.1.2-4) ...\n",
      "Selecting previously unselected package libumfpack5:amd64.\n",
      "Preparing to unpack .../19-libumfpack5_1%3a5.1.2-2_amd64.deb ...\n",
      "Unpacking libumfpack5:amd64 (1:5.1.2-2) ...\n",
      "Selecting previously unselected package libpetsc3.7.7:amd64.\n",
      "Preparing to unpack .../20-libpetsc3.7.7_3.7.7+dfsg1-2build5_amd64.deb ...\n",
      "Unpacking libpetsc3.7.7:amd64 (3.7.7+dfsg1-2build5) ...\n",
      "Selecting previously unselected package libparpack2:amd64.\n",
      "Preparing to unpack .../21-libparpack2_3.5.0+real-2_amd64.deb ...\n",
      "Unpacking libparpack2:amd64 (3.5.0+real-2) ...\n",
      "Selecting previously unselected package libslepc3.7.4.\n",
      "Preparing to unpack .../22-libslepc3.7.4_3.7.4+dfsg1-2build8_amd64.deb ...\n",
      "Unpacking libslepc3.7.4 (3.7.4+dfsg1-2build8) ...\n",
      "Selecting previously unselected package libdolfin2019.1:amd64.\n",
      "Preparing to unpack .../23-libdolfin2019.1_2019.1.0-1~ppa1~bionic4_amd64.deb ...\n",
      "Unpacking libdolfin2019.1:amd64 (2019.1.0-1~ppa1~bionic4) ...\n",
      "Selecting previously unselected package libeigen3-dev.\n",
      "Preparing to unpack .../24-libeigen3-dev_3.3.4-4_all.deb ...\n",
      "Unpacking libeigen3-dev (3.3.4-4) ...\n",
      "Selecting previously unselected package libhdf5-openmpi-dev.\n",
      "Preparing to unpack .../25-libhdf5-openmpi-dev_1.10.0-patch1+docs-4_amd64.deb ...\n",
      "Unpacking libhdf5-openmpi-dev (1.10.0-patch1+docs-4) ...\n",
      "Selecting previously unselected package libhdf5-mpi-dev.\n",
      "Preparing to unpack .../26-libhdf5-mpi-dev_1.10.0-patch1+docs-4_amd64.deb ...\n",
      "Unpacking libhdf5-mpi-dev (1.10.0-patch1+docs-4) ...\n",
      "Selecting previously unselected package libcxsparse3:amd64.\n",
      "Preparing to unpack .../27-libcxsparse3_1%3a5.1.2-2_amd64.deb ...\n",
      "Unpacking libcxsparse3:amd64 (1:5.1.2-2) ...\n",
      "Selecting previously unselected package libgraphblas1:amd64.\n",
      "Preparing to unpack .../28-libgraphblas1_1%3a5.1.2-2_amd64.deb ...\n",
      "Unpacking libgraphblas1:amd64 (1:5.1.2-2) ...\n",
      "Selecting previously unselected package libldl2:amd64.\n",
      "Preparing to unpack .../29-libldl2_1%3a5.1.2-2_amd64.deb ...\n",
      "Unpacking libldl2:amd64 (1:5.1.2-2) ...\n",
      "Selecting previously unselected package librbio2:amd64.\n",
      "Preparing to unpack .../30-librbio2_1%3a5.1.2-2_amd64.deb ...\n",
      "Unpacking librbio2:amd64 (1:5.1.2-2) ...\n",
      "Selecting previously unselected package libspqr2:amd64.\n",
      "Preparing to unpack .../31-libspqr2_1%3a5.1.2-2_amd64.deb ...\n",
      "Unpacking libspqr2:amd64 (1:5.1.2-2) ...\n",
      "Selecting previously unselected package libblas-dev:amd64.\n",
      "Preparing to unpack .../32-libblas-dev_3.7.1-4ubuntu1_amd64.deb ...\n",
      "Unpacking libblas-dev:amd64 (3.7.1-4ubuntu1) ...\n",
      "Selecting previously unselected package libsuitesparse-dev:amd64.\n",
      "Preparing to unpack .../33-libsuitesparse-dev_1%3a5.1.2-2_amd64.deb ...\n",
      "Unpacking libsuitesparse-dev:amd64 (1:5.1.2-2) ...\n",
      "Selecting previously unselected package libscotch-dev.\n",
      "Preparing to unpack .../34-libscotch-dev_6.0.4.dfsg1-8_amd64.deb ...\n",
      "Unpacking libscotch-dev (6.0.4.dfsg1-8) ...\n",
      "Selecting previously unselected package python3-mpmath.\n",
      "Preparing to unpack .../35-python3-mpmath_1.0.0-1_all.deb ...\n",
      "Unpacking python3-mpmath (1.0.0-1) ...\n",
      "Selecting previously unselected package python3-sympy.\n",
      "Preparing to unpack .../36-python3-sympy_1.1.1-5_all.deb ...\n",
      "Unpacking python3-sympy (1.1.1-5) ...\n",
      "Selecting previously unselected package python3-pkg-resources.\n",
      "Preparing to unpack .../37-python3-pkg-resources_39.0.1-2_all.deb ...\n",
      "Unpacking python3-pkg-resources (39.0.1-2) ...\n",
      "Selecting previously unselected package python3-fiat.\n",
      "Preparing to unpack .../38-python3-fiat_2019.1.0-1~ppa1~bionic1_all.deb ...\n",
      "Unpacking python3-fiat (2019.1.0-1~ppa1~bionic1) ...\n",
      "Selecting previously unselected package python3-ufl.\n",
      "Preparing to unpack .../39-python3-ufl_2019.1.0-1~ppa1~bionic1_all.deb ...\n",
      "Unpacking python3-ufl (2019.1.0-1~ppa1~bionic1) ...\n",
      "Selecting previously unselected package python3-mpi4py.\n",
      "Preparing to unpack .../40-python3-mpi4py_2.0.0-3_amd64.deb ...\n",
      "Unpacking python3-mpi4py (2.0.0-3) ...\n",
      "Selecting previously unselected package python3-dijitso.\n",
      "Preparing to unpack .../41-python3-dijitso_2019.1.0-1~ppa1~bionic1_all.deb ...\n",
      "Unpacking python3-dijitso (2019.1.0-1~ppa1~bionic1) ...\n",
      "Selecting previously unselected package python3-ffc.\n",
      "Preparing to unpack .../42-python3-ffc_2019.1.0.post0-1~ppa1~bionic1_all.deb ...\n",
      "Unpacking python3-ffc (2019.1.0.post0-1~ppa1~bionic1) ...\n",
      "Selecting previously unselected package libspooles2.2:amd64.\n",
      "Preparing to unpack .../43-libspooles2.2_2.2-12build1_amd64.deb ...\n",
      "Unpacking libspooles2.2:amd64 (2.2-12build1) ...\n",
      "Selecting previously unselected package libspooles-dev:amd64.\n",
      "Preparing to unpack .../44-libspooles-dev_2.2-12build1_amd64.deb ...\n",
      "Unpacking libspooles-dev:amd64 (2.2-12build1) ...\n",
      "Selecting previously unselected package libsuperlu-dev:amd64.\n",
      "Preparing to unpack .../45-libsuperlu-dev_5.2.1+dfsg1-3_amd64.deb ...\n",
      "Unpacking libsuperlu-dev:amd64 (5.2.1+dfsg1-3) ...\n",
      "Selecting previously unselected package libhypre-dev:amd64.\n",
      "Preparing to unpack .../46-libhypre-dev_2.13.0-2_amd64.deb ...\n",
      "Unpacking libhypre-dev:amd64 (2.13.0-2) ...\n",
      "Selecting previously unselected package libptscotch-dev.\n",
      "Preparing to unpack .../47-libptscotch-dev_6.0.4.dfsg1-8_amd64.deb ...\n",
      "Unpacking libptscotch-dev (6.0.4.dfsg1-8) ...\n",
      "Selecting previously unselected package libscalapack-openmpi-dev.\n",
      "Preparing to unpack .../48-libscalapack-openmpi-dev_2.0.2-4_amd64.deb ...\n",
      "Unpacking libscalapack-openmpi-dev (2.0.2-4) ...\n",
      "Selecting previously unselected package libscalapack-mpi-dev.\n",
      "Preparing to unpack .../49-libscalapack-mpi-dev_2.0.2-4_amd64.deb ...\n",
      "Unpacking libscalapack-mpi-dev (2.0.2-4) ...\n",
      "Selecting previously unselected package libmumps-dev:amd64.\n",
      "Preparing to unpack .../50-libmumps-dev_5.1.2-4_amd64.deb ...\n",
      "Unpacking libmumps-dev:amd64 (5.1.2-4) ...\n",
      "Selecting previously unselected package libfftw3-quad3:amd64.\n",
      "Preparing to unpack .../51-libfftw3-quad3_3.3.7-1_amd64.deb ...\n",
      "Unpacking libfftw3-quad3:amd64 (3.3.7-1) ...\n",
      "Selecting previously unselected package libfftw3-bin.\n",
      "Preparing to unpack .../52-libfftw3-bin_3.3.7-1_amd64.deb ...\n",
      "Unpacking libfftw3-bin (3.3.7-1) ...\n",
      "Selecting previously unselected package libfftw3-dev:amd64.\n",
      "Preparing to unpack .../53-libfftw3-dev_3.3.7-1_amd64.deb ...\n",
      "Unpacking libfftw3-dev:amd64 (3.3.7-1) ...\n",
      "Selecting previously unselected package libfftw3-mpi-dev:amd64.\n",
      "Preparing to unpack .../54-libfftw3-mpi-dev_3.3.7-1_amd64.deb ...\n",
      "Unpacking libfftw3-mpi-dev:amd64 (3.3.7-1) ...\n",
      "Selecting previously unselected package libpetsc3.7.7-dev:amd64.\n",
      "Preparing to unpack .../55-libpetsc3.7.7-dev_3.7.7+dfsg1-2build5_amd64.deb ...\n",
      "Unpacking libpetsc3.7.7-dev:amd64 (3.7.7+dfsg1-2build5) ...\n",
      "Selecting previously unselected package libarpack2-dev:amd64.\n",
      "Preparing to unpack .../56-libarpack2-dev_3.5.0+real-2_amd64.deb ...\n",
      "Unpacking libarpack2-dev:amd64 (3.5.0+real-2) ...\n",
      "Selecting previously unselected package libparpack2-dev:amd64.\n",
      "Preparing to unpack .../57-libparpack2-dev_3.5.0+real-2_amd64.deb ...\n",
      "Unpacking libparpack2-dev:amd64 (3.5.0+real-2) ...\n",
      "Selecting previously unselected package libslepc3.7.4-dev.\n",
      "Preparing to unpack .../58-libslepc3.7.4-dev_3.7.4+dfsg1-2build8_amd64.deb ...\n",
      "Unpacking libslepc3.7.4-dev (3.7.4+dfsg1-2build8) ...\n",
      "Selecting previously unselected package libdolfin-dev.\n",
      "Preparing to unpack .../59-libdolfin-dev_2019.1.0-1~ppa1~bionic4_amd64.deb ...\n",
      "Unpacking libdolfin-dev (2019.1.0-1~ppa1~bionic4) ...\n",
      "Selecting previously unselected package python3-ply.\n",
      "Preparing to unpack .../60-python3-ply_3.11-1_all.deb ...\n",
      "Unpacking python3-ply (3.11-1) ...\n",
      "Selecting previously unselected package pybind11-dev.\n",
      "Preparing to unpack .../61-pybind11-dev_2.2.3-1fenics1bionic1_all.deb ...\n",
      "Unpacking pybind11-dev (2.2.3-1fenics1bionic1) ...\n",
      "Selecting previously unselected package python3-pybind11.\n",
      "Preparing to unpack .../62-python3-pybind11_2.2.3-1fenics1bionic1_all.deb ...\n",
      "Unpacking python3-pybind11 (2.2.3-1fenics1bionic1) ...\n",
      "Selecting previously unselected package python3-six.\n",
      "Preparing to unpack .../63-python3-six_1.11.0-2_all.deb ...\n",
      "Unpacking python3-six (1.11.0-2) ...\n",
      "Selecting previously unselected package python3-petsc4py.\n",
      "Preparing to unpack .../64-python3-petsc4py_3.7.0-3build2_amd64.deb ...\n",
      "Unpacking python3-petsc4py (3.7.0-3build2) ...\n",
      "Selecting previously unselected package python3-slepc4py.\n",
      "Preparing to unpack .../65-python3-slepc4py_3.7.0-3build1_amd64.deb ...\n",
      "Unpacking python3-slepc4py (3.7.0-3build1) ...\n",
      "Selecting previously unselected package python3-pkgconfig.\n",
      "Preparing to unpack .../66-python3-pkgconfig_1.3.1-1_all.deb ...\n",
      "Unpacking python3-pkgconfig (1.3.1-1) ...\n",
      "Selecting previously unselected package python3-dolfin.\n",
      "Preparing to unpack .../67-python3-dolfin_2019.1.0-1~ppa1~bionic4_amd64.deb ...\n",
      "Unpacking python3-dolfin (2019.1.0-1~ppa1~bionic4) ...\n",
      "Selecting previously unselected package dolfin-bin.\n",
      "Preparing to unpack .../68-dolfin-bin_2019.1.0-1~ppa1~bionic4_all.deb ...\n",
      "Unpacking dolfin-bin (2019.1.0-1~ppa1~bionic4) ...\n",
      "Selecting previously unselected package dolfin-doc.\n",
      "Preparing to unpack .../69-dolfin-doc_2019.1.0-1~ppa1~bionic4_all.deb ...\n",
      "Unpacking dolfin-doc (2019.1.0-1~ppa1~bionic4) ...\n",
      "Selecting previously unselected package python-ufl-doc.\n",
      "Preparing to unpack .../70-python-ufl-doc_2019.1.0-1~ppa1~bionic1_all.deb ...\n",
      "Unpacking python-ufl-doc (2019.1.0-1~ppa1~bionic1) ...\n",
      "Selecting previously unselected package libtet1.5:amd64.\n",
      "Preparing to unpack .../71-libtet1.5_1.5.0-4_amd64.deb ...\n",
      "Unpacking libtet1.5:amd64 (1.5.0-4) ...\n",
      "Selecting previously unselected package libmshr2019.1:amd64.\n",
      "Preparing to unpack .../72-libmshr2019.1_2019.1.0+full1-1~ppa1~bionic1_amd64.deb ...\n",
      "Unpacking libmshr2019.1:amd64 (2019.1.0+full1-1~ppa1~bionic1) ...\n",
      "Selecting previously unselected package libproj-dev:amd64.\n",
      "Preparing to unpack .../73-libproj-dev_4.9.3-2_amd64.deb ...\n",
      "Unpacking libproj-dev:amd64 (4.9.3-2) ...\n",
      "Selecting previously unselected package libmshr-dev.\n",
      "Preparing to unpack .../74-libmshr-dev_2019.1.0+full1-1~ppa1~bionic1_amd64.deb ...\n",
      "Unpacking libmshr-dev (2019.1.0+full1-1~ppa1~bionic1) ...\n",
      "Selecting previously unselected package python3-mshr.\n",
      "Preparing to unpack .../75-python3-mshr_2019.1.0+full1-1~ppa1~bionic1_amd64.deb ...\n",
      "Unpacking python3-mshr (2019.1.0+full1-1~ppa1~bionic1) ...\n",
      "Selecting previously unselected package fenics:amd64.\n",
      "Preparing to unpack .../76-fenics_1%3a2019.1.0.1~ppa1~bionic1_amd64.deb ...\n",
      "Unpacking fenics:amd64 (1:2019.1.0.1~ppa1~bionic1) ...\n",
      "Setting up python3-pkgconfig (1.3.1-1) ...\n",
      "Setting up libbtf1:amd64 (1:5.1.2-2) ...\n",
      "Setting up libldl2:amd64 (1:5.1.2-2) ...\n",
      "Setting up libscotch-6.0 (6.0.4.dfsg1-8) ...\n",
      "Setting up libcxsparse3:amd64 (1:5.1.2-2) ...\n",
      "Setting up libproj-dev:amd64 (4.9.3-2) ...\n",
      "Setting up python-ufl-doc (2019.1.0-1~ppa1~bionic1) ...\n",
      "Setting up libtet1.5:amd64 (1.5.0-4) ...\n",
      "Setting up libscalapack-openmpi2.0 (2.0.2-4) ...\n",
      "Setting up libeigen3-dev (3.3.4-4) ...\n",
      "Setting up libgraphblas1:amd64 (1:5.1.2-2) ...\n",
      "Setting up python3-six (1.11.0-2) ...\n",
      "Setting up libptscotch-6.0 (6.0.4.dfsg1-8) ...\n",
      "Setting up libparpack2:amd64 (3.5.0+real-2) ...\n",
      "Setting up libspooles2.2:amd64 (2.2-12build1) ...\n",
      "Setting up python3-pkg-resources (39.0.1-2) ...\n",
      "Setting up python3-mpmath (1.0.0-1) ...\n",
      "Setting up python3-ufl (2019.1.0-1~ppa1~bionic1) ...\n",
      "Setting up libscalapack-openmpi-dev (2.0.2-4) ...\n",
      "Setting up libhdf5-openmpi-dev (1.10.0-patch1+docs-4) ...\n",
      "update-alternatives: using /usr/bin/h5pcc.openmpi to provide /usr/bin/h5pcc (h5pcc) in auto mode\n",
      "Setting up libfftw3-quad3:amd64 (3.3.7-1) ...\n",
      "Setting up libblas3:amd64 (3.7.1-4ubuntu1) ...\n",
      "Setting up libscotch-dev (6.0.4.dfsg1-8) ...\n",
      "Setting up libsuperlu-dist5 (5.3.0+dfsg1-1) ...\n",
      "Setting up libsuitesparseconfig5:amd64 (1:5.1.2-2) ...\n",
      "Setting up libmetis5:amd64 (5.1.0.dfsg-5) ...\n",
      "Setting up pybind11-dev (2.2.3-1fenics1bionic1) ...\n",
      "Setting up libcolamd2:amd64 (1:5.1.2-2) ...\n",
      "Setting up libarpack2-dev:amd64 (3.5.0+real-2) ...\n",
      "Setting up libccolamd2:amd64 (1:5.1.2-2) ...\n",
      "Setting up libfftw3-single3:amd64 (3.3.7-1) ...\n",
      "Setting up python3-mpi4py (2.0.0-3) ...\n",
      "Setting up python3-ply (3.11-1) ...\n",
      "Setting up python3-sympy (1.1.1-5) ...\n",
      "Setting up libspooles-dev:amd64 (2.2-12build1) ...\n",
      "Setting up libfftw3-long3:amd64 (3.3.7-1) ...\n",
      "Setting up python3-pybind11 (2.2.3-1fenics1bionic1) ...\n",
      "Setting up python3-fiat (2019.1.0-1~ppa1~bionic1) ...\n",
      "Setting up libparpack2-dev:amd64 (3.5.0+real-2) ...\n",
      "Setting up libfftw3-bin (3.3.7-1) ...\n",
      "Setting up libmumps-5.1.2:amd64 (5.1.2-4) ...\n",
      "Setting up libptscotch-dev (6.0.4.dfsg1-8) ...\n",
      "Setting up libblas-dev:amd64 (3.7.1-4ubuntu1) ...\n",
      "Setting up libscalapack-mpi-dev (2.0.2-4) ...\n",
      "Setting up libhypre-2.13.0:amd64 (2.13.0-2) ...\n",
      "Setting up librbio2:amd64 (1:5.1.2-2) ...\n",
      "Setting up libcamd2:amd64 (1:5.1.2-2) ...\n",
      "Setting up libfftw3-mpi3:amd64 (3.3.7-1) ...\n",
      "Setting up libmumps-dev:amd64 (5.1.2-4) ...\n",
      "Setting up python3-dijitso (2019.1.0-1~ppa1~bionic1) ...\n",
      "Setting up libhdf5-mpi-dev (1.10.0-patch1+docs-4) ...\n",
      "Setting up libamd2:amd64 (1:5.1.2-2) ...\n",
      "Setting up libsuperlu-dev:amd64 (5.2.1+dfsg1-3) ...\n",
      "Setting up libfftw3-dev:amd64 (3.3.7-1) ...\n",
      "Setting up python3-ffc (2019.1.0.post0-1~ppa1~bionic1) ...\n",
      "update-alternatives: using /usr/lib/python3/dist-packages/ffc/backends/ufc/ufc.h to provide /usr/include/ufc.h (ufc.h) in auto mode\n",
      "Setting up libfftw3-mpi-dev:amd64 (3.3.7-1) ...\n",
      "Setting up libhypre-dev:amd64 (2.13.0-2) ...\n",
      "Setting up libklu1:amd64 (1:5.1.2-2) ...\n",
      "Setting up libcholmod3:amd64 (1:5.1.2-2) ...\n",
      "Setting up libspqr2:amd64 (1:5.1.2-2) ...\n",
      "Setting up libumfpack5:amd64 (1:5.1.2-2) ...\n",
      "Setting up libpetsc3.7.7:amd64 (3.7.7+dfsg1-2build5) ...\n",
      "update-alternatives: using /usr/lib/x86_64-linux-gnu/libpetsc_real.so.3.7.7 to provide /usr/lib/x86_64-linux-gnu/libpetsc.so.3.7 (libpetsc.so.3.7) in auto mode\n",
      "update-alternatives: using /usr/lib/x86_64-linux-gnu/libpetsc_real.so.3.7.7 to provide /usr/lib/x86_64-linux-gnu/libpetsc_real.so.3.7 (libpetsc_real.so.3.7) in auto mode\n",
      "Setting up python3-petsc4py (3.7.0-3build2) ...\n",
      "Setting up libsuitesparse-dev:amd64 (1:5.1.2-2) ...\n",
      "Setting up libpetsc3.7.7-dev:amd64 (3.7.7+dfsg1-2build5) ...\n",
      "update-alternatives: error: no alternatives for petsc\n",
      "update-alternatives: using /usr/lib/petscdir/3.7.7/x86_64-linux-gnu-real to provide /usr/lib/petsc (petsc) in auto mode\n",
      "update-alternatives: using /usr/lib/x86_64-linux-gnu/libpetsc_real.so.3.7.7 to provide /usr/lib/x86_64-linux-gnu/libpetsc_real.so (libpetsc_real.so) in auto mode\n",
      "update-alternatives: using /usr/lib/petscdir/3.7.7/x86_64-linux-gnu-real to provide /usr/lib/petscdir/3.7 (petsc3.7) in auto mode\n",
      "update-alternatives: using /usr/lib/petscdir/3.7.7/x86_64-linux-gnu-real to provide /usr/lib/petscdir/3.7-real (petsc3.7-real) in auto mode\n",
      "Setting up libslepc3.7.4 (3.7.4+dfsg1-2build8) ...\n",
      "update-alternatives: using /usr/lib/x86_64-linux-gnu/libslepc_real.so.3.7.4 to provide /usr/lib/x86_64-linux-gnu/libslepc.so.3.7 (libslepc.so.3.7) in auto mode\n",
      "update-alternatives: using /usr/lib/x86_64-linux-gnu/libslepc_real.so.3.7.4 to provide /usr/lib/x86_64-linux-gnu/libslepc_real.so.3.7 (libslepc_real.so.3.7) in auto mode\n",
      "Setting up python3-slepc4py (3.7.0-3build1) ...\n",
      "Setting up libslepc3.7.4-dev (3.7.4+dfsg1-2build8) ...\n",
      "update-alternatives: error: no alternatives for slepc\n",
      "update-alternatives: using /usr/lib/slepcdir/3.7.4/x86_64-linux-gnu-real to provide /usr/lib/slepc (slepc) in auto mode\n",
      "update-alternatives: using /usr/lib/x86_64-linux-gnu/libslepc_real.so.3.7.4 to provide /usr/lib/x86_64-linux-gnu/libslepc_real.so (libslepc_real.so) in auto mode\n",
      "update-alternatives: using /usr/lib/slepcdir/3.7.4/x86_64-linux-gnu-real to provide /usr/lib/slepcdir/3.7 (slepc3.7) in auto mode\n",
      "update-alternatives: using /usr/lib/slepcdir/3.7.4/x86_64-linux-gnu-real to provide /usr/lib/slepcdir/3.7-real (slepc3.7-real) in auto mode\n",
      "Setting up libdolfin2019.1:amd64 (2019.1.0-1~ppa1~bionic4) ...\n",
      "Setting up libdolfin-dev (2019.1.0-1~ppa1~bionic4) ...\n",
      "Setting up libmshr2019.1:amd64 (2019.1.0+full1-1~ppa1~bionic1) ...\n",
      "Setting up python3-dolfin (2019.1.0-1~ppa1~bionic4) ...\n",
      "Setting up dolfin-doc (2019.1.0-1~ppa1~bionic4) ...\n",
      "Setting up libmshr-dev (2019.1.0+full1-1~ppa1~bionic1) ...\n",
      "Setting up dolfin-bin (2019.1.0-1~ppa1~bionic4) ...\n",
      "Setting up python3-mshr (2019.1.0+full1-1~ppa1~bionic1) ...\n",
      "Setting up fenics:amd64 (1:2019.1.0.1~ppa1~bionic1) ...\n",
      "Processing triggers for man-db (2.8.3-2ubuntu0.1) ...\n",
      "Processing triggers for libc-bin (2.27-3ubuntu1) ...\n",
      "/sbin/ldconfig.real: /usr/local/lib/python3.6/dist-packages/ideep4py/lib/libmkldnn.so.0 is not a symbolic link\n",
      "\n"
     ]
    }
   ],
   "source": [
    "try:\n",
    "    from dolfin import *; from mshr import *\n",
    "except ImportError as e:\n",
    "    !apt-get install -y -qq software-properties-common python-software-properties module-init-tools\n",
    "    !add-apt-repository -y ppa:fenics-packages/fenics\n",
    "    !apt-get update -qq\n",
    "    !apt install -y --no-install-recommends fenics\n",
    "    from dolfin import *; from mshr import *"
   ]
  },
  {
   "cell_type": "code",
   "execution_count": null,
   "metadata": {
    "colab": {},
    "colab_type": "code",
    "id": "VS8jq79zwede"
   },
   "outputs": [],
   "source": [
    "# Create mesh and define function space\n",
    "mesh = UnitSquareMesh(8, 8)\n",
    "V = FunctionSpace(mesh, \"Lagrange\", 1)"
   ]
  },
  {
   "cell_type": "code",
   "execution_count": null,
   "metadata": {
    "colab": {},
    "colab_type": "code",
    "id": "_haoBlBKwfTr"
   },
   "outputs": [],
   "source": [
    "# Define boundary condition\n",
    "u0 = Function(V)\n",
    "bc = DirichletBC(V, u0, \"x[0] < DOLFIN_EPS || x[0] > 1.0 - DOLFIN_EPS\")"
   ]
  },
  {
   "cell_type": "code",
   "execution_count": null,
   "metadata": {
    "colab": {},
    "colab_type": "code",
    "id": "dvM7Hcsmwh57"
   },
   "outputs": [],
   "source": [
    "# Define variational problem\n",
    "u = TrialFunction(V)\n",
    "v = TestFunction(V)\n",
    "f = Expression(\"10*exp(-(pow(x[0] - 0.5, 2) + pow(x[1] - 0.5, 2)) / 0.02)\",\n",
    "               degree=1)\n",
    "g = Expression(\"sin(5*x[0])\", degree=1)\n",
    "a = inner(grad(u), grad(v))*dx()\n",
    "L = f*v*dx() + g*v*ds()"
   ]
  },
  {
   "cell_type": "code",
   "execution_count": null,
   "metadata": {
    "colab": {},
    "colab_type": "code",
    "id": "ihm2VnC3wkiC"
   },
   "outputs": [],
   "source": [
    "# Define function for the solution\n",
    "u = Function(V)\n",
    "# Define goal functional (quantity of interest)\n",
    "M = u*dx()\n",
    "# Define error tolerance\n",
    "tol = 1.e-5"
   ]
  },
  {
   "cell_type": "code",
   "execution_count": null,
   "metadata": {
    "colab": {
     "base_uri": "https://localhost:8080/",
     "height": 298
    },
    "colab_type": "code",
    "id": "kevYJ6fiwwqD",
    "outputId": "26fae12a-0ec3-4a6a-e699-24697339057d"
   },
   "outputs": [
    {
     "data": {
      "text/plain": [
       "<matplotlib.tri.tricontour.TriContourSet at 0x7f3bb4eb59e8>"
      ]
     },
     "execution_count": 10,
     "metadata": {
      "tags": []
     },
     "output_type": "execute_result"
    },
    {
     "data": {
      "image/png": "[encoded data removed]",
      "text/plain": [
       "<Figure size 432x288 with 1 Axes>"
      ]
     },
     "metadata": {
      "needs_background": "light",
      "tags": []
     },
     "output_type": "display_data"
    }
   ],
   "source": [
    "# Solve equation a = L with respect to u and the given boundary\n",
    "# conditions, such that the estimated error (measured in M) is less\n",
    "# than tol\n",
    "problem = LinearVariationalProblem(a, L, u, bc)\n",
    "solver = AdaptiveLinearVariationalSolver(problem, M)\n",
    "solver.parameters[\"error_control\"][\"dual_variational_solver\"][\"linear_solver\"] = \"cg\"\n",
    "solver.parameters[\"error_control\"][\"dual_variational_solver\"][\"symmetric\"] = True\n",
    "solver.solve(tol)\n",
    "\n",
    "solver.summary()\n",
    "\n",
    "# Plot solution(s)\n",
    "plot(u.root_node(), title=\"Solution on initial mesh\")\n",
    "plot(u.leaf_node(), title=\"Solution on final mesh\")"
   ]
  },
  {
   "cell_type": "markdown",
   "metadata": {
    "colab_type": "text",
    "id": "B0hbjlLMy7FI"
   },
   "source": [
    "## 2-b. Mesh vizualizartion"
   ]
  },
  {
   "cell_type": "code",
   "execution_count": 9,
   "metadata": {
    "colab": {
     "base_uri": "https://localhost:8080/",
     "height": 765
    },
    "colab_type": "code",
    "id": "5FpJSgajxGU2",
    "outputId": "a21e1108-8e6e-4bb2-d446-d022f673b38e"
   },
   "outputs": [
    {
     "name": "stdout",
     "output_type": "stream",
     "text": [
      "Requirement already satisfied: vtkplotter in /usr/local/lib/python3.6/dist-packages (2020.3.1)\n",
      "Requirement already satisfied: vtk in /usr/local/lib/python3.6/dist-packages (from vtkplotter) (9.0.1)\n",
      "Requirement already satisfied: k3d in /usr/local/lib/python3.6/dist-packages (2.9.0)\n",
      "Requirement already satisfied: ipydatawidgets in /usr/local/lib/python3.6/dist-packages (from k3d) (4.0.1)\n",
      "Requirement already satisfied: traitlets in /usr/local/lib/python3.6/dist-packages (from k3d) (4.3.3)\n",
      "Requirement already satisfied: traittypes in /usr/local/lib/python3.6/dist-packages (from k3d) (0.2.1)\n",
      "Requirement already satisfied: ipywidgets>=7.0.1 in /usr/local/lib/python3.6/dist-packages (from k3d) (7.5.1)\n",
      "Requirement already satisfied: numpy>=1.11.0 in /usr/local/lib/python3.6/dist-packages (from k3d) (1.18.5)\n",
      "Requirement already satisfied: six in /usr/local/lib/python3.6/dist-packages (from ipydatawidgets->k3d) (1.15.0)\n",
      "Requirement already satisfied: decorator in /usr/local/lib/python3.6/dist-packages (from traitlets->k3d) (4.4.2)\n",
      "Requirement already satisfied: ipython-genutils in /usr/local/lib/python3.6/dist-packages (from traitlets->k3d) (0.2.0)\n",
      "Requirement already satisfied: ipykernel>=4.5.1 in /usr/local/lib/python3.6/dist-packages (from ipywidgets>=7.0.1->k3d) (4.10.1)\n",
      "Requirement already satisfied: nbformat>=4.2.0 in /usr/local/lib/python3.6/dist-packages (from ipywidgets>=7.0.1->k3d) (5.0.7)\n",
      "Requirement already satisfied: ipython>=4.0.0; python_version >= \"3.3\" in /usr/local/lib/python3.6/dist-packages (from ipywidgets>=7.0.1->k3d) (5.5.0)\n",
      "Requirement already satisfied: widgetsnbextension~=3.5.0 in /usr/local/lib/python3.6/dist-packages (from ipywidgets>=7.0.1->k3d) (3.5.1)\n",
      "Requirement already satisfied: tornado>=4.0 in /usr/local/lib/python3.6/dist-packages (from ipykernel>=4.5.1->ipywidgets>=7.0.1->k3d) (5.1.1)\n",
      "Requirement already satisfied: jupyter-client in /usr/local/lib/python3.6/dist-packages (from ipykernel>=4.5.1->ipywidgets>=7.0.1->k3d) (5.3.5)\n",
      "Requirement already satisfied: jsonschema!=2.5.0,>=2.4 in /usr/local/lib/python3.6/dist-packages (from nbformat>=4.2.0->ipywidgets>=7.0.1->k3d) (2.6.0)\n",
      "Requirement already satisfied: jupyter-core in /usr/local/lib/python3.6/dist-packages (from nbformat>=4.2.0->ipywidgets>=7.0.1->k3d) (4.6.3)\n",
      "Requirement already satisfied: pickleshare in /usr/local/lib/python3.6/dist-packages (from ipython>=4.0.0; python_version >= \"3.3\"->ipywidgets>=7.0.1->k3d) (0.7.5)\n",
      "Requirement already satisfied: pygments in /usr/local/lib/python3.6/dist-packages (from ipython>=4.0.0; python_version >= \"3.3\"->ipywidgets>=7.0.1->k3d) (2.1.3)\n",
      "Requirement already satisfied: pexpect; sys_platform != \"win32\" in /usr/local/lib/python3.6/dist-packages (from ipython>=4.0.0; python_version >= \"3.3\"->ipywidgets>=7.0.1->k3d) (4.8.0)\n",
      "Requirement already satisfied: prompt-toolkit<2.0.0,>=1.0.4 in /usr/local/lib/python3.6/dist-packages (from ipython>=4.0.0; python_version >= \"3.3\"->ipywidgets>=7.0.1->k3d) (1.0.18)\n",
      "Requirement already satisfied: simplegeneric>0.8 in /usr/local/lib/python3.6/dist-packages (from ipython>=4.0.0; python_version >= \"3.3\"->ipywidgets>=7.0.1->k3d) (0.8.1)\n",
      "Requirement already satisfied: setuptools>=18.5 in /usr/local/lib/python3.6/dist-packages (from ipython>=4.0.0; python_version >= \"3.3\"->ipywidgets>=7.0.1->k3d) (49.2.0)\n",
      "Requirement already satisfied: notebook>=4.4.1 in /usr/local/lib/python3.6/dist-packages (from widgetsnbextension~=3.5.0->ipywidgets>=7.0.1->k3d) (5.3.1)\n",
      "Requirement already satisfied: python-dateutil>=2.1 in /usr/local/lib/python3.6/dist-packages (from jupyter-client->ipykernel>=4.5.1->ipywidgets>=7.0.1->k3d) (2.8.1)\n",
      "Requirement already satisfied: pyzmq>=13 in /usr/local/lib/python3.6/dist-packages (from jupyter-client->ipykernel>=4.5.1->ipywidgets>=7.0.1->k3d) (19.0.1)\n",
      "Requirement already satisfied: ptyprocess>=0.5 in /usr/local/lib/python3.6/dist-packages (from pexpect; sys_platform != \"win32\"->ipython>=4.0.0; python_version >= \"3.3\"->ipywidgets>=7.0.1->k3d) (0.6.0)\n",
      "Requirement already satisfied: wcwidth in /usr/local/lib/python3.6/dist-packages (from prompt-toolkit<2.0.0,>=1.0.4->ipython>=4.0.0; python_version >= \"3.3\"->ipywidgets>=7.0.1->k3d) (0.2.5)\n",
      "Requirement already satisfied: nbconvert in /usr/local/lib/python3.6/dist-packages (from notebook>=4.4.1->widgetsnbextension~=3.5.0->ipywidgets>=7.0.1->k3d) (5.6.1)\n",
      "Requirement already satisfied: jinja2 in /usr/local/lib/python3.6/dist-packages (from notebook>=4.4.1->widgetsnbextension~=3.5.0->ipywidgets>=7.0.1->k3d) (2.11.2)\n",
      "Requirement already satisfied: terminado>=0.8.1 in /usr/local/lib/python3.6/dist-packages (from notebook>=4.4.1->widgetsnbextension~=3.5.0->ipywidgets>=7.0.1->k3d) (0.8.3)\n",
      "Requirement already satisfied: Send2Trash in /usr/local/lib/python3.6/dist-packages (from notebook>=4.4.1->widgetsnbextension~=3.5.0->ipywidgets>=7.0.1->k3d) (1.5.0)\n",
      "Requirement already satisfied: bleach in /usr/local/lib/python3.6/dist-packages (from nbconvert->notebook>=4.4.1->widgetsnbextension~=3.5.0->ipywidgets>=7.0.1->k3d) (3.1.5)\n",
      "Requirement already satisfied: pandocfilters>=1.4.1 in /usr/local/lib/python3.6/dist-packages (from nbconvert->notebook>=4.4.1->widgetsnbextension~=3.5.0->ipywidgets>=7.0.1->k3d) (1.4.2)\n",
      "Requirement already satisfied: defusedxml in /usr/local/lib/python3.6/dist-packages (from nbconvert->notebook>=4.4.1->widgetsnbextension~=3.5.0->ipywidgets>=7.0.1->k3d) (0.6.0)\n",
      "Requirement already satisfied: mistune<2,>=0.8.1 in /usr/local/lib/python3.6/dist-packages (from nbconvert->notebook>=4.4.1->widgetsnbextension~=3.5.0->ipywidgets>=7.0.1->k3d) (0.8.4)\n",
      "Requirement already satisfied: entrypoints>=0.2.2 in /usr/local/lib/python3.6/dist-packages (from nbconvert->notebook>=4.4.1->widgetsnbextension~=3.5.0->ipywidgets>=7.0.1->k3d) (0.3)\n",
      "Requirement already satisfied: testpath in /usr/local/lib/python3.6/dist-packages (from nbconvert->notebook>=4.4.1->widgetsnbextension~=3.5.0->ipywidgets>=7.0.1->k3d) (0.4.4)\n",
      "Requirement already satisfied: MarkupSafe>=0.23 in /usr/local/lib/python3.6/dist-packages (from jinja2->notebook>=4.4.1->widgetsnbextension~=3.5.0->ipywidgets>=7.0.1->k3d) (1.1.1)\n",
      "Requirement already satisfied: webencodings in /usr/local/lib/python3.6/dist-packages (from bleach->nbconvert->notebook>=4.4.1->widgetsnbextension~=3.5.0->ipywidgets>=7.0.1->k3d) (0.5.1)\n",
      "Requirement already satisfied: packaging in /usr/local/lib/python3.6/dist-packages (from bleach->nbconvert->notebook>=4.4.1->widgetsnbextension~=3.5.0->ipywidgets>=7.0.1->k3d) (20.4)\n",
      "Requirement already satisfied: pyparsing>=2.0.2 in /usr/local/lib/python3.6/dist-packages (from packaging->bleach->nbconvert->notebook>=4.4.1->widgetsnbextension~=3.5.0->ipywidgets>=7.0.1->k3d) (2.4.7)\n"
     ]
    }
   ],
   "source": [
    "!pip install vtkplotter;\n",
    "!pip install k3d;"
   ]
  },
  {
   "cell_type": "code",
   "execution_count": 6,
   "metadata": {
    "colab": {
     "base_uri": "https://localhost:8080/",
     "height": 170
    },
    "colab_type": "code",
    "id": "Fp0CxzYAyhbH",
    "outputId": "8bdf3214-7ba4-4e15-e876-524563826bd2"
   },
   "outputs": [
    {
     "name": "stdout",
     "output_type": "stream",
     "text": [
      "Collecting pyforest\n",
      "  Downloading https://files.pythonhosted.org/packages/8f/85/77a9d2d9ff240822039f3dfd7a3b374d0621a0df5feb5d270a2151f6bb6d/pyforest-1.0.3.tar.gz\n",
      "Building wheels for collected packages: pyforest\n",
      "  Building wheel for pyforest (setup.py) ... \u001b[?25l\u001b[?25hdone\n",
      "  Created wheel for pyforest: filename=pyforest-1.0.3-py2.py3-none-any.whl size=13715 sha256=6e4434182733b7fe12a1487497283f2dcd491a7207b2767ce6d1a4d18a10e017\n",
      "  Stored in directory: /root/.cache/pip/wheels/af/0b/39/340a7f15fc8d4ff5ab50847b28789afea04452a9d51b9721b5\n",
      "Successfully built pyforest\n",
      "Installing collected packages: pyforest\n",
      "Successfully installed pyforest-1.0.3\n"
     ]
    }
   ],
   "source": [
    "!pip install pyforest"
   ]
  },
  {
   "cell_type": "code",
   "execution_count": 8,
   "metadata": {
    "colab": {
     "base_uri": "https://localhost:8080/",
     "height": 34,
     "referenced_widgets": [
      "e3ee64712f1348839a51cf9c310d928a"
     ]
    },
    "colab_type": "code",
    "id": "E9l3GR52evVz",
    "outputId": "c289bd1f-dc1b-4a7e-cc32-c91e03a13a67"
   },
   "outputs": [
    {
     "name": "stdout",
     "output_type": "stream",
     "text": [
      "\u001b[0m\n"
     ]
    },
    {
     "data": {
      "application/vnd.jupyter.widget-view+json": {
       "model_id": "e3ee64712f1348839a51cf9c310d928a",
       "version_major": 2,
       "version_minor": 0
      },
      "text/plain": [
       "Plot(antialias=3, axes=['x', 'y', 'z'], axes_helper=1.0, background_color=16777215, camera=[0.0244948974278318…"
      ]
     },
     "metadata": {
      "tags": []
     },
     "output_type": "display_data"
    }
   ],
   "source": [
    "from dolfin import *\n",
    "from mshr import *\n",
    "from vtkplotter.dolfin import datadir, plot\n",
    "\n",
    "\"\"\"\n",
    "* https://fenicsproject.org/pub/course/lectures/2017-nordic-phdcourse/lecture_20_tools_for_visualisation.pdf\n",
    "\"\"\"\n",
    "\n",
    "#Making a cylindrical geometry\n",
    "cylinder = Cylinder(Point(0, 0, -1), Point(0, 0, 1), 0.5, 0.5)\n",
    "geometry = cylinder\n",
    "\n",
    "# Making Mesh (40 corresponds to the mesh density)\n",
    "mesh = generate_mesh(geometry, 40)\n",
    "\n",
    "# Save the mesh. Mesh object can be saved with,\n",
    "File(\"cylinder.pvd\") << mesh"
   ]
  },
  {
   "cell_type": "code",
   "execution_count": 7,
   "metadata": {
    "colab": {
     "base_uri": "https://localhost:8080/",
     "height": 216
    },
    "colab_type": "code",
    "id": "InmG21styW6p",
    "outputId": "617c6c01-f862-4354-a1de-0c128ab42c4d"
   },
   "outputs": [
    {
     "data": {
      "application/javascript": [
       "\n",
       "        if (window._pyforest_update_imports_cell) { window._pyforest_update_imports_cell('import numpy as np'); }\n",
       "    "
      ],
      "text/plain": [
       "<IPython.core.display.Javascript object>"
      ]
     },
     "metadata": {
      "tags": []
     },
     "output_type": "display_data"
    },
    {
     "data": {
      "application/javascript": [
       "\n",
       "        if (window._pyforest_update_imports_cell) { window._pyforest_update_imports_cell('import numpy as np'); }\n",
       "    "
      ],
      "text/plain": [
       "<IPython.core.display.Javascript object>"
      ]
     },
     "metadata": {
      "tags": []
     },
     "output_type": "display_data"
    },
    {
     "data": {
      "text/plain": [
       "[<matplotlib.lines.Line2D at 0x7fb08aa8f278>,\n",
       " <matplotlib.lines.Line2D at 0x7fb08aa8f438>]"
      ]
     },
     "execution_count": 7,
     "metadata": {
      "tags": []
     },
     "output_type": "execute_result"
    },
    {
     "data": {
      "image/png": "[encoded data removed]",
      "text/plain": [
       "<Figure size 432x288 with 1 Axes>"
      ]
     },
     "metadata": {
      "needs_background": "light",
      "tags": []
     },
     "output_type": "display_data"
    }
   ],
   "source": [
    "from pyforest import *\n",
    "\n",
    "# Define domain and discretization\n",
    "delta = 0.5\n",
    "length = 10.0\n",
    "diameter = 4.0\n",
    "# Create mesh\n",
    "p0 = Point(np.array([0.0, 0.0]))\n",
    "p1 = Point(np.array([length, diameter]))\n",
    "\n",
    "nx = int(length/delta)\n",
    "ny = int(diameter/delta)\n",
    "mesh = RectangleMesh(p0, p1, nx, ny)\n",
    "\n",
    "plot(mesh)"
   ]
  },
  {
   "cell_type": "code",
   "execution_count": null,
   "metadata": {},
   "outputs": [],
   "source": [
    "import sys, cmath\n",
    "import petsc4py \n",
    "petsc4py.init(sys.argv) \n",
    "from petsc4py \n",
    "import PETSc \n",
    "from dolfin import *\n",
    "from time import time \n",
    "opts = PETSc.Options()\n",
    "opts.setFromOptions()\n",
    "\n",
    "# Assign values to physical parameters\n",
    "# Import mesh file and define boundary conditions\n",
    "# Define mixed function space\n",
    "V = FunctionSpace(mesh, \"Lagrange\", 1) \n",
    "W = MixedFunctionSpace([V,V,V,V])\n",
    "\n",
    "# Define variational problem\n",
    "(T1,T2,P1,P2) = TrialFunction(W) \n",
    "(v1,v2,v3,v4) = TestFunction(W)\n",
    "S = Expression(\"exp(-(pow(x[0],2) + pow(x[1],2))\")\n",
    "a = ( B*lh*c*inner(grad(T1),grad(v1)) +B*w*inner(T2,v1)-a*g*w*w*inner(P2,v1) -B*w*inner(T1,v2)+B*lh*c*inner(grad(T2),grad(v2)) +a*g*w*w*inner(P1,v2)-a*g*lv*c*inner(grad(T1),grad(v3)) -a*g*w*w*inner(T2,v3)+g*lv*c*w*inner(grad(P1),grad(v3)) +g*w*w*inner(P2,v3)-c*c*inner(grad(P2),grad(v3)) +a*g*w*w*inner(T1,v4)-a*g*lv*c*inner(grad(T2),grad(v4)) -g*w*w*inner(P1,v4)+c*c*inner(grad(P1),grad(v4)) +g*lv*c*w*inner(grad(P2),grad(v4)) )*dx\n",
    "L = S*v1*dx\n",
    "\n",
    "# Compute solution\n",
    "u = Function(W)\n",
    "A, b = assemble_system(aa, L, bcs)\n",
    "\n",
    "# extract PETSc matrices\n",
    "A_petsc = as_backend_type(A).mat()\n",
    "b_petsc = as_backend_type(b).vec()\n",
    "x_petsc = as_backend_type(u.vector()).vec()\n",
    "\n",
    "# set up PETSc environment to read solver parameters\n",
    "ksp = PETSc.KSP().create() \n",
    "ksp.setOperators(A_petsc) \n",
    "ksp.setFromOptions()\n",
    "pc = PETSc.PC().create() \n",
    "pc.setOperators(A_petsc) \n",
    "pc.setFromOptions() \n",
    "ksp.setPC(pc)\n",
    "ksp.solve(b_petsc, x_petsc) \n",
    "(T1,T2,P1,P2) = u.split()"
   ]
  }
 ],
 "metadata": {
  "colab": {
   "collapsed_sections": [],
   "name": "Nova-realismic-development-1.ipynb",
   "provenance": []
  },
  "kernelspec": {
   "display_name": "Python 3",
   "language": "python",
   "name": "python3"
  },
  "language_info": {
   "codemirror_mode": {
    "name": "ipython",
    "version": 3
   },
   "file_extension": ".py",
   "mimetype": "text/x-python",
   "name": "python",
   "nbconvert_exporter": "python",
   "pygments_lexer": "ipython3",
   "version": "3.7.1"
  },
  "widgets": {
   "application/vnd.jupyter.widget-state+json": {
    "e3ee64712f1348839a51cf9c310d928a": {
     "model_module": "k3d",
     "model_name": "PlotModel",
     "state": {
      "_backend_version": "2.9.0",
      "_dom_classes": [],
      "_model_module": "k3d",
      "_model_module_version": "2.9.0",
      "_model_name": "PlotModel",
      "_view_count": null,
      "_view_module": "k3d",
      "_view_module_version": "2.9.0",
      "_view_name": "PlotView",
      "antialias": 3,
      "auto_rendering": true,
      "axes": [
       "x",
       "y",
       "z"
      ],
      "axes_helper": 1,
      "background_color": 16777215,
      "camera": [
       0.024494897427831806,
       0.024494897427831945,
       1.6329931618554518,
       2.7755575615628914e-17,
       1.6653345369377348e-16,
       0,
       0,
       1,
       0
      ],
      "camera_animation": [],
      "camera_auto_fit": false,
      "camera_fov": 60,
      "camera_mode": "trackball",
      "camera_no_pan": false,
      "camera_no_rotate": false,
      "camera_no_zoom": false,
      "clipping_planes": [],
      "colorbar_object_id": -1,
      "colorbar_scientific": false,
      "fps": 25,
      "fps_meter": false,
      "grid": [
       -0.49999999999999994,
       -0.49999999999999956,
       -1,
       0.5,
       0.4999999999999999,
       1
      ],
      "grid_auto_fit": true,
      "grid_visible": true,
      "height": 500,
      "layout": "IPY_MODEL_7161a40a9f3540b09dfdc01b5f4fb508",
      "lighting": 1.2,
      "manipulate_mode": "translate",
      "menu_visibility": true,
      "mode": "view",
      "name": null,
      "object_ids": [
       140396252819352
      ],
      "rendering_steps": 1,
      "screenshot": "",
      "screenshot_scale": 2,
      "snapshot": "",
      "snapshot_include_js": true,
      "time": 0,
      "voxel_paint_color": 0
     }
    }
   }
  }
 },
 "nbformat": 4,
 "nbformat_minor": 4
}
