{
 "cells": [
  {
   "cell_type": "markdown",
   "metadata": {},
   "source": [
    "# 2. Learn\n",
    "\n",
    "<input type=\"date\" name=\"created_date\" value=\"2020-10-06\">\n",
    "\n",
    "<annotation msg=\"This version of notebook is now released as <img src='https://img.icons8.com/ios/50/000000/alpha.png'\" />"
   ]
  },
  {
   "cell_type": "markdown",
   "metadata": {},
   "source": [
    "[こちら](https://www.youtube.com/watch?v=abejndOSFkw)の動画を見て、インバーターの分解に必要な器具を以下から選べ。\n",
    "\n",
    "<label><input type=\"checkbox\" name=\"tools\">\n",
    "ラジオペンチ\n",
    "</label>\n",
    "\n",
    "<label><input type=\"checkbox\" name=\"tools\">\n",
    "マイナスドライバー\n",
    "</label>\n",
    "\n",
    "<label><input type=\"checkbox\" name=\"tools\">\n",
    "トンカチ\n",
    "</label>\n",
    "\n",
    "<label><input type=\"checkbox\" name=\"tools\">\n",
    "手袋\n",
    "</label>\n",
    "\n",
    "\n",
    "<answer text=\"正解 : 全て\" explanation=\"\" >\n"
   ]
  },
  {
   "cell_type": "markdown",
   "metadata": {},
   "source": [
    "[こちら](https://www.youtube.com/watch?v=qn2XqrAAgD4)の動画を見て、イロハのうち正しいものを選べ。\n",
    "\n",
    "<label><input type=\"checkbox\" name=\"tools\">\n",
    "イ. 正弦波インバーターはスパイクによるシグナルを連続である正弦波に変換するために用いられる。\n",
    "</label>\n",
    "\n",
    "<label><input type=\"checkbox\" name=\"tools\">\n",
    "ロ. 市販のPCB基板から正弦波インバーターを作ることができる。\n",
    "</label>\n",
    "\n",
    "<label><input type=\"checkbox\" name=\"tools\">\n",
    "ハ. コントローラー -> インバーター -> ゲートドライブという順番で回路をつなぐ。\n",
    "</label>\n",
    "\n",
    "<answer text=\"正解 : イ\" explanation=\"ハに関しては、7:09を参照。\" >"
   ]
  },
  {
   "cell_type": "markdown",
   "metadata": {},
   "source": [
    "## Copyright\n",
    "\n",
    "All rights reserved for 吉延石油株式会社 and the publisher of scraped resources."
   ]
  }
 ],
 "metadata": {
  "kernelspec": {
   "display_name": "Python 3",
   "language": "python",
   "name": "python3"
  },
  "language_info": {
   "codemirror_mode": {
    "name": "ipython",
    "version": 3
   },
   "file_extension": ".py",
   "mimetype": "text/x-python",
   "name": "python",
   "nbconvert_exporter": "python",
   "pygments_lexer": "ipython3",
   "version": "3.7.1"
  }
 },
 "nbformat": 4,
 "nbformat_minor": 4
}
